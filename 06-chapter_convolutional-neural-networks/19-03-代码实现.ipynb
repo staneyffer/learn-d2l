{
 "cells": [
  {
   "cell_type": "markdown",
   "id": "4112332b-abf1-415b-b7a1-a5d0118d8d3f",
   "metadata": {},
   "source": [
    "## 图像卷积\n",
    "互相关运算"
   ]
  },
  {
   "cell_type": "code",
   "execution_count": 4,
   "id": "16bcd3ff-98c5-445d-ba41-9e9e54b05214",
   "metadata": {},
   "outputs": [],
   "source": [
    "import torch\n",
    "from torch import nn\n",
    "from d2l import torch as d2l\n",
    "\n",
    "def corr2d(X, K):\n",
    "    h, w = K.shape\n",
    "    Y = torch.zeros((X.shape[0] - h + 1, X.shape[1] - w + 1))\n",
    "    for i in range(Y.shape[0]):\n",
    "        for j in range(Y.shape[0]):\n",
    "            Y[i, j] = (X[i:i + h, j:j + w] * K).sum()\n",
    "    return Y"
   ]
  },
  {
   "cell_type": "markdown",
   "id": "e0f813c5-9712-432b-8743-3663e671163d",
   "metadata": {},
   "source": [
    "## 验证上述二维互相关运算的输出"
   ]
  },
  {
   "cell_type": "code",
   "execution_count": 5,
   "id": "0976753f-da27-4e91-ab93-58fd53661eaf",
   "metadata": {},
   "outputs": [
    {
     "data": {
      "text/plain": [
       "tensor([[19., 25.],\n",
       "        [37., 43.]])"
      ]
     },
     "execution_count": 5,
     "metadata": {},
     "output_type": "execute_result"
    }
   ],
   "source": [
    "X = torch.tensor([[0.0, 1.0, 2.0], [3.0, 4.0, 5.0], [6.0, 7.0, 8.0]])\n",
    "K = torch.tensor([[0.0, 1.0], [2.0, 3.0]])\n",
    "corr2d(X, K)"
   ]
  },
  {
   "cell_type": "markdown",
   "id": "295877c6-13e3-4564-879c-6290b0212e70",
   "metadata": {},
   "source": [
    "## 实现二维卷积层"
   ]
  },
  {
   "cell_type": "code",
   "execution_count": 6,
   "id": "4b98278a-1990-48f5-8e4b-0f97e9b4e3e3",
   "metadata": {},
   "outputs": [],
   "source": [
    "class Conv2D(nn.Module):\n",
    "    def __init__(self, kernel_size):\n",
    "        super().__init__()\n",
    "        self.weight = nn.Parameter(torch.rand(kernel_size))\n",
    "        self.bias = nn.Parameter(torch.zeros(1))\n",
    "        \n",
    "    def forward(self, X):\n",
    "        return corr2d(X, self.weight ) + self.bias\n",
    "    "
   ]
  },
  {
   "cell_type": "markdown",
   "id": "f5aa7900-25c2-49b4-adad-5cfc1c5e2271",
   "metadata": {},
   "source": [
    "## 卷积层的简单应用：检测图像中不同颜色的边缘"
   ]
  },
  {
   "cell_type": "code",
   "execution_count": 8,
   "id": "a83a5cb3-cbd4-4ce8-85ba-f30b67722aa0",
   "metadata": {},
   "outputs": [
    {
     "data": {
      "text/plain": [
       "tensor([[1., 1., 0., 0., 0., 0., 1., 1.],\n",
       "        [1., 1., 0., 0., 0., 0., 1., 1.],\n",
       "        [1., 1., 0., 0., 0., 0., 1., 1.],\n",
       "        [1., 1., 0., 0., 0., 0., 1., 1.],\n",
       "        [1., 1., 0., 0., 0., 0., 1., 1.],\n",
       "        [1., 1., 0., 0., 0., 0., 1., 1.]])"
      ]
     },
     "execution_count": 8,
     "metadata": {},
     "output_type": "execute_result"
    }
   ],
   "source": [
    "X = torch.ones((6, 8))\n",
    "X[:, 2:6] = 0\n",
    "X"
   ]
  },
  {
   "cell_type": "code",
   "execution_count": 11,
   "id": "e11fa48e-142d-41fe-819d-15fa8dc9f1be",
   "metadata": {},
   "outputs": [],
   "source": [
    "K = torch.tensor([[1.0, -1.0]])"
   ]
  },
  {
   "cell_type": "markdown",
   "id": "623d9c26-e7f9-4ce9-b239-d2a7cf71154d",
   "metadata": {},
   "source": [
    "## 输出```y```中的1代表白色到黑色的边缘，-1代表从黑色到白色的边缘"
   ]
  },
  {
   "cell_type": "code",
   "execution_count": 17,
   "id": "fd5cc61d-8124-4f96-abef-042e8fedbaeb",
   "metadata": {},
   "outputs": [
    {
     "data": {
      "text/plain": [
       "tensor([[ 0.,  1.,  0.,  0.,  0., -1.,  0.],\n",
       "        [ 0.,  1.,  0.,  0.,  0., -1.,  0.],\n",
       "        [ 0.,  1.,  0.,  0.,  0., -1.,  0.],\n",
       "        [ 0.,  1.,  0.,  0.,  0., -1.,  0.],\n",
       "        [ 0.,  1.,  0.,  0.,  0., -1.,  0.],\n",
       "        [ 0.,  1.,  0.,  0.,  0., -1.,  0.]])"
      ]
     },
     "execution_count": 17,
     "metadata": {},
     "output_type": "execute_result"
    }
   ],
   "source": [
    "Y = corr2d(X, K)\n",
    "Y"
   ]
  },
  {
   "cell_type": "markdown",
   "id": "e61f36f6-0aa3-4c02-bffb-e9b0d58fb92c",
   "metadata": {},
   "source": [
    "## 卷积核```K```只能检测垂直边缘"
   ]
  },
  {
   "cell_type": "code",
   "execution_count": 19,
   "id": "de8ca858-cd85-4822-9a22-d29bd1314041",
   "metadata": {},
   "outputs": [],
   "source": [
    "# corr2d(X.t(), K)"
   ]
  },
  {
   "cell_type": "markdown",
   "id": "ad7a32ca-41f8-43f9-abe8-c675df45a9e2",
   "metadata": {},
   "source": [
    "## 学习由```X```生成```Y```的卷积核\n"
   ]
  },
  {
   "cell_type": "code",
   "execution_count": 25,
   "id": "fb272577-a4b9-4bb4-a250-d2988b503907",
   "metadata": {},
   "outputs": [
    {
     "name": "stdout",
     "output_type": "stream",
     "text": [
      "Batch 2, loss 4.094\n",
      "Batch 4, loss 1.083\n",
      "Batch 6, loss 0.344\n",
      "Batch 8, loss 0.124\n",
      "Batch 10, loss 0.048\n",
      "Batch 12, loss 0.019\n",
      "Batch 14, loss 0.008\n",
      "Batch 16, loss 0.003\n",
      "Batch 18, loss 0.001\n",
      "Batch 20, loss 0.001\n",
      "Batch 22, loss 0.000\n",
      "Batch 24, loss 0.000\n",
      "Batch 26, loss 0.000\n",
      "Batch 28, loss 0.000\n",
      "Batch 30, loss 0.000\n",
      "Batch 32, loss 0.000\n",
      "Batch 34, loss 0.000\n",
      "Batch 36, loss 0.000\n",
      "Batch 38, loss 0.000\n",
      "Batch 40, loss 0.000\n"
     ]
    }
   ],
   "source": [
    "conv2d = nn.Conv2d(1, 1, kernel_size=(1, 2), bias=False)\n",
    "X = X.reshape((1, 1, 6, 8))\n",
    "Y = Y.reshape((1, 1, 6, 7))\n",
    "\n",
    "for i in range(40):\n",
    "    Y_hat = conv2d(X)\n",
    "    l = (Y_hat - Y) ** 2\n",
    "    conv2d.zero_grad()\n",
    "    l.sum().backward()\n",
    "    conv2d.weight.data[:] -= 3e-2 * conv2d.weight.grad\n",
    "    if (i + 1) % 2 == 0:\n",
    "        print(f'Batch {i+1}, loss {l.sum():.3f}')\n",
    "        "
   ]
  },
  {
   "cell_type": "markdown",
   "id": "6f2e7e97-31dd-4807-abe3-bb4a5ebcb161",
   "metadata": {},
   "source": [
    "## 所学的卷积核的权重张量"
   ]
  },
  {
   "cell_type": "code",
   "execution_count": 26,
   "id": "c089ab96-758a-4db1-8d0a-2357c8261a63",
   "metadata": {},
   "outputs": [
    {
     "data": {
      "text/plain": [
       "tensor([[ 1.0000, -1.0000]])"
      ]
     },
     "execution_count": 26,
     "metadata": {},
     "output_type": "execute_result"
    }
   ],
   "source": [
    "conv2d.weight.data.reshape((1, 2))"
   ]
  },
  {
   "cell_type": "code",
   "execution_count": null,
   "id": "6ed22004-3535-4c29-b727-41a3af0a5b43",
   "metadata": {},
   "outputs": [],
   "source": []
  },
  {
   "cell_type": "code",
   "execution_count": null,
   "id": "0c58c5b0-1a1b-4a79-a14e-720ed7ceafe0",
   "metadata": {},
   "outputs": [],
   "source": []
  },
  {
   "cell_type": "code",
   "execution_count": null,
   "id": "33950410-fe6a-4151-9419-2caab9a5c19c",
   "metadata": {},
   "outputs": [],
   "source": []
  }
 ],
 "metadata": {
  "kernelspec": {
   "display_name": "Python 3 (ipykernel)",
   "language": "python",
   "name": "python3"
  },
  "language_info": {
   "codemirror_mode": {
    "name": "ipython",
    "version": 3
   },
   "file_extension": ".py",
   "mimetype": "text/x-python",
   "name": "python",
   "nbconvert_exporter": "python",
   "pygments_lexer": "ipython3",
   "version": "3.8.13"
  }
 },
 "nbformat": 4,
 "nbformat_minor": 5
}
