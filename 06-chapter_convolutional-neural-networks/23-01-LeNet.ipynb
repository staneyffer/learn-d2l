{
 "cells": [
  {
   "cell_type": "markdown",
   "id": "a4061379-0af9-4d9d-bedf-32623e896a91",
   "metadata": {},
   "source": [
    "# LeNet\n",
    "\n",
    "## MNIST\n",
    "- 50,000个训练数据\n",
    "- 10,000个测试数据集\n",
    "- 图像大大小$28 \\times 28$"
   ]
  },
  {
   "cell_type": "markdown",
   "id": "1fb0e322-b601-4cc6-8759-e55dc4715246",
   "metadata": {},
   "source": [
    "![架构](http://zh-v2.d2l.ai/_images/lenet.svg)"
   ]
  },
  {
   "cell_type": "markdown",
   "id": "26ab03bd-4235-4734-95b3-2e91af65d69e",
   "metadata": {},
   "source": [
    "## 总结\n",
    "- LeNet是早期成功的神经网络\n",
    "- 先使用卷积层来学习图片空间信息\n",
    "- 然后使用全连接层来转换到类别空间"
   ]
  },
  {
   "cell_type": "code",
   "execution_count": null,
   "id": "18babd96-24bc-4f4c-8aae-70e7d4df6bc3",
   "metadata": {},
   "outputs": [],
   "source": []
  }
 ],
 "metadata": {
  "kernelspec": {
   "display_name": "Python 3 (ipykernel)",
   "language": "python",
   "name": "python3"
  },
  "language_info": {
   "codemirror_mode": {
    "name": "ipython",
    "version": 3
   },
   "file_extension": ".py",
   "mimetype": "text/x-python",
   "name": "python",
   "nbconvert_exporter": "python",
   "pygments_lexer": "ipython3",
   "version": "3.8.13"
  }
 },
 "nbformat": 4,
 "nbformat_minor": 5
}
