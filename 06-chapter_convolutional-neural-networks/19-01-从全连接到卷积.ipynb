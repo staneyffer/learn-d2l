{
 "cells": [
  {
   "cell_type": "markdown",
   "id": "8fedba4d-5c4a-46c7-93e5-5307dc241e97",
   "metadata": {},
   "source": [
    "## 回顾：单隐藏层MLP\n",
    "\n",
    "假设输入特征有```36M```，如果有100个神经元，则有```36B```参数，存储约为```14GB```"
   ]
  },
  {
   "cell_type": "markdown",
   "id": "6699586d-6d94-4625-858c-c8a30c29a9b9",
   "metadata": {},
   "source": [
    "## 两个原则\n",
    "- ### 平移不变性\n",
    "- ### 局部性"
   ]
  },
  {
   "cell_type": "markdown",
   "id": "3674b3ac-aff4-422a-86e9-e2d3d5ff3f92",
   "metadata": {},
   "source": [
    "## 重新考察全连接层\n",
    "\n",
    "- ### 将输入和输出变为矩阵（宽度，高度)\n",
    "- ### 将权重变形为4-D张量(h, w) 到($h^{'}, w^{'}$)\n",
    "$$\n",
    "h_{i, j} = \\sum_{k, l} w_{i, j, k, l} x_{k, l} = \\sum_{a, b} v_{i, j, a, b} x_{i + 1, j + b}\n",
    "$$\n",
    "\n",
    "- ### V是W的重新索引$v_{i, j, a, b}=w_{i, j, i+a, j+b}$"
   ]
  },
  {
   "cell_type": "markdown",
   "id": "04914b01-3d2d-46c8-ad48-d194a7580fd4",
   "metadata": {},
   "source": [
    "## 原则#1 - 平移不变性\n"
   ]
  },
  {
   "cell_type": "code",
   "execution_count": null,
   "id": "f636d872-6398-415f-b526-e158acc368a7",
   "metadata": {},
   "outputs": [],
   "source": []
  },
  {
   "cell_type": "code",
   "execution_count": null,
   "id": "7ff80a30-e891-44f2-9d07-00950e44c9f2",
   "metadata": {},
   "outputs": [],
   "source": []
  }
 ],
 "metadata": {
  "kernelspec": {
   "display_name": "Python 3 (ipykernel)",
   "language": "python",
   "name": "python3"
  },
  "language_info": {
   "codemirror_mode": {
    "name": "ipython",
    "version": 3
   },
   "file_extension": ".py",
   "mimetype": "text/x-python",
   "name": "python",
   "nbconvert_exporter": "python",
   "pygments_lexer": "ipython3",
   "version": "3.8.13"
  }
 },
 "nbformat": 4,
 "nbformat_minor": 5
}
