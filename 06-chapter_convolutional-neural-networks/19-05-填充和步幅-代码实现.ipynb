{
 "cells": [
  {
   "cell_type": "markdown",
   "id": "d34543cf-b79b-41d6-9d36-43ace5d23b8e",
   "metadata": {},
   "source": [
    "## 填充和步幅\n",
    "\n",
    "在素有侧边填充1个像素"
   ]
  },
  {
   "cell_type": "code",
   "execution_count": 1,
   "id": "f4e29f99-bbf1-49b2-bc78-14e0b8b51565",
   "metadata": {},
   "outputs": [
    {
     "data": {
      "text/plain": [
       "torch.Size([8, 8])"
      ]
     },
     "execution_count": 1,
     "metadata": {},
     "output_type": "execute_result"
    }
   ],
   "source": [
    "import torch\n",
    "from torch import nn\n",
    "\n",
    "def comp_conv2d(conv2d, X):\n",
    "    X = X.reshape((1, 1,) + X.shape)\n",
    "    Y = conv2d(X)\n",
    "    return Y.reshape(Y.shape[2:])\n",
    "\n",
    "conv2d = nn.Conv2d(1, 1, kernel_size=3, padding=1)\n",
    "X = torch.rand(size = (8, 8))\n",
    "comp_conv2d(conv2d, X).shape"
   ]
  },
  {
   "cell_type": "markdown",
   "id": "1dfcbded-46ef-4d44-baee-bd69d96e3ffb",
   "metadata": {},
   "source": [
    "## 填充不同的高度和宽度\n"
   ]
  },
  {
   "cell_type": "code",
   "execution_count": 2,
   "id": "78a5e9fb-04f8-4987-8f32-bbda17c05a81",
   "metadata": {},
   "outputs": [
    {
     "data": {
      "text/plain": [
       "torch.Size([8, 8])"
      ]
     },
     "execution_count": 2,
     "metadata": {},
     "output_type": "execute_result"
    }
   ],
   "source": [
    "conv2d = nn.Conv2d(1, 1, kernel_size=(5, 3), padding=(2, 1))\n",
    "comp_conv2d(conv2d, X).shape"
   ]
  },
  {
   "cell_type": "markdown",
   "id": "43ce32fc-3c8a-4172-99d2-f6de8f5f7818",
   "metadata": {},
   "source": [
    "## 将高度和宽度的步幅设置为2"
   ]
  },
  {
   "cell_type": "code",
   "execution_count": 4,
   "id": "7ec048a6-cf61-4f71-8999-345384e8289a",
   "metadata": {},
   "outputs": [
    {
     "data": {
      "text/plain": [
       "torch.Size([4, 4])"
      ]
     },
     "execution_count": 4,
     "metadata": {},
     "output_type": "execute_result"
    }
   ],
   "source": [
    "conv2d = nn.Conv2d(1, 1, kernel_size=3, padding=1, stride=2)\n",
    "comp_conv2d(conv2d, X).shape"
   ]
  },
  {
   "cell_type": "markdown",
   "id": "517213b2-465b-4512-9cdc-e97f5bcc45e1",
   "metadata": {},
   "source": [
    "## 一个稍微复杂的例子"
   ]
  },
  {
   "cell_type": "code",
   "execution_count": 6,
   "id": "d741c217-5d09-443d-b02d-a9168d24991d",
   "metadata": {},
   "outputs": [
    {
     "data": {
      "text/plain": [
       "torch.Size([2, 2])"
      ]
     },
     "execution_count": 6,
     "metadata": {},
     "output_type": "execute_result"
    }
   ],
   "source": [
    "conv2d = nn.Conv2d(1, 1, kernel_size=(3, 5), padding=(0, 1), stride=(3, 4))\n",
    "# (8 - 3 + 0 + 3)/3 = 2\n",
    "# (8 - 5 + 1 + 4)/4 = 2\n",
    "comp_conv2d(conv2d, X).shape"
   ]
  },
  {
   "cell_type": "code",
   "execution_count": null,
   "id": "479bd0da-c3c7-4ce4-81e4-26ce878b6579",
   "metadata": {},
   "outputs": [],
   "source": []
  }
 ],
 "metadata": {
  "kernelspec": {
   "display_name": "Python 3 (ipykernel)",
   "language": "python",
   "name": "python3"
  },
  "language_info": {
   "codemirror_mode": {
    "name": "ipython",
    "version": 3
   },
   "file_extension": ".py",
   "mimetype": "text/x-python",
   "name": "python",
   "nbconvert_exporter": "python",
   "pygments_lexer": "ipython3",
   "version": "3.8.13"
  }
 },
 "nbformat": 4,
 "nbformat_minor": 5
}
