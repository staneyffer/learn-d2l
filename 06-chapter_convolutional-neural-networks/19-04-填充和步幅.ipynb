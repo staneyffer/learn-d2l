{
 "cells": [
  {
   "cell_type": "markdown",
   "id": "67dae46a-534d-443e-b484-5800955fcb86",
   "metadata": {},
   "source": [
    "## 填充\n",
    "- 给定($32 \\times 32$)的输入图像\n",
    "- 应用$5 \\times 5$的卷积核\n",
    "    - 第1层得到输出大小 $28 \\times 28$\n",
    "    - 第7层得到输出大小 $4 \\times 4$\n",
    "- 更大的卷积核尅更快地减少输出大小\n",
    "    - 形状从$n_h \\times n_w$减少到\n",
    "    $$\n",
    "    (n_h - k_h + 1) \\times (n_w - k_w + 1)\n",
    "    $$"
   ]
  },
  {
   "cell_type": "markdown",
   "id": "3d94b194-4585-471b-a7eb-6e071a1a135b",
   "metadata": {},
   "source": [
    "## 填充\n",
    "\n",
    "在输入周围添加额外的行和列\n",
    "\n",
    "- 填充$p_h$行和$p_w$列，输出形状为\n",
    "$$\n",
    "(n_h - k_h + p_h + 1) \\times (n_w - k_w + p_w + 1)\n",
    "$$\n",
    "\n",
    "- 通常取$p_h = k_h - 1$, $p_w = k_w - 1$\n",
    "    - 当$k_h$为奇数： 在上下两册填充$p_h/2$\n",
    "    - 当$k_h$为偶数： 在上侧填充$\\lceil p_h/2 \\rceil$, 在下侧填充 $\\lfloor p_h/2 \\rfloor$"
   ]
  },
  {
   "cell_type": "markdown",
   "id": "11ac8e8a-17f5-4273-ab13-8615f531d7fc",
   "metadata": {},
   "source": [
    "## 步幅\n",
    "\n",
    "- 填充减少的输出大小与层数线性相关\n",
    "    - 给定输入大小$224 \\times 224$， 在使用$5 \\times 5$卷积核的情况下，需要55层将输出降低到$4 \\times 4$\n",
    "    - 需要大量计算才能得到较小输出\n",
    "- 步幅是指行、列的滑动步长\n",
    "    - 例：高度3宽度2的步幅\n",
    "- 给定高度$s_h$和宽度$s_w$的步幅，输出形状是\n",
    "$$\n",
    "\\lfloor (n_h - k_h + p_h + s_h)/s_h \\rfloor \\times \\lfloor (n_w - k_w + p_w + s_w)/s_w\\rfloor\n",
    "$$\n",
    "- 如果 $p_h = k_h - 1, p_w = k_w - 1$\n",
    "$$\n",
    "\\lfloor (n_h + s_h - 1)\\rfloor \\times \\lfloor(n_w + s_w - 1)/s_w \\rfloor\n",
    "$$\n",
    "- 如果输出高度和宽度可以被步幅整除\n",
    "$$\n",
    "(n_h/s_h) \\times (n_w /s_w)\n",
    "$$"
   ]
  },
  {
   "cell_type": "markdown",
   "id": "f47252b7-12c3-4c1a-a478-22eb6816be16",
   "metadata": {},
   "source": [
    "## 总结\n",
    "- 填充和步幅是卷积层的超参数\n",
    "- 填充在输出周围添加额外的行列，来控制输出形状的减少量\n",
    "- 步幅是每次滑动核窗口时的行和列的补偿，可以成本的减少输出形状"
   ]
  },
  {
   "cell_type": "code",
   "execution_count": null,
   "id": "346ca94f-0a6b-49c3-88a9-efba505363d9",
   "metadata": {},
   "outputs": [],
   "source": []
  }
 ],
 "metadata": {
  "kernelspec": {
   "display_name": "Python 3 (ipykernel)",
   "language": "python",
   "name": "python3"
  },
  "language_info": {
   "codemirror_mode": {
    "name": "ipython",
    "version": 3
   },
   "file_extension": ".py",
   "mimetype": "text/x-python",
   "name": "python",
   "nbconvert_exporter": "python",
   "pygments_lexer": "ipython3",
   "version": "3.8.13"
  }
 },
 "nbformat": 4,
 "nbformat_minor": 5
}
