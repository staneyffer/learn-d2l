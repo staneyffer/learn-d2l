{
 "cells": [
  {
   "cell_type": "markdown",
   "id": "8451a76a-0c82-43f0-823d-8c5dd5bcf8b7",
   "metadata": {},
   "source": [
    "## 二维卷积层\n",
    "\n",
    "- ### 输入$\\pmb X: n_h \\times n_w$\n",
    "- ### 核$\\pmb W: k_h  \\times k_w$\n",
    "- ### 偏差 $b \\in \\mathbb R$\n",
    "- ### 输出 $\\pmb Y: (n_h - k_h + 1) \\times (n_w - k_w + 1)$\n",
    "$$\n",
    "\\pmb Y = \\pmb X \\star \\pmb W + b\n",
    "$$\n",
    "其中$\\star$是二维交叉操作子\n",
    "\n",
    "- ### $\\pmb W$和$b$都是可以学习的参数\n",
    "\n",
    "## 例子\n",
    "不同的卷积和可以对图像进行特定的处理，卷积神经网络便是通过深度学习去学习相关的卷积核\n",
    "\n",
    "\n",
    "## 交叉相关和卷积\n",
    "- ### 二维交叉相关\n",
    "\n",
    "- ### 二维卷积\n",
    "\n",
    "- ### 由于对称性，在实际使用中没有区别\n",
    "\n",
    "## 一维和三维交叉相关\n",
    "\n",
    "\n",
    "## 总结\n",
    "- ### 卷积层将输入和核矩阵进行交叉相关，加上偏移后得到输出\n",
    "- ### 核矩阵和偏移是可学习操作\n",
    "- ### 核矩阵的大小是超参数"
   ]
  }
 ],
 "metadata": {
  "kernelspec": {
   "display_name": "Python 3 (ipykernel)",
   "language": "python",
   "name": "python3"
  },
  "language_info": {
   "codemirror_mode": {
    "name": "ipython",
    "version": 3
   },
   "file_extension": ".py",
   "mimetype": "text/x-python",
   "name": "python",
   "nbconvert_exporter": "python",
   "pygments_lexer": "ipython3",
   "version": "3.8.13"
  }
 },
 "nbformat": 4,
 "nbformat_minor": 5
}
