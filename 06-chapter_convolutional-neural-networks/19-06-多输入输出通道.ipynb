{
 "cells": [
  {
   "cell_type": "markdown",
   "id": "587381c6-9b95-4ef3-ad9d-56b65a2dacc0",
   "metadata": {},
   "source": [
    "## 多个输入通道\n",
    "- 彩色图片可能有RGB三个通道\n",
    "- 转换为灰度会丢失信息"
   ]
  },
  {
   "cell_type": "markdown",
   "id": "12e8a4eb-efd7-4415-ab2b-f64bf73427cc",
   "metadata": {},
   "source": [
    "## 多个输入通道\n",
    "\n",
    "- 每个通道都有一个卷积核，结果是所有通道卷积结果的和\n",
    "\n",
    "![](http://zh-v2.d2l.ai/_images/conv-multi-in.svg)"
   ]
  },
  {
   "cell_type": "markdown",
   "id": "b2e4c272-d692-428d-b243-92973475aa84",
   "metadata": {},
   "source": [
    "## 多个输入通道\n",
    "- 输入$\\pmb X: c_i \\times n_h \\times n_w$\n",
    "- 核$\\pmb W: c_i \\times k_h \\times k_w$\n",
    "- 输出$\\pmb Y: m_h \\times m_w$\n",
    "$$\n",
    "\\pmb Y = \\sum_{i=0}^{c_i} \\pmb X_{i,:,:}  \\star \\pmb W_{i,:,:}\n",
    "$$"
   ]
  },
  {
   "cell_type": "markdown",
   "id": "2837a42b-7147-45dc-8473-710a61845bb3",
   "metadata": {},
   "source": [
    "## 多个输出通道\n",
    "- 无论有多少个输入通道，到目前为止我们只用到单输出通道\n",
    "- 我们可以有多个三维卷积核，每个核生成一个输出通道\n",
    "- 输入$\\pmb X: c_i \\times n_h \\times n_w$\n",
    "- 核$\\pmb W: c_o \\times c_i \\times k_h \\times k_w$\n",
    "- 输出$\\pmb Y: c_o \\times m_h \\times m_w$\n",
    "$$\n",
    "\\pmb Y_{i,:,:} = \\pmb X \\star \\pmb W_{i,:,:,:} \\qquad \\text{for}\\quad i = 1,...,c_o\n",
    "$$"
   ]
  },
  {
   "cell_type": "markdown",
   "id": "c000d938-ac37-4608-92fb-45d2b19b0a99",
   "metadata": {},
   "source": [
    "## 多个输入和输出通道\n",
    "- 每个输出通道可以识别特定模式\n",
    "- 输入通道核识别并组合输入中的模式"
   ]
  },
  {
   "cell_type": "markdown",
   "id": "64914497-07a3-4f34-828a-4551e19969cc",
   "metadata": {},
   "source": [
    "## $1 \\times 1$卷积层\n",
    "\n",
    "$k_h = k_w = 1$是一个受欢迎的选择。它不识别空间模式，只是融合通道。\n",
    "\n",
    "![](http://zh-v2.d2l.ai/_images/conv-1x1.svg)\n",
    "\n",
    "相当于输入形状为$n_h n_w \\times c_i$, 权重为$c_o \\times c_i$的全连接层"
   ]
  },
  {
   "cell_type": "markdown",
   "id": "8a5232ce-69cc-4f79-ac60-9dc911d5012f",
   "metadata": {},
   "source": [
    "## 二维卷积层\n",
    "- 输入$\\pmb X: c_i \\times n_h \\times n_w$\n",
    "- 核$\\pmb W: c_o \\times c_i \\times k_h \\times k_w$\n",
    "- 偏差$\\pmb B: c_o \\times c_i$\n",
    "- 输出$\\pmb Y: c_o \\times m_h \\times m_w$\n",
    "$$\n",
    "\\pmb Y = \\pmb X \\star \\pmb W + \\pmb B\n",
    "$$\n",
    "- 计算复杂度(浮点数计算FLOP) $O(c_i c_o k_h k_w m_h m_w)$\n",
    "$$\n",
    "c_i = c_o = 100 \\\\\n",
    "k_h = h_w = 5 \\\\\n",
    "m_h = m_w = 64 \\\\\n",
    "\\Rightarrow \\quad 1GFLOP\n",
    "$$\n",
    "- 10层，1M样本，10PFlps(只做前向）\n",
    "\n",
    "(CPU: 0.15TF = 18h, GPU: 12TF=14min)"
   ]
  },
  {
   "cell_type": "markdown",
   "id": "066e234d-275c-406d-8a92-de922d071a23",
   "metadata": {},
   "source": [
    "## 总结\n",
    "- 输出通道是卷积层的超参数\n",
    "- 每个输入通道有独立的二维卷积核，所有通道结果相加得到一个输出通道结果\n",
    "- 每个输出通道有独立的三维卷积核"
   ]
  }
 ],
 "metadata": {
  "kernelspec": {
   "display_name": "Python 3 (ipykernel)",
   "language": "python",
   "name": "python3"
  },
  "language_info": {
   "codemirror_mode": {
    "name": "ipython",
    "version": 3
   },
   "file_extension": ".py",
   "mimetype": "text/x-python",
   "name": "python",
   "nbconvert_exporter": "python",
   "pygments_lexer": "ipython3",
   "version": "3.8.13"
  }
 },
 "nbformat": 4,
 "nbformat_minor": 5
}
