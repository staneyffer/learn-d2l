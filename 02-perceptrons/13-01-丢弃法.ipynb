{
 "cells": [
  {
   "cell_type": "markdown",
   "id": "714b608c-5cca-40b8-9c93-b8be038bc878",
   "metadata": {},
   "source": [
    "## 丢弃发\n",
    "- ### 一个好的模型对输入数据的扰动鲁棒\n",
    "    - 使用有噪音的数据等价于一个 ```Tikhonov```正则\n",
    "    - 丢弃发：在层之间加入噪音\n",
    "\n",
    "## 无偏差的加入噪音\n",
    "\n",
    "- ### 对$\\pmb x$加入噪音得到$x^{'}$，我们希望（期望不变）\n",
    "$$\n",
    "\\pmb E[\\pmb x^{'}] = \\pmb x\n",
    "$$\n",
    "- ### 丢弃发对每个元素进行如下扰动\n",
    "$$\n",
    "x_i^{'} = \\begin {cases} 0 & \\text{with probablity } p \\\\ \\frac{x_i}{1-p} & \\text{otherise} \\end{cases}\n",
    "\\\\\n",
    "E[x_i^{'}] = p \\cdot 0 + (1-p)\\frac{x_i}{1-p} \\\\\n",
    "= x_i\n",
    "$$"
   ]
  },
  {
   "cell_type": "markdown",
   "id": "802f5b5a-44ef-4fbc-90ab-589df3a29d70",
   "metadata": {},
   "source": [
    "## 使用丢弃法\n",
    "- ### 通常建哥丢弃发作用在隐藏全连接层的输出上\n",
    "$$\n",
    "\\pmb h = \\sigma(\\pmb W_1 \\pmb x + b_1) \\\\\n",
    "\\pmb h^{'} = dropout(\\pmb h) \\\\\n",
    "\\pmb o = \\pmb W_2 \\pmb h^{'} + \\pmb b_2 \\\\\n",
    "\\pmb y = \\text{softmax}(\\pmb o)\n",
    "$$\n",
    "\n",
    "## 推理中的丢弃法\n",
    "\n",
    "- ### 正则项只在训练中使用：他们影响模型参数的更新\n",
    "- ### 在推理过程中，丢弃法直接返回输出\n",
    "$$\n",
    "\\pmb h = dropout(\\pmb )\n",
    "$$\n",
    "- 这样也能保证确定性的输出"
   ]
  },
  {
   "cell_type": "markdown",
   "id": "cf569e5f-2a9d-42c7-b80b-65236e8eaf8e",
   "metadata": {},
   "source": [
    "## 总结\n",
    "- ### 丢弃法建哥一些输出项随机置0来控制模型复杂度\n",
    "- ### 常作用在多层感知机的隐藏层输出上\n",
    "- ### 丢弃概率是控制模型复杂度的超参数"
   ]
  }
 ],
 "metadata": {
  "kernelspec": {
   "display_name": "Python 3 (ipykernel)",
   "language": "python",
   "name": "python3"
  },
  "language_info": {
   "codemirror_mode": {
    "name": "ipython",
    "version": 3
   },
   "file_extension": ".py",
   "mimetype": "text/x-python",
   "name": "python",
   "nbconvert_exporter": "python",
   "pygments_lexer": "ipython3",
   "version": "3.8.13"
  }
 },
 "nbformat": 4,
 "nbformat_minor": 5
}
