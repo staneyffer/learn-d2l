{
 "cells": [
  {
   "cell_type": "markdown",
   "id": "3c6fa535-1ea9-451d-bfee-0b6454bcd27e",
   "metadata": {},
   "source": [
    "## 让训练更加稳当\n",
    "\n",
    "- ### 目标：让梯度值在合理的范围内\n",
    "    - 例如 [le-6, le3]\n",
    "- ### 将乘法变加法\n",
    "    - RestNet, LSTM\n",
    "- ### 归一化\n",
    "    - 梯度归一化，梯度剪裁\n",
    "- ### 合理的权重初始化和激活函数"
   ]
  },
  {
   "cell_type": "markdown",
   "id": "2aeaf2e6-57c4-479b-b106-402684fed191",
   "metadata": {},
   "source": [
    "## 让每层的方差都是一个常数\n",
    "- ### 建哥每层的输出和梯度都看成随机变量\n",
    "- ### 让他们的均值和方差都保持一致\n",
    "\n",
    "- 正向：\n",
    "$$\n",
    "\\mathbb E[h_i^t] = 0 \\\\\n",
    "\\text{Var}[h_i^t] = a \\quad \\text{(方差a是一个常数)}\n",
    "$$\n",
    "\n",
    "- 反向：\n",
    "$$\n",
    "\\mathbb E \\left[ \\frac{\\partial \\ell}{\\partial h_i^t} \\right] = 0 \\\\\n",
    "\\text{Var} \\left[ \\frac{\\partial \\ell}{\\partial h_i^t} \\right] = b \\quad \\forall_{i, t}\n",
    "$$"
   ]
  }
 ],
 "metadata": {
  "kernelspec": {
   "display_name": "Python 3 (ipykernel)",
   "language": "python",
   "name": "python3"
  },
  "language_info": {
   "codemirror_mode": {
    "name": "ipython",
    "version": 3
   },
   "file_extension": ".py",
   "mimetype": "text/x-python",
   "name": "python",
   "nbconvert_exporter": "python",
   "pygments_lexer": "ipython3",
   "version": "3.8.13"
  }
 },
 "nbformat": 4,
 "nbformat_minor": 5
}
