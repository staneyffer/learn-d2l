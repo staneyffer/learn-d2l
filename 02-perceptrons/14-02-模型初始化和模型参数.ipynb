{
 "cells": [
  {
   "cell_type": "markdown",
   "id": "3c6fa535-1ea9-451d-bfee-0b6454bcd27e",
   "metadata": {},
   "source": [
    "## 让训练更加稳当\n",
    "\n",
    "- ### 目标：让梯度值在合理的范围内\n",
    "    - 例如 [le-6, le3]\n",
    "- ### 将乘法变加法\n",
    "    - RestNet, LSTM\n",
    "- ### 归一化\n",
    "    - 梯度归一化，梯度剪裁\n",
    "- ### 合理的权重初始化和激活函数"
   ]
  },
  {
   "cell_type": "markdown",
   "id": "2aeaf2e6-57c4-479b-b106-402684fed191",
   "metadata": {},
   "source": [
    "## 让每层的方差都是一个常数\n",
    "- ### 建哥每层的输出和梯度都看成随机变量\n",
    "- ### 让他们的均值和方差都保持一致\n",
    "\n",
    "- 正向：\n",
    "$$\n",
    "\\mathbb E[h_i^t] = 0 \\\\\n",
    "\\text{Var}[h_i^t] = a \\quad \\text{(方差a是一个常数)}\n",
    "$$\n",
    "\n",
    "- 反向：\n",
    "$$\n",
    "\\mathbb E \\left[ \\frac{\\partial \\ell}{\\partial h_i^t} \\right] = 0 \\\\\n",
    "\\text{Var} \\left[ \\frac{\\partial \\ell}{\\partial h_i^t} \\right] = b \\quad \\forall_{i, t}\n",
    "$$"
   ]
  },
  {
   "cell_type": "markdown",
   "id": "31199795-c5bc-4a20-acbc-051565770118",
   "metadata": {},
   "source": [
    "## 权重初始化\n",
    "- ### 在合理区间里随机初始化参数\n",
    "- ### 在训练开始时更容易有数值不稳定\n",
    "    - 原理最优解的地方损失函数可能很复杂\n",
    "    - 最优解附近表面会比较平\n",
    "- ### 使用 $\\mathcal N(0, 0.01)$来初始化可能对小网络没问题，但不能保证深度网络没问题"
   ]
  },
  {
   "cell_type": "markdown",
   "id": "d8bbe242-1d4b-4fdb-a55f-61bfd5a4d2bd",
   "metadata": {},
   "source": [
    "## 例子: MLP\n",
    "- ### 假设\n",
    "    - （t是层数）$w_{i, j}^t$是$i.i.d$(独立同分布：两个是相互独立的随机变量，但概率分布相同)，那么均值$\\mathbb E[w_{i, j}^t] = 0$, 方差$Var[w_{i, j}^t] = \\gamma_t$\n",
    "    - $h_i^{t-1}$独立于$w_{i, j}^t$\n",
    "- ### 假设没有激活函数 $\\pmb h^t = \\pmb W^t \\pmb h^{t-1}$, 这里$\\pmb W^t \\in \\mathbb R^{n_t \\times n_{t-1}}$\n",
    "$$\n",
    "\\mathbb E[h_i^t] = \\mathbb E \\left[ \\sum_j w_{i, j}^t h_j^{t -1} \\right] = \\sum_j \\mathbb E[w_{i, j}^t] \\mathbb E[h_j^{t-1}] = 0\n",
    "$$\n",
    "注, 独立随机变量: $P(AB) = P(A)P(B)$\n",
    "\n",
    "## 正向方差\n",
    "方差的定义: $D(X) = E(X^2) - E(X) ^2$\n",
    "$$\n",
    "Var[h_i^t] = \\mathbb E[(h_i^t)^2] - \\mathbb E[h_i^t]^2 = \\mathbb E \\left[ \\left(\\sum_j w_{i, j}^t h_{j}^{t-1} \\right)\\right] \\\\\n",
    "= \\mathbb E \\left[ \\sum_j(w_{i,j}^t)^2(h_j^{t-1})^2  + \\sum_{j \\neq k} w_{i,j}^t w_{i,k}^t h_j^{t-1}h_k^{t-1}\\right]\n",
    "$$\n",
    "其中，根据前面的推导，第二项为0\n",
    "$$\n",
    "= \\sum_j \\mathbb E \\left[ (w_{i, j}^t)^2 \\right] \\mathbb E \\left[(h_j^{t-1})^2\\right] \n",
    "= \\sum _j Var[w_{i,j}^t] Var[h_j^{t-1}] \\\\\n",
    "= n_{t-1} \\gamma_t Var[h_j^{t-1}]\n",
    "$$\n",
    "推出: $n_{t-1} \\gamma_t = 1$"
   ]
  },
  {
   "cell_type": "markdown",
   "id": "a94fcccb-898a-4099-9366-77ec52f2cc88",
   "metadata": {},
   "source": [
    "## 反项均值和方差\n",
    "- ### 跟正向情况类似\n",
    "$$\n",
    "\\frac{\\partial \\ell}{\\partial \\pmb h^{t-1}} = \\frac{\\partial \\ell}{\\partial \\pmb h^t}\\pmb W^t \n",
    "=> \\left(\\frac{\\partial \\ell}{\\partial \\pmb h^{t-1}} \\right)^T = (W^t)^T \\left( \\frac{\\partial \\ell}{\\partial \\pmb h^t} \\right) \\\\\n",
    "\\mathbb E \\left[ \\frac{\\partial \\ell }{\\partial h_i^{t-1}}\\right] = 0 \\\\\n",
    "Var \\left[\\frac{\\partial \\ell}{\\partial h_i^{t-1}} \\right] = n_t\\gamma_t Var\\left[\\frac{\\partial \\ell}{\\partial h_j^t} \\right] \n",
    "=> n_t \\gamma_t = 1\n",
    "$$\n",
    "\n"
   ]
  },
  {
   "cell_type": "markdown",
   "id": "3c5d2fea-781e-46f9-b010-6d4b6513811c",
   "metadata": {},
   "source": [
    "## Xavier初始化\n",
    "- ### 难以需要满足 $n_{t-1}\\gamma_t = 1$ 和$n_t\\gamma_t = 1$\n",
    "- Xavier使得$\\gamma_t(n_{t-1} + n_t) /2 = 1  \\quad \\rightarrow \\quad \\gamma_t = 2/(n_{t-1} + n_t)$ \n",
    "    - 正态分布 $\\mathcal N(0, \\sqrt{1/(n_{t-1} + n_t)})$\n",
    "    - 均匀分布 $\\mathcal u(-\\sqrt{6/(n_{t-1} + n_t)}, \\sqrt{6/(n_{t-1} + n_t)})$\n",
    "        - 分布 $\\mathcal u[-a, a]$和方差是$a^2 / 3$\n",
    "- ### 适配权重形状变换，特别是$n_t$"
   ]
  },
  {
   "cell_type": "markdown",
   "id": "02001281-7ddd-45fc-8698-a3d7cad9303c",
   "metadata": {},
   "source": [
    "## 假设线性的激活函数\n",
    "- ### 假设$\\sigma(x) = \\alpha x + \\beta$\n",
    "$$\n",
    "\\pmb h^{'} = \\pmb W^t \\pmb h^{t-1} \\quad \\text{and} \\quad \\pmb h^t = \\sigma(\\pmb h^{'}) \\\\\n",
    "\\mathbb E[h_i^t] = \\mathbb E[\\alpha h_i^{'} + \\beta] = \\beta  \\qquad \\Rightarrow \\beta = 0 \\\\\n",
    "\\begin{eqnarray}\n",
    "Var[h_i^t] &=& \\mathbb E[(h_i^t)^2] - \\mathbb[h_i^t]^2 \\\\\n",
    "&=& \\mathbb E [(\\alpha h_i^{'} + \\beta)^2] - \\beta^2  \\qquad \\Rightarrow \\alpha = 1 \\\\\n",
    "&=& \\mathbb E[\\alpha ^2(h_i^{'})^2 + 2 \\alpha \\beta h_i^{'} + \\beta^2] - \\beta^2 \\\\\n",
    "&=& \\alpha^2 Var[h_i^{'}]\n",
    "\\end{eqnarray}\n",
    "$$"
   ]
  },
  {
   "cell_type": "markdown",
   "id": "5805e1df-b37c-4700-814e-d9719ef3982e",
   "metadata": {},
   "source": [
    "## 反向\n",
    "- ### 假设$\\sigma(x) = \\alpha x + \\beta$\n",
    "$$\n",
    "\\frac{\\partial \\ell}{\\partial \\pmb h^{'}} = \\frac{\\partial \\ell}{\\partial \\pmb h^t} (W^t)^T \\quad \\text{and} \\quad \\frac{\\partial \\ell}{\\partial \\pmb h^{t-1}} = \\alpha \\frac{\\partial \\ell}{\\partial \\pmb h^{'}} \\\\\n",
    "\\mathbb E \\left[ \\frac{\\partial \\ell}{\\partial h_i^{t-1}}\\right] = 0  \\qquad \\qquad \\Longrightarrow \\beta = 0 \\\\\n",
    "Var \\left[ \\frac{\\partial \\ell}{\\partial h_i^{t-1}}\\right] = \\alpha^2 Var \\left[ \\frac{\\partial \\ell}{\\partial h_j^{'}}\\right] \\qquad \\qquad \\Longrightarrow \\alpha = 1\n",
    "$$"
   ]
  },
  {
   "cell_type": "markdown",
   "id": "81af51a5-27b5-49fe-a66d-b44238eca65c",
   "metadata": {},
   "source": [
    "## 检查常用激活函数\n",
    "- ### 使用泰勒展开\n",
    "$$\n",
    "\\begin{eqnarray}\n",
    "\\text{sigmoid}(x) &=& \\frac{1}{2} + \\frac{x}{4} - \\frac{x^2}{48} + O(x^5) \\\\\n",
    "\\text{tanh}(x) &=&0 + x - \\frac{x^3}{3} + O(x^5) \\\\\n",
    "\\text{relu}(x) &=&0 + x \\quad \\text{for} x \\ge 0\n",
    "\\end{eqnarray}\n",
    "$$"
   ]
  },
  {
   "cell_type": "markdown",
   "id": "43bf0cc6-f0b7-4356-963c-a4b9f2ee9dfd",
   "metadata": {},
   "source": [
    "- ### 调整sigmoid:\n",
    "$$\n",
    "x \\times \\text{sigmoid}(x) - 2\n",
    "$$"
   ]
  },
  {
   "cell_type": "markdown",
   "id": "a85cf6b8-d255-4741-87ee-b7f2998c8c45",
   "metadata": {},
   "source": [
    "## 多语言代码块测试\n",
    "\n",
    "```java []\n",
    "System.out.println(\"hello, world\")\n",
    "```\n",
    "```python []\n",
    "print(\"hello, world, im python\")\n",
    "```"
   ]
  }
 ],
 "metadata": {
  "kernelspec": {
   "display_name": "Python 3 (ipykernel)",
   "language": "python",
   "name": "python3"
  },
  "language_info": {
   "codemirror_mode": {
    "name": "ipython",
    "version": 3
   },
   "file_extension": ".py",
   "mimetype": "text/x-python",
   "name": "python",
   "nbconvert_exporter": "python",
   "pygments_lexer": "ipython3",
   "version": "3.8.13"
  }
 },
 "nbformat": 4,
 "nbformat_minor": 5
}
