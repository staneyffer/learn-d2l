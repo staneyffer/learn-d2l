{
 "cells": [
  {
   "cell_type": "markdown",
   "id": "a570c014-5e3a-4157-b08f-2b76c980831c",
   "metadata": {},
   "source": [
    "## 权重衰退"
   ]
  },
  {
   "cell_type": "markdown",
   "id": "c839ee28-a1d2-4cd6-9ae5-935b658a283c",
   "metadata": {},
   "source": [
    "## 参数更新法则\n",
    "- ### 计算梯度\n",
    "$$\n",
    "\\frac{\\partial}{\\partial \\pmb w} (\\ell(\\pmb w, b) + \\frac{\\lambda}{2}\\begin{Vmatrix}\\pmb w \\end{Vmatrix}^2) = \\frac{\\partial \\ell(\\pmb w, b)}{\\partial \\pmb w} + \\lambda \\pmb w\n",
    "$$\n",
    "\n",
    "- ### 时间t更新参数\n",
    "$$\n",
    "\\pmb W_{t+1} = (1-\\eta \\lambda) \\pmb W_t - \\ell \\frac{\\partial \\ell(\\pmb W_t, b_t)}{\\partial W_t}\n",
    "$$\n",
    "    - 通常 $\\ell \\lambda < 1$， 在深度学习中通常叫做权重衰退"
   ]
  },
  {
   "cell_type": "markdown",
   "id": "ad01035a-9a79-4ab3-b9a1-8129bb0a47d3",
   "metadata": {},
   "source": [
    "## 总结\n",
    "\n",
    "- ### 权重衰退通过L2正则项使得模型参数不会过大，从而控制模型复杂度\n",
    "- ### 正则项权重是控制模型复杂度的超参数"
   ]
  }
 ],
 "metadata": {
  "kernelspec": {
   "display_name": "Python 3 (ipykernel)",
   "language": "python",
   "name": "python3"
  },
  "language_info": {
   "codemirror_mode": {
    "name": "ipython",
    "version": 3
   },
   "file_extension": ".py",
   "mimetype": "text/x-python",
   "name": "python",
   "nbconvert_exporter": "python",
   "pygments_lexer": "ipython3",
   "version": "3.8.13"
  }
 },
 "nbformat": 4,
 "nbformat_minor": 5
}
