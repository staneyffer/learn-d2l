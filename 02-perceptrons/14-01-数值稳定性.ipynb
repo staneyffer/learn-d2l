{
 "cells": [
  {
   "cell_type": "markdown",
   "id": "6c55bdae-94c4-4d70-9839-3055729a071f",
   "metadata": {},
   "source": [
    "## 神经网络的梯度\n",
    "- ### 考虑如下有d层的神经网络\n",
    "$$\n",
    "\\pmb h^t = f_t(\\pmb h^{t-1}) \\quad \\text{and} \\quad y = \\ell \\circ f_d \\circ ... \\circ f_1(\\pmb x)\n",
    "$$\n",
    "- ### 计算损失$\\ell$关于参数 $\\pmb W_t$的梯度(链式法则逐层求导）\n",
    "$$\n",
    "\\frac{\\partial \\ell}{\\partial \\pmb W^t} = \\frac{\\partial \\ell}{\\partial \\pmb h^d} \\frac{\\partial \\pmb h^d}{\\partial \\pmb h^{d-1}} ... \\frac{\\partial \\pmb h^{t+1}}{\\partial \\pmb h^t} \\frac{\\partial \\pmb h^t}{\\partial \\pmb W^t}\n",
    "$$\n",
    "\n",
    "其中$\\pmb h$是一个向量，向量关于向量的导数是一个矩阵"
   ]
  },
  {
   "cell_type": "markdown",
   "id": "0756da91-9627-4e9f-953e-22046bb30d63",
   "metadata": {},
   "source": [
    "## 数值稳定性的常见的两个问题\n",
    "- ### 梯度爆炸\n",
    "\n",
    "- ### 梯度消失"
   ]
  },
  {
   "cell_type": "markdown",
   "id": "3c4507f9-8ba3-4135-b7a3-12533539aae2",
   "metadata": {},
   "source": [
    "## 梯度爆炸的问题\n",
    "- ### 值超出值域（infinity)\n",
    "    - 对于16位浮点数尤为严重（数值区间6e-5 - 6e4)\n",
    "- ### 对学习率敏感\n",
    "    - 如果学习率太大 -> 大参数值 -> 更大的梯度\n",
    "    - 如果学习率太小 -> 训练无进展\n",
    "    - 我们可能需要在训练过程中不断调整学习率"
   ]
  },
  {
   "cell_type": "markdown",
   "id": "bcf6abf2-f2f3-4b2c-b56a-6bf04833004e",
   "metadata": {},
   "source": [
    "## 梯度消失的问题\n",
    "- ### 梯度只变成0\n",
    "    - 对16位浮点数尤为严重\n",
    "- ### 训练没有进展\n",
    "    - 不管如何选择学习率\n",
    "- ### 对于底部尤为严重\n",
    "    - 仅仅顶部层训练的较好\n",
    "    - 无法让神经网路更深"
   ]
  },
  {
   "cell_type": "markdown",
   "id": "3d299b8e-e2e6-4bc5-8ddd-e2aca132fa54",
   "metadata": {},
   "source": [
    "## 总结\n",
    "- ### 当数值过大或者过小时会导致数值问题\n",
    "- ### 常发生在深度模型中，因为其会对n个数累乘"
   ]
  }
 ],
 "metadata": {
  "kernelspec": {
   "display_name": "Python 3 (ipykernel)",
   "language": "python",
   "name": "python3"
  },
  "language_info": {
   "codemirror_mode": {
    "name": "ipython",
    "version": 3
   },
   "file_extension": ".py",
   "mimetype": "text/x-python",
   "name": "python",
   "nbconvert_exporter": "python",
   "pygments_lexer": "ipython3",
   "version": "3.8.13"
  }
 },
 "nbformat": 4,
 "nbformat_minor": 5
}
