{
 "cells": [
  {
   "cell_type": "markdown",
   "id": "c1c3f5c2-f3c2-4d00-b5de-f8d8867dc9fd",
   "metadata": {},
   "source": [
    "## 感知机\n",
    "- ### 给定输入$\\pmb x$， 权重$\\pmb w$，和偏移$\\pmb b$，感知机输出:\n",
    "$$\n",
    "o = \\sigma(\\langle \\pmb w, \\pmb x \\rangle + b) \\qquad \\sigma(x) = \\begin{cases} 1 & \\text{if x > 0} \\\\ -1 & \\text{otherwise} \\end{cases}\n",
    "$$\n",
    "\n",
    "- ### 二分类: -1 或1\n",
    "    - 线性回归输出实数\n",
    "    - Softmax回归输出多个分类的概率\n",
    "    - 感知机输出离散的类"
   ]
  },
  {
   "cell_type": "markdown",
   "id": "6347daf7-31b1-43ef-ab1f-20bf16193068",
   "metadata": {},
   "source": [
    "## 训练感知机\n",
    "\n",
    "**初始化** $w = 0 \\quad and \\quad b = 0$\n",
    "\n",
    "**repeat**\n",
    "\n",
    "   **if** $y_i[\\langle w, x_i \\rangle + b] \\leq 0 $ then\n",
    "   $$\n",
    "   w \\leftarrow w + y_i x_i \\quad {and} \\quad b \\leftarrow b + y_i\n",
    "   $$\n",
    "   **end if**\n",
    "   \n",
    "**直到所有分类正确**\n",
    "\n",
    "\n",
    "上面，$if$中, $y_i$表示第$i$个样本的值，$x_i$表示第$i$个样本的输入, $y_i[\\langle w, x_i \\rangle + b] \\leq 0 $表示第$i$个样本的输出 **乘以** $\\langle w, x_i \\rangle + b$的结果小于等于0， 出现这样的情况说明分类出现了错误（违背了$\\sigma$函数的定义, 输入输出异号相乘为正数，输入为0的情况比较特殊，此处定义为错误分类），需要更新参数。\n",
    "\n",
    "### 等价于使用批量大小为1的梯度下降，并使用以下损失函数:\n",
    "$$\n",
    "\\ell (y, \\pmb x, \\pmb w) = \\text{max} (0, - \\langle \\pmb w, \\pmb x \\rangle)\n",
    "$$"
   ]
  },
  {
   "cell_type": "markdown",
   "id": "ed5faa59-57ee-4146-9657-98ef8d4096a7",
   "metadata": {},
   "source": [
    "## 收敛定理"
   ]
  },
  {
   "cell_type": "markdown",
   "id": "2105baed-89a7-4843-b2ae-310489321ab6",
   "metadata": {},
   "source": [
    "## XOR问题\n",
    "\n",
    "### 感知机不能拟合XOR函数，它只能产生线性分割面"
   ]
  },
  {
   "cell_type": "markdown",
   "id": "51223e8f-2843-4046-b7eb-23dc33ec873e",
   "metadata": {},
   "source": [
    "## 总结\n",
    "\n",
    "- ### 感知机是一个二分类模型，是最早的AI模型之一\n",
    "- ### 它的求解算法等价于使用批量为1的梯度下降\n",
    "- ### 它不能拟合XOR函数，导致了第一次AI寒冬"
   ]
  }
 ],
 "metadata": {
  "kernelspec": {
   "display_name": "Python 3 (ipykernel)",
   "language": "python",
   "name": "python3"
  },
  "language_info": {
   "codemirror_mode": {
    "name": "ipython",
    "version": 3
   },
   "file_extension": ".py",
   "mimetype": "text/x-python",
   "name": "python",
   "nbconvert_exporter": "python",
   "pygments_lexer": "ipython3",
   "version": "3.8.13"
  }
 },
 "nbformat": 4,
 "nbformat_minor": 5
}
