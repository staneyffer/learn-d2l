{
 "cells": [
  {
   "cell_type": "markdown",
   "id": "0d10268e-2a82-4421-a637-b661af8bb50b",
   "metadata": {},
   "source": [
    "## 训练误差和泛化误差\n",
    "\n",
    "- ### 训练误差： 模型在训练数据上的误差\n",
    "- ### 泛化误差： 模型在新数据上的误差\n",
    "\n",
    "## 验证数据集和测试数据集\n",
    "\n",
    "- ### 验证数据集： 一个用来评估模型好坏的数据集\n",
    "    - 例如拿出50%的训练数据\n",
    "    - 不要跟训练数据混在一起（常犯错误）\n",
    "- ### 测试数据集：只用一次的数据集。例如：\n",
    "    - 未来的考试\n",
    "    - 我出价的房子的实际成交价\n",
    "    - 用在Kaggle私有排行榜的数据集\n",
    "\n",
    "## K-则交叉验证\n",
    "- ### 在没有足够多的时候使用（这是常态）\n",
    "- ### 算法：\n",
    "    - 将训练数据集分割成K块\n",
    "    - For i = 1, ..., K\n",
    "        - 使用第i块作为验证数据集，其余的作为训练数据集\n",
    "    - 报告K个验证集的误差的平均\n",
    "- ### 常用：K=5或者10（3折：66%的数据用于训练）\n",
    "\n",
    "## 总结\n",
    "- ### 训练数据集： 训练模型参数\n",
    "- ### 验证数据集： 选择模型超参数\n",
    "- ### 非大数据集通常使用k-折交叉验证"
   ]
  }
 ],
 "metadata": {
  "kernelspec": {
   "display_name": "Python 3 (ipykernel)",
   "language": "python",
   "name": "python3"
  },
  "language_info": {
   "codemirror_mode": {
    "name": "ipython",
    "version": 3
   },
   "file_extension": ".py",
   "mimetype": "text/x-python",
   "name": "python",
   "nbconvert_exporter": "python",
   "pygments_lexer": "ipython3",
   "version": "3.8.13"
  }
 },
 "nbformat": 4,
 "nbformat_minor": 5
}
