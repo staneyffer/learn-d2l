{
 "cells": [
  {
   "cell_type": "markdown",
   "id": "01eb0a3b-b8e9-4052-8599-8e614fa26db4",
   "metadata": {},
   "source": [
    "## 语言模型\n",
    "- 给定文本序列$x_1, ...,x_T$， 语言模型的目标是估计联合概率$p(x_1, ..., x_T)$\n",
    "- 它的应用包括\n",
    "    - 做预训练模型(eg. BERT, GPT-3)\n",
    "    - 生成文本, 给定前面几个词，不断地使用$x_t \\sim p(x_t|$x_1, ..., x_{t-1})来生成后续文本\n",
    "    - 判断多个序列中哪个更常见(可用在语音识别中）"
   ]
  },
  {
   "cell_type": "markdown",
   "id": "8e0a2ae5-144e-41eb-a4ca-9b11e1fa49ca",
   "metadata": {},
   "source": [
    "### 是用计数来建模\n",
    "- 假设序列长度为2, 我们预测\n",
    "$$\n",
    "p(x, x^{'}) = p(x)p(x^{'} | x) = \\frac{n(x)}{n} \\frac{n(x, x^{'})}{n(x)}\n",
    "$$\n",
    "    - 这里$n$是总次数，$n(x), n(x,\\hat{x})$是单个单词和连续单词对的出现次数\n",
    "\n",
    "- 很容易扩展到长为3的情况\n",
    "$$\n",
    "p(x, x^{'}, x^{''}) =p(x)p(x^{'} | x)p(x^{''}|x, x^{'}) = \\frac{n(x)}{n} \\frac{n(x,x^{'})}{n(x)} \\frac{n(x, x^{'}, x^{''})}{n(x, x^{'})}\n",
    "$$"
   ]
  },
  {
   "cell_type": "markdown",
   "id": "198e6ed6-1901-4bbc-9216-39f6098cea13",
   "metadata": {},
   "source": [
    "### N元语法\n",
    "- 当序列很长时，因为文本量不够大，很可能$n(x_1, ..., x_T) \\le 1$\n",
    "- 使用马尔科夫假设可以缓解这个问题\n",
    "    - 一元语法:\n",
    "$$\n",
    "p(x_1, x_2, x_3, x_4) = p(x_1)p(x_2)p(x_3)p(x_4) = \\frac{n(x_1)}{n} \\frac{n(x_2)}{n} \\frac{n(x_3)}{n} \\frac{n(x_4)}{n}\n",
    "$$\n",
    "    - 二元语法:\n",
    "$$\n",
    "p(x_1, x_2, x_3, x_4) = p(x1)p(x_2|x_1)p(x_3|x_2)p(x_4| x_3)\n",
    "$$\n",
    "\n",
    "    - 三元语法：\n",
    "$$\n",
    "p(x_1, x_2, x_3, x_4) = p(x1)p(x_2|x_1)p(x_3|x_1, x_2)p(x_4|x_2, x_3)\n",
    "$$"
   ]
  },
  {
   "cell_type": "markdown",
   "id": "3df0a216-98cf-4c90-a2f3-f619847bf1ec",
   "metadata": {},
   "source": [
    "## 总结\n",
    "- 语言模型估计文本序列的联合概率\n",
    "- 使用统计方法时常用N元语法"
   ]
  }
 ],
 "metadata": {
  "kernelspec": {
   "display_name": "Python 3 (ipykernel)",
   "language": "python",
   "name": "python3"
  },
  "language_info": {
   "codemirror_mode": {
    "name": "ipython",
    "version": 3
   },
   "file_extension": ".py",
   "mimetype": "text/x-python",
   "name": "python",
   "nbconvert_exporter": "python",
   "pygments_lexer": "ipython3",
   "version": "3.8.13"
  }
 },
 "nbformat": 4,
 "nbformat_minor": 5
}
