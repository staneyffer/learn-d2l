{
 "cells": [
  {
   "cell_type": "markdown",
   "id": "f5517f90-ada3-4028-9c5d-0ec137815fb2",
   "metadata": {},
   "source": [
    "## 将数据集读取到由多条文本行组成的列表中"
   ]
  },
  {
   "cell_type": "code",
   "execution_count": 15,
   "id": "7d7a816e-f44b-4037-806f-46440eddd576",
   "metadata": {},
   "outputs": [
    {
     "name": "stdout",
     "output_type": "stream",
     "text": [
      "# 文本总行数: 3221\n",
      "the time machine by h g wells\n",
      "twinkled and his usually pale face was flushed and animated the\n"
     ]
    }
   ],
   "source": [
    "import torch\n",
    "from torch import nn\n",
    "from d2l import torch as d2l\n",
    "import re\n",
    "\n",
    "d2l.DATA_HUB['time_machine'] = (d2l.DATA_URL + 'timemachine.txt',\n",
    "                                '090b5e7e70c295757f55df93cb0a180b9691891a')\n",
    "\n",
    "def read_time_machine(): \n",
    "    \"\"\"将时间机器数据集加载到文本行的列表中\"\"\"\n",
    "    with open(d2l.download('time_machine'), 'r') as f:\n",
    "        lines = f.readlines()\n",
    "    # 将非大小写的字符转为空格\n",
    "    return [re.sub('[^A-Za-z]+', ' ', line).strip().lower() for line in lines]\n",
    "\n",
    "lines = read_time_machine()\n",
    "print(f'# 文本总行数: {len(lines)}')\n",
    "print(lines[0])\n",
    "print(lines[10])"
   ]
  },
  {
   "cell_type": "markdown",
   "id": "5b173358-a4b9-4283-9558-41ec3a266743",
   "metadata": {},
   "source": [
    "### 每个文本序列又被拆分成一个标记列表"
   ]
  },
  {
   "cell_type": "code",
   "execution_count": 7,
   "id": "80d70b9b-9a00-452f-83db-8c27dc3214bb",
   "metadata": {},
   "outputs": [
    {
     "name": "stdout",
     "output_type": "stream",
     "text": [
      "['the', 'time', 'machine', 'by', 'h', 'g', 'wells']\n",
      "[]\n",
      "[]\n",
      "[]\n",
      "[]\n",
      "['i']\n",
      "[]\n",
      "[]\n",
      "['the', 'time', 'traveller', 'for', 'so', 'it', 'will', 'be', 'convenient', 'to', 'speak', 'of', 'him']\n",
      "['was', 'expounding', 'a', 'recondite', 'matter', 'to', 'us', 'his', 'grey', 'eyes', 'shone', 'and']\n",
      "['twinkled', 'and', 'his', 'usually', 'pale', 'face', 'was', 'flushed', 'and', 'animated', 'the']\n"
     ]
    }
   ],
   "source": [
    "def tokenize(lines, token='word'):\n",
    "    if token == 'word':\n",
    "        return [line.split() for line in lines]\n",
    "    elif token == 'char':\n",
    "        return [list(line) for line in lines]\n",
    "    else:\n",
    "        print('错误：未知令牌类型: ' + token)\n",
    "tokens = tokenize(lines)\n",
    "\n",
    "for i in range(11):\n",
    "    print(tokens[i])"
   ]
  },
  {
   "cell_type": "markdown",
   "id": "69ddf941-5807-4dfe-8434-536189b8e375",
   "metadata": {},
   "source": [
    "### 构建一个字典，通常也叫做词汇表（vocabulary), 用来讲字符串类型的标记隐射到从0开始的数字索引中"
   ]
  },
  {
   "cell_type": "code",
   "execution_count": 8,
   "id": "2ee14ec2-2361-4540-8543-4d6311541e3a",
   "metadata": {},
   "outputs": [],
   "source": [
    "from typing import Dict, List\n",
    "import collections\n",
    "class Vocab:\n",
    "    \"\"\"文本词汇表\"\"\"\n",
    "    def __init__(self, tokens=None, min_freq=0, reserved_tokens=None):\n",
    "        if tokens is None:\n",
    "            tokens = []\n",
    "        if reserved_tokens is None:\n",
    "            reserved_tokens = []\n",
    "        counter: Dict = count_corpus(tokens)\n",
    "        # 按词频从大到小排序\n",
    "        self.token_freqs = sorted(counter.items(), key=lambda x: x[1], reverse=True)\n",
    "        # 位置token下表为0\n",
    "        self.unk, uniq_tokens = 0, ['<unk>'] + reserved_tokens\n",
    "        uniq_tokens += [\n",
    "            token for token, freq in self.token_freqs \n",
    "            if freq >= min_freq and token not in uniq_tokens\n",
    "        ]\n",
    "        self.idx_to_token, self.token_to_idx = [], dict()\n",
    "        for token in uniq_tokens:\n",
    "            self.idx_to_token.append(token)\n",
    "            self.token_to_idx[token] = len(self.idx_to_token) - 1\n",
    "            \n",
    "    def __len__(self):\n",
    "        return len(self.idx_to_token)\n",
    "    \n",
    "    def __getitem__(self, tokens):\n",
    "        if not isinstance(tokens, (list, tuple)):\n",
    "            return self.token_to_idx.get(tokens, self.unk)\n",
    "        return [self.__getitem__(token) for token in tokens]\n",
    "    \n",
    "    def to_tokens(self, indices):\n",
    "        if not isinstance(indices, (list, tuple)):\n",
    "            return self.idx_to_token[indices]\n",
    "        return [self.idx_to_token[index] for index in indices]\n",
    "        \n",
    "def count_corpus(tokens):\n",
    "    \"\"\"统计词频\"\"\"\n",
    "    if len(tokens) == 0 or isinstance(tokens[0], list):\n",
    "        \"\"\"flatmap\"\"\"\n",
    "        tokens = [token for line in tokens for token in line]\n",
    "    return collections.Counter(tokens)\n",
    "        "
   ]
  },
  {
   "cell_type": "markdown",
   "id": "bc13ca46-e780-43c8-a482-7eedddac85d3",
   "metadata": {},
   "source": [
    "### 构建词汇表"
   ]
  },
  {
   "cell_type": "code",
   "execution_count": 10,
   "id": "30a1c86e-7c7c-4f8e-b9a4-a1536ca2f049",
   "metadata": {},
   "outputs": [
    {
     "name": "stdout",
     "output_type": "stream",
     "text": [
      "[('<unk>', 0), ('the', 1), ('i', 2), ('and', 3), ('of', 4), ('a', 5), ('to', 6), ('was', 7), ('in', 8), ('that', 9)]\n"
     ]
    }
   ],
   "source": [
    "vocab: Vocab = Vocab(tokens)\n",
    "print(list(vocab.token_to_idx.items())[:10])"
   ]
  },
  {
   "cell_type": "markdown",
   "id": "03829440-ce13-44fc-85cd-0c1a0d9bf7ba",
   "metadata": {},
   "source": [
    "### 将每一条文本行换成一个数字索引列表"
   ]
  },
  {
   "cell_type": "code",
   "execution_count": 13,
   "id": "f48634a3-79a9-4617-a03f-f5130b269bdd",
   "metadata": {},
   "outputs": [
    {
     "name": "stdout",
     "output_type": "stream",
     "text": [
      "words:  ['the', 'time', 'machine', 'by', 'h', 'g', 'wells']\n",
      "indices:  [1, 19, 50, 40, 2183, 2184, 400]\n",
      "words:  ['twinkled', 'and', 'his', 'usually', 'pale', 'face', 'was', 'flushed', 'and', 'animated', 'the']\n",
      "indices:  [2186, 3, 25, 1044, 362, 113, 7, 1421, 3, 1045, 1]\n"
     ]
    }
   ],
   "source": [
    "for i in [0, 10]:\n",
    "    print('words: ', tokens[i])\n",
    "    print('indices: ', vocab[tokens[i]])"
   ]
  },
  {
   "cell_type": "markdown",
   "id": "83d93875-2e56-41a1-90c8-31afb2ca5f0e",
   "metadata": {},
   "source": [
    "### 将所有功能打包到```load_corpus_time_machine```函数中"
   ]
  },
  {
   "cell_type": "code",
   "execution_count": 19,
   "id": "55b90e37-0598-4121-9c9a-ad34e09769fa",
   "metadata": {},
   "outputs": [
    {
     "data": {
      "text/plain": [
       "(170580, 28, [3, 9, 2, 1, 3, 5, 13, 2, 1, 13])"
      ]
     },
     "execution_count": 19,
     "metadata": {},
     "output_type": "execute_result"
    }
   ],
   "source": [
    "def load_corpus_time_machine(max_tokens=-1):\n",
    "    \"\"\"返回时光机数据集的标记索引列表和词汇表\"\"\"\n",
    "    lines = read_time_machine()\n",
    "    tokens = tokenize(lines, 'char')\n",
    "    vocab = Vocab(tokens)\n",
    "    corpus = [vocab[token] for line in tokens for token in line]\n",
    "    if max_tokens > 0:\n",
    "        corpus = corpus[:max_tokens]\n",
    "    return corpus, vocab\n",
    "\n",
    "corpus, vocab = load_corpus_time_machine()\n",
    "len(corpus), len(vocab), corpus[:10]"
   ]
  }
 ],
 "metadata": {
  "kernelspec": {
   "display_name": "Python 3 (ipykernel)",
   "language": "python",
   "name": "python3"
  },
  "language_info": {
   "codemirror_mode": {
    "name": "ipython",
    "version": 3
   },
   "file_extension": ".py",
   "mimetype": "text/x-python",
   "name": "python",
   "nbconvert_exporter": "python",
   "pygments_lexer": "ipython3",
   "version": "3.8.13"
  }
 },
 "nbformat": 4,
 "nbformat_minor": 5
}
