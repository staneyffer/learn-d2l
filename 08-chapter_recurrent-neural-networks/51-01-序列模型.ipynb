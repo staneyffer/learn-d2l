{
 "cells": [
  {
   "cell_type": "markdown",
   "id": "4edbbe9f-45bf-4cc0-bca0-eacbc594dbb5",
   "metadata": {},
   "source": [
    "## 序列数据\n",
    "\n",
    "- 实际中很多数据是有时序结构的\n",
    "- 电影的评价随时间变化而变化\n",
    "    - 拿奖后评分上升，直到奖项被忘记\n",
    "    - 看了很多电影后，人们的期望变高\n",
    "    - 季节性：贺岁片、暑期档\n",
    "    - 导演、演员的负面报道导致评分变低\n",
    "\n",
    "## 序列模型-更多例子\n",
    "- 音乐、语言、文本和视频都是连续的\n",
    "- 大地震发生后，很可能会有几次较小的余震\n",
    "- 人的互动是连续的，从网上吵架可以看出\n",
    "- 预测明天的股价比填补昨天缺失的股价更难\n",
    "\n",
    "\n",
    "## 统计工具\n",
    "\n",
    "- 在时间$t$观察到$x_t$，那么得到$T$个不独立的随机变量\n",
    "$$\n",
    "(x_1, ...,x_T) \\sim p(\\pmb x)\n",
    "$$\n",
    "\n",
    "- 使用条件概率展开\n",
    "$$\n",
    "p(a, b) = p(a)p(b|a) = p(b)p(a|b)\n",
    "$$\n",
    "\n",
    "$$\n",
    "p(\\pmb x) = p(x_1) \\cdot p(x_2|x_1) \\cdot p(x_3|x_1,x_2) \\cdot ...p(x_T|x_1,...x_{T-1})\n",
    "$$\n",
    "\n",
    "也可以反过来:\n",
    "$$\n",
    "p(\\pmb x) = p(x_T) \\cdot p(x_{T-1}|x_T) \\cdot p(x_{T-2} | x_{T-1}, x_T) \\cdot ...p(x_1|x_2,...,x_T)\n",
    "$$"
   ]
  },
  {
   "cell_type": "markdown",
   "id": "96fe3164-1ab3-4961-b67a-573cdc0c5a9d",
   "metadata": {},
   "source": [
    "## 序列模型\n",
    "$$\n",
    "p(\\pmb x) = p(x_1) \\cdot p(x_2|x_1) \\cdot p(x_3|x_1,x_2) \\cdot ...p(x_T|x_1,...x_{T-1})\n",
    "$$\n",
    "\n",
    "- 对条件概率建模\n",
    "\n",
    "$$\n",
    "p(x_t|x_1,...x_{t-1} = p(x_t|f(x_1,...x_{t-1}))\n",
    "$$\n",
    "\n",
    "其中$f(x_1,...x_{t-1})$是对见过的数据建模，也称“自回归模型”"
   ]
  },
  {
   "cell_type": "markdown",
   "id": "283e1e0a-e870-426f-a9b6-65bbff197a28",
   "metadata": {},
   "source": [
    "## 方案A-马尔科夫假设\n",
    "\n",
    "$$\n",
    "p(\\pmb x) = p(x_1) \\cdot p(x_2|x_1) \\cdot p(x_3|x_1,x_2) \\cdot ...p(x_T|x_1,... x_{T-1})\n",
    "$$\n",
    "- 假设当前数据值跟$\\tau$个过去数据点相关\n",
    "$$\n",
    "p(x_t|x_1, ...x_{t-1}) = p(x_t|x_{t - \\tau },...x_{t-1}) = p(x_t|f(x_{t-\\tau},...,x_{t-1}))\n",
    "$$\n",
    "\n",
    "其中$f(x_{t-\\tau},...,x_{t-1})$可以是一个过去数据上训练的MLP模型"
   ]
  },
  {
   "cell_type": "markdown",
   "id": "5a3945c0-b895-4010-a4ba-f09b49614725",
   "metadata": {},
   "source": [
    "## 方案B-潜变量模型\n",
    "$$\n",
    "p(\\pmb x) = p(x_1) \\cdot p(x_2|x_1) \\cdot p(x_3|x_1,x_2) \\cdot ...p(x_T|x_1,... x_{T-1})\n",
    "$$\n",
    "\n",
    "- 引入潜变量$h_t$来表示过去信息$h_t = f(x_1, ...x_{t-1})$\n",
    "    - 这样 $x_t = p(x_t|h_t)$"
   ]
  },
  {
   "cell_type": "markdown",
   "id": "991bb99a-f654-420c-95ca-14a341b60dd4",
   "metadata": {},
   "source": [
    "## 总结\n",
    "- 时序模型中，当前数据根之前观察到的数据相关\n",
    "- 自回归模型是用自身过去数据来预测未来\n",
    "- 马尔科夫模型假设当前只跟最近少数数据相关，从而简化模型\n",
    "- 潜变量模型是用潜变量来概括历史信息"
   ]
  },
  {
   "cell_type": "code",
   "execution_count": null,
   "id": "67e853a1-14d4-4cad-a020-c55a10369a35",
   "metadata": {},
   "outputs": [],
   "source": []
  }
 ],
 "metadata": {
  "kernelspec": {
   "display_name": "Python 3 (ipykernel)",
   "language": "python",
   "name": "python3"
  },
  "language_info": {
   "codemirror_mode": {
    "name": "ipython",
    "version": 3
   },
   "file_extension": ".py",
   "mimetype": "text/x-python",
   "name": "python",
   "nbconvert_exporter": "python",
   "pygments_lexer": "ipython3",
   "version": "3.8.13"
  }
 },
 "nbformat": 4,
 "nbformat_minor": 5
}
