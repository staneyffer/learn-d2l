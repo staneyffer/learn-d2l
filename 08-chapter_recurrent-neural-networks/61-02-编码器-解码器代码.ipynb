{
 "cells": [
  {
   "cell_type": "markdown",
   "id": "d5a5faf1-8198-4b2d-ae86-c2bb233e2a3c",
   "metadata": {},
   "source": [
    "## 编码器-解码器架构 \n",
    "\n",
    "### 编码器"
   ]
  },
  {
   "cell_type": "code",
   "execution_count": 1,
   "id": "6a5823eb-37b2-4643-a77b-03eaeac06ff1",
   "metadata": {},
   "outputs": [],
   "source": [
    "from torch import nn\n",
    "\n",
    "class Encoder(nn.Module):\n",
    "    def __init__(self, **kwargs):\n",
    "        super(Encoder, self).__init__(**kwargs)\n",
    "        \n",
    "    def forward(self, X, *args):\n",
    "        raise NotImplementedError"
   ]
  },
  {
   "cell_type": "markdown",
   "id": "1b9f43a1-8a5c-4048-aecc-2af617a097c9",
   "metadata": {},
   "source": [
    "### 解码器"
   ]
  },
  {
   "cell_type": "code",
   "execution_count": 2,
   "id": "2cb0ab80-7d56-477a-801f-13346d8d34f7",
   "metadata": {},
   "outputs": [],
   "source": [
    "class Decoder(nn.Module):\n",
    "    def __init__(self, **kwargs):\n",
    "        super(Decoder, self).__init__(**kwargs)\n",
    "        \n",
    "    def init_state(self, enc_outputs, *args):\n",
    "        raise NotImplementedError\n",
    "    \n",
    "    def forward(self, X, state):\n",
    "        raise NotImplementedError"
   ]
  },
  {
   "cell_type": "markdown",
   "id": "516671e0-5498-4bab-83d4-9da5fdb163cf",
   "metadata": {},
   "source": [
    "### 合并编码器和解码器"
   ]
  },
  {
   "cell_type": "code",
   "execution_count": 3,
   "id": "3c52988c-e745-42e1-8f6e-d05c9ea02c35",
   "metadata": {},
   "outputs": [],
   "source": [
    "class EncodeDecode(nn.Module):\n",
    "    def __init__(self, encoder, decoder, **kwargs):\n",
    "        super(EncodeDecode, self).__init__(**kwargs)\n",
    "        self.encoder = encoder\n",
    "        self.decoder = decoder\n",
    "    def forward(self, enc_X, dec_X, *args):\n",
    "        enc_outputs = self.encoder(enc_X, *args)\n",
    "        dec_state = self.decoder.init_state(enc_outputs, *args)\n",
    "        return self.decoder(dec_X, dec_state)"
   ]
  },
  {
   "cell_type": "code",
   "execution_count": null,
   "id": "69a210b3-1cda-4e9c-94c9-41f281080774",
   "metadata": {},
   "outputs": [],
   "source": []
  }
 ],
 "metadata": {
  "kernelspec": {
   "display_name": "Python 3 (ipykernel)",
   "language": "python",
   "name": "python3"
  },
  "language_info": {
   "codemirror_mode": {
    "name": "ipython",
    "version": 3
   },
   "file_extension": ".py",
   "mimetype": "text/x-python",
   "name": "python",
   "nbconvert_exporter": "python",
   "pygments_lexer": "ipython3",
   "version": "3.8.13"
  }
 },
 "nbformat": 4,
 "nbformat_minor": 5
}
