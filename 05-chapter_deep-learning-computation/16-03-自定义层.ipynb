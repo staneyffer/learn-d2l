{
 "cells": [
  {
   "cell_type": "markdown",
   "id": "5b716158-e43b-4147-b1a4-45ac71913244",
   "metadata": {},
   "source": [
    "## 自定义层\n",
    "构造一个没有任何参数的自定义层"
   ]
  },
  {
   "cell_type": "code",
   "execution_count": 2,
   "id": "14d508ca-3412-48fb-b2b0-982e2af143d7",
   "metadata": {},
   "outputs": [
    {
     "data": {
      "text/plain": [
       "tensor([-2., -1.,  0.,  1.,  2.])"
      ]
     },
     "execution_count": 2,
     "metadata": {},
     "output_type": "execute_result"
    }
   ],
   "source": [
    "import torch\n",
    "import torch.nn.functional as F\n",
    "from torch import nn\n",
    "\n",
    "class CenteredLayer(nn.Module):\n",
    "    def __init__(self):\n",
    "        super().__init__()\n",
    "    \n",
    "    def forward(self, X):\n",
    "        return X - X.mean()\n",
    "\n",
    "layer = CenteredLayer()\n",
    "layer(torch.FloatTensor([1, 2, 3, 4, 5]))"
   ]
  },
  {
   "cell_type": "markdown",
   "id": "9169401c-13ca-4866-8602-bb4ad94e757f",
   "metadata": {},
   "source": [
    "## 将层作为组件合并到构造更复杂的模型中"
   ]
  },
  {
   "cell_type": "code",
   "execution_count": 14,
   "id": "9b8df6df-f489-4b4c-9e10-10a5c3264e3d",
   "metadata": {},
   "outputs": [
    {
     "data": {
      "text/plain": [
       "tensor(3.2596e-09, grad_fn=<MeanBackward0>)"
      ]
     },
     "execution_count": 14,
     "metadata": {},
     "output_type": "execute_result"
    }
   ],
   "source": [
    "net = nn.Sequential(nn.Linear(8, 128), CenteredLayer())\n",
    "Y = net(torch.rand(4, 8))\n",
    "Y.mean()"
   ]
  },
  {
   "cell_type": "markdown",
   "id": "1ac23b16-91fa-468b-900f-8118662fcbdd",
   "metadata": {},
   "source": [
    "## 带参数的图层"
   ]
  },
  {
   "cell_type": "code",
   "execution_count": 16,
   "id": "b6fb314d-7ed0-484d-9a8f-4222e9a2bc6e",
   "metadata": {},
   "outputs": [
    {
     "data": {
      "text/plain": [
       "Parameter containing:\n",
       "tensor([[0.0585, 0.5721, 0.2285],\n",
       "        [0.6098, 0.8056, 0.6340],\n",
       "        [0.2447, 0.0065, 0.5389],\n",
       "        [0.8696, 0.4240, 0.2260],\n",
       "        [0.1010, 0.3819, 0.3550]], requires_grad=True)"
      ]
     },
     "execution_count": 16,
     "metadata": {},
     "output_type": "execute_result"
    }
   ],
   "source": [
    "class MyLinear(nn.Module):\n",
    "    def __init__(self, in_units, units):\n",
    "        super().__init__()\n",
    "        self.weight = nn.Parameter(torch.rand(in_units, units))\n",
    "        self.bias = nn.Parameter(torch.randn(units, ))\n",
    "        \n",
    "    def forward(self, X):\n",
    "        linear = torch.matmul(X, self.weight.data) + self.bias.data\n",
    "        return F.relu(linear)\n",
    "    \n",
    "dense = MyLinear(5, 3)\n",
    "dense.weight"
   ]
  },
  {
   "cell_type": "markdown",
   "id": "32919406-e4a4-4909-862c-4d6045367173",
   "metadata": {},
   "source": [
    "## 使用自定义层直接执行正向传播计算"
   ]
  },
  {
   "cell_type": "code",
   "execution_count": 18,
   "id": "c91b4d54-d172-4058-b961-778f3854ebab",
   "metadata": {},
   "outputs": [
    {
     "data": {
      "text/plain": [
       "tensor([[0.0000, 1.0677, 0.8176],\n",
       "        [0.0000, 0.5808, 0.4351]])"
      ]
     },
     "execution_count": 18,
     "metadata": {},
     "output_type": "execute_result"
    }
   ],
   "source": [
    "dense(torch.rand(2, 5))"
   ]
  },
  {
   "cell_type": "markdown",
   "id": "5dce5708-9afa-4cde-afcd-3a1909bc15b1",
   "metadata": {},
   "source": [
    "## 使用自定义层构建模型"
   ]
  },
  {
   "cell_type": "code",
   "execution_count": 44,
   "id": "1e4517e2-e047-415b-9aa7-836cc8d0bf61",
   "metadata": {},
   "outputs": [
    {
     "data": {
      "text/plain": [
       "tensor([[50.1582],\n",
       "        [56.5296]])"
      ]
     },
     "execution_count": 44,
     "metadata": {},
     "output_type": "execute_result"
    }
   ],
   "source": [
    "net = nn.Sequential(MyLinear(64, 8), MyLinear(8, 1))\n",
    "net(torch.rand(2, 64))"
   ]
  }
 ],
 "metadata": {
  "kernelspec": {
   "display_name": "Python 3 (ipykernel)",
   "language": "python",
   "name": "python3"
  },
  "language_info": {
   "codemirror_mode": {
    "name": "ipython",
    "version": 3
   },
   "file_extension": ".py",
   "mimetype": "text/x-python",
   "name": "python",
   "nbconvert_exporter": "python",
   "pygments_lexer": "ipython3",
   "version": "3.8.13"
  }
 },
 "nbformat": 4,
 "nbformat_minor": 5
}
