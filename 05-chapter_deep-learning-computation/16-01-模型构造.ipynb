{
 "cells": [
  {
   "cell_type": "markdown",
   "id": "7375bb9e-9175-4d11-9e6c-14b5b64588ee",
   "metadata": {},
   "source": [
    "## 层和块\n",
    "首先回顾多层感知机"
   ]
  },
  {
   "cell_type": "code",
   "execution_count": 2,
   "id": "b96f660b-6abe-4d44-af6c-0fe331cf27e4",
   "metadata": {},
   "outputs": [
    {
     "data": {
      "text/plain": [
       "tensor([[ 0.0499,  0.0349, -0.1541,  0.2290,  0.2741,  0.1072,  0.3851, -0.3438,\n",
       "          0.2483, -0.0377],\n",
       "        [ 0.0677, -0.1356, -0.0606,  0.2773,  0.2038,  0.1366,  0.5117, -0.1355,\n",
       "          0.1620, -0.0779]], grad_fn=<AddmmBackward0>)"
      ]
     },
     "execution_count": 2,
     "metadata": {},
     "output_type": "execute_result"
    }
   ],
   "source": [
    "import torch\n",
    "from torch import nn\n",
    "from torch.nn import functional as F\n",
    "\n",
    "net = nn.Sequential(nn.Linear(20, 256), nn.ReLU(), nn.Linear(256, 10))\n",
    "X = torch.rand(2, 20)\n",
    "net(X)"
   ]
  },
  {
   "cell_type": "markdown",
   "id": "75ecea57-c34b-4f62-ba27-60c4fec16da2",
   "metadata": {},
   "source": [
    "```nn.Sequential```定义了一种特殊的```Module```"
   ]
  },
  {
   "cell_type": "markdown",
   "id": "f04a0a65-fd9b-4bf6-ad94-f5afcbdd03a8",
   "metadata": {},
   "source": [
    "## 自定义块"
   ]
  },
  {
   "cell_type": "code",
   "execution_count": 7,
   "id": "27dc0e9f-26eb-43c7-bd98-e913832b46ca",
   "metadata": {},
   "outputs": [],
   "source": [
    "class MLP(nn.Module):\n",
    "    def __init__(self):\n",
    "        super().__init__()\n",
    "        # 定义隐藏层\n",
    "        self.hidden = nn.Linear(20, 256)\n",
    "        # 输出层\n",
    "        self.out = nn.Linear(256, 10)\n",
    "        \n",
    "    def forward(self, X):\n",
    "        # 前向函数\n",
    "        print('invoke forward')\n",
    "        return self.out(F.relu(self.hidden(X)))"
   ]
  },
  {
   "cell_type": "markdown",
   "id": "beb3a590-8a43-4df7-b548-ac9809546e83",
   "metadata": {},
   "source": [
    "## 实例化多层感知机的层， 然后在每次调用正向传播函数时调用这些层"
   ]
  },
  {
   "cell_type": "code",
   "execution_count": 8,
   "id": "f26c257c-7e70-4362-a936-342988b96d16",
   "metadata": {},
   "outputs": [
    {
     "name": "stdout",
     "output_type": "stream",
     "text": [
      "invoke forward\n"
     ]
    },
    {
     "data": {
      "text/plain": [
       "tensor([[ 0.0873, -0.1229,  0.1344, -0.2407,  0.1666, -0.2201,  0.0807,  0.0518,\n",
       "          0.0960, -0.0243],\n",
       "        [ 0.1857,  0.0677, -0.0230, -0.2522,  0.1925, -0.1181,  0.0872, -0.0013,\n",
       "          0.1354,  0.0913]], grad_fn=<AddmmBackward0>)"
      ]
     },
     "execution_count": 8,
     "metadata": {},
     "output_type": "execute_result"
    }
   ],
   "source": [
    "net = MLP()\n",
    "net(X)"
   ]
  },
  {
   "cell_type": "markdown",
   "id": "96b201e8-7225-423f-9313-810ca82c472f",
   "metadata": {},
   "source": [
    "## 循序块"
   ]
  },
  {
   "cell_type": "code",
   "execution_count": 10,
   "id": "53c8dc10-3174-40e2-accd-202721a13632",
   "metadata": {},
   "outputs": [
    {
     "data": {
      "text/plain": [
       "tensor([[ 0.0669, -0.1744,  0.0413, -0.1529, -0.0542,  0.1793, -0.1803, -0.0529,\n",
       "          0.0802, -0.0937],\n",
       "        [ 0.1971, -0.1017,  0.0746, -0.0062, -0.0143,  0.1495, -0.2605, -0.1055,\n",
       "          0.0186,  0.0519]], grad_fn=<AddmmBackward0>)"
      ]
     },
     "execution_count": 10,
     "metadata": {},
     "output_type": "execute_result"
    }
   ],
   "source": [
    "class MySequential(nn.Module):\n",
    "    def __init__(self, *args):\n",
    "        super().__init__()\n",
    "        for block in args:\n",
    "            self._modules[block] = block\n",
    "            \n",
    "    def forward(self, X):\n",
    "        # 此处有序\n",
    "        for block in self._modules.values():\n",
    "            X = block(X)\n",
    "        return X\n",
    "net= MySequential(nn.Linear(20, 256), nn.ReLU(), nn.Linear(256, 10))\n",
    "net(X)"
   ]
  },
  {
   "cell_type": "markdown",
   "id": "48083b8f-73ef-4047-80d3-30502229804b",
   "metadata": {},
   "source": [
    "## 在正向传播函数中执行代码"
   ]
  },
  {
   "cell_type": "code",
   "execution_count": 14,
   "id": "5179b714-bf67-480c-93d5-8dd7a04840e7",
   "metadata": {},
   "outputs": [
    {
     "data": {
      "text/plain": [
       "tensor(0.0170, grad_fn=<SumBackward0>)"
      ]
     },
     "execution_count": 14,
     "metadata": {},
     "output_type": "execute_result"
    }
   ],
   "source": [
    "class FixedHiddenMLP(nn.Module):\n",
    "    def __init__(self):\n",
    "        super().__init__()\n",
    "        self.rand_weight = torch.rand((20, 20), requires_grad=False)\n",
    "        self.linear = nn.Linear(20, 20)\n",
    "    def forward(self, X):\n",
    "        X = self.linear(X)\n",
    "        X = F.relu(torch.mm(X, self.rand_weight) + 1)\n",
    "        X = self.linear(X)\n",
    "        while X.abs().sum() > 1:\n",
    "            X /= 2\n",
    "        return X.sum()\n",
    "\n",
    "net = FixedHiddenMLP()\n",
    "net(X)"
   ]
  },
  {
   "cell_type": "markdown",
   "id": "f93b8ccb-03e9-4609-bb22-ec6325870ce3",
   "metadata": {},
   "source": [
    "## 混合搭配各种组合块的方法"
   ]
  },
  {
   "cell_type": "code",
   "execution_count": 19,
   "id": "725c9337-603f-4a30-9ff0-8a6d4e7aa147",
   "metadata": {},
   "outputs": [
    {
     "data": {
      "text/plain": [
       "tensor(0.2879, grad_fn=<SumBackward0>)"
      ]
     },
     "execution_count": 19,
     "metadata": {},
     "output_type": "execute_result"
    }
   ],
   "source": [
    "class NestMLP(nn.Module):\n",
    "    def __init__(self):\n",
    "        super().__init__()\n",
    "        self.net = nn.Sequential(nn.Linear(20, 64), nn.ReLU(),\n",
    "                                 nn.Linear(64, 32), nn.ReLU())\n",
    "        self.linear = nn.Linear(32, 16)\n",
    "    \n",
    "    def forward(self, X):\n",
    "        return self.linear(self.net(X))\n",
    "\n",
    "chimera =nn.Sequential(NestMLP(), nn.Linear(16, 20), FixedHiddenMLP())\n",
    "chimera(X)"
   ]
  },
  {
   "cell_type": "code",
   "execution_count": null,
   "id": "cac6d604-5dd6-4141-a1f5-fed79c530b14",
   "metadata": {},
   "outputs": [],
   "source": []
  }
 ],
 "metadata": {
  "kernelspec": {
   "display_name": "Python 3 (ipykernel)",
   "language": "python",
   "name": "python3"
  },
  "language_info": {
   "codemirror_mode": {
    "name": "ipython",
    "version": 3
   },
   "file_extension": ".py",
   "mimetype": "text/x-python",
   "name": "python",
   "nbconvert_exporter": "python",
   "pygments_lexer": "ipython3",
   "version": "3.8.13"
  }
 },
 "nbformat": 4,
 "nbformat_minor": 5
}
