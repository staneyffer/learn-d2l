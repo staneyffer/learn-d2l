{
 "cells": [
  {
   "cell_type": "markdown",
   "id": "b99c8668-66e6-4f9c-9498-92f18a713e49",
   "metadata": {},
   "source": [
    "## 读写文件\n",
    "\n",
    "加载和保存张量"
   ]
  },
  {
   "cell_type": "code",
   "execution_count": 6,
   "id": "cc355501-f4dc-476a-95ab-dd3afc9ca776",
   "metadata": {},
   "outputs": [
    {
     "data": {
      "text/plain": [
       "tensor([True, True, True, True])"
      ]
     },
     "execution_count": 6,
     "metadata": {},
     "output_type": "execute_result"
    }
   ],
   "source": [
    "import torch\n",
    "from torch import nn\n",
    "from torch.nn import functional as F\n",
    "\n",
    "x = torch.arange(4)\n",
    "filename = '../data/test-x-file'\n",
    "torch.save(x, filename)\n",
    "y = torch.load(filename)\n",
    "x == y"
   ]
  },
  {
   "cell_type": "markdown",
   "id": "1079ef81-e767-4a2f-9db6-a723c8a7b2f9",
   "metadata": {},
   "source": [
    "## 存储一个张量列表再读回内存"
   ]
  },
  {
   "cell_type": "code",
   "execution_count": 8,
   "id": "b6d1ba71-5594-41f2-b95b-7e85850114d4",
   "metadata": {},
   "outputs": [
    {
     "data": {
      "text/plain": [
       "(tensor([0, 1, 2, 3]), tensor([0., 0., 0., 0.]))"
      ]
     },
     "execution_count": 8,
     "metadata": {},
     "output_type": "execute_result"
    }
   ],
   "source": [
    "y = torch.zeros(4)\n",
    "torch.save([x, y], filename)\n",
    "x2, y2 = torch.load(filename)\n",
    "(x2, y2)"
   ]
  },
  {
   "cell_type": "markdown",
   "id": "4d024709-6c17-4bdc-a5e5-53743e307c83",
   "metadata": {},
   "source": [
    "## 写入或读取从字符串隐射到张量的字典"
   ]
  },
  {
   "cell_type": "code",
   "execution_count": 11,
   "id": "94f80eb0-e6c9-4711-b93d-0ecfdea0ae4a",
   "metadata": {},
   "outputs": [
    {
     "data": {
      "text/plain": [
       "{'x': tensor([0, 1, 2, 3]), 'y': tensor([0., 0., 0., 0.])}"
      ]
     },
     "execution_count": 11,
     "metadata": {},
     "output_type": "execute_result"
    }
   ],
   "source": [
    "mydict = {'x': x, 'y': y}\n",
    "torch.save(mydict, filename)\n",
    "mydict2 = torch.load(filename)\n",
    "mydict2"
   ]
  },
  {
   "cell_type": "markdown",
   "id": "a615bbd5-b0aa-4b3e-b828-36e0eef7666e",
   "metadata": {},
   "source": [
    "## 加载和保存模型参数"
   ]
  },
  {
   "cell_type": "code",
   "execution_count": 13,
   "id": "aa92dda0-7cf0-4241-96ab-7c8157856d22",
   "metadata": {},
   "outputs": [],
   "source": [
    "class MLP(nn.Module):\n",
    "    def __init__(self):\n",
    "        super().__init__()\n",
    "        self.hidden = nn.Linear(20, 256)\n",
    "        self.output = nn.Linear(256, 10)\n",
    "        \n",
    "    def forward(self, X):\n",
    "        return self.output(F.relu(self.hidden(X)))\n",
    "\n",
    "net = MLP()\n",
    "X = torch.randn(size=(2, 20))\n",
    "Y = net(X)"
   ]
  },
  {
   "cell_type": "markdown",
   "id": "6f7bd240-1238-4cfd-85c9-fa443b6deaf4",
   "metadata": {},
   "source": [
    "## 将模型的参数存储为一个叫\"mlp.params\"的文件"
   ]
  },
  {
   "cell_type": "code",
   "execution_count": 16,
   "id": "58f9f425-fdff-4e29-94f8-e96a8851b450",
   "metadata": {},
   "outputs": [],
   "source": [
    "torch.save(net.state_dict(), 'mlp.params')"
   ]
  },
  {
   "cell_type": "markdown",
   "id": "5ab3b82b-bb9e-41bc-bb9a-512624405b00",
   "metadata": {},
   "source": [
    "## 实例化了原始多层感知机模型的一个备份，直接读取内存中存储的参数"
   ]
  },
  {
   "cell_type": "code",
   "execution_count": 17,
   "id": "07ce1e45-89f5-470f-ac74-fd2d1ee33de7",
   "metadata": {},
   "outputs": [
    {
     "data": {
      "text/plain": [
       "MLP(\n",
       "  (hidden): Linear(in_features=20, out_features=256, bias=True)\n",
       "  (output): Linear(in_features=256, out_features=10, bias=True)\n",
       ")"
      ]
     },
     "execution_count": 17,
     "metadata": {},
     "output_type": "execute_result"
    }
   ],
   "source": [
    "clone = MLP()\n",
    "clone.load_state_dict(torch.load('mlp.params'))\n",
    "clone.eval()"
   ]
  },
  {
   "cell_type": "code",
   "execution_count": 18,
   "id": "90d690c6-6a5e-4092-88b2-6c5c2389a4ab",
   "metadata": {},
   "outputs": [
    {
     "data": {
      "text/plain": [
       "tensor([[True, True, True, True, True, True, True, True, True, True],\n",
       "        [True, True, True, True, True, True, True, True, True, True]])"
      ]
     },
     "execution_count": 18,
     "metadata": {},
     "output_type": "execute_result"
    }
   ],
   "source": [
    "Y_clone = clone(X)\n",
    "Y_clone == Y"
   ]
  }
 ],
 "metadata": {
  "kernelspec": {
   "display_name": "Python 3 (ipykernel)",
   "language": "python",
   "name": "python3"
  },
  "language_info": {
   "codemirror_mode": {
    "name": "ipython",
    "version": 3
   },
   "file_extension": ".py",
   "mimetype": "text/x-python",
   "name": "python",
   "nbconvert_exporter": "python",
   "pygments_lexer": "ipython3",
   "version": "3.8.13"
  }
 },
 "nbformat": 4,
 "nbformat_minor": 5
}
