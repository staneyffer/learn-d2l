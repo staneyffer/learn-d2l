{
 "cells": [
  {
   "cell_type": "markdown",
   "id": "04128682-32b5-4a33-9c41-a1574e4bc836",
   "metadata": {},
   "source": [
    "## 标量导数\n",
    "\n",
    "|  $y$ |$a$   |  $x^n$ |   $exp(x)$  | $log(x)$ |   $sin(x)$   |\n",
    "|------|------|--------|-------------|----------|--------------|\n",
    "| $\\frac{\\partial y}{\\partial x}$ |$0$ |$nx^{n-1}$ | $exp(x)$| $\\frac{1}{x}$| $cos(x)$|\n",
    "\n",
    "其中 $a$不是$x$的函数\n",
    "\n",
    "|  $$y$$ |$$u + v$$   |  $$uv$$ |   $$y=f(u), u=g(x)$$  | \n",
    "|------|----------|--------|--------------------|\n",
    "| $$\\frac{\\partial y}{\\partial x}$$ | $$\\frac{\\partial u}{\\partial x} + \\frac{\\partial v}{\\partial x}$$|$$\\frac{\\partial u}{\\partial x}v \n",
    "\\frac{\\partial v}{\\partial x}u$$ | $$\\frac{\\partial y}{\\partial u} \\frac{\\partial u}{\\partial x}$$|"
   ]
  },
  {
   "cell_type": "markdown",
   "id": "b824d897-e832-4d1f-bd75-6f63dbbd51f3",
   "metadata": {},
   "source": [
    "## 标量对向量求导\n",
    "$$\n",
    "\\pmb x = \\left[ \\begin{matrix} x_1 \\\\ x_2 \\\\ ... \\\\x_n \\end{matrix} \\right]  \n",
    "\\qquad \\frac{\\partial y} {\\partial \\pmb x} = \\left[ \\frac{\\partial y}{\\partial x_1},\\frac{\\partial y}{\\partial x_2},...,\\frac{\\partial y}{\\partial x_n}  \\right]\n",
    "$$"
   ]
  },
  {
   "cell_type": "markdown",
   "id": "c95ca649-043a-4ee2-9f35-9ed2facf96ff",
   "metadata": {},
   "source": [
    "## 样例\n",
    "\n",
    "|  $$y$$ |$$a$$   |  $$au$$ |   $$sum(x)$$  |  $$\\begin{Vmatrix} \\pmb x\\end{Vmatrix}^2$$|\n",
    "|------|----------|--------|--------------------|---------------------------------------|\n",
    "|$$\\frac{\\partial y}{\\partial x}$$| $$\\pmb 0^\\top$$| $$a\\frac{\\partial u}{\\partial \\pmb x}$$ | $$\\pmb 1^\\top$$| $$2 \\pmb x^\\top$$ |\n",
    "\n",
    "\n",
    "|  $$y$$ |$$u + v$$   |  $$uv$$ |   $$\\langle \\pmb u, \\pmb v \\rangle$$  | \n",
    "|------|----------|--------|--------------------|\n",
    "| $$\\frac{\\partial y}{\\partial \\pmb x}$$ | $$\\frac{\\partial u}{\\partial \\pmb x} + \\frac{\\partial v}{\\partial \\pmb x}$$|$$\\frac{\\partial u}{\\partial \\pmb x}v \n",
    "\\frac{\\partial v}{\\partial \\pmb x}u$$ | $$ \\pmb u ^\\top \\frac{\\partial \\pmb v}{\\partial x}  + \\pmb v^\\top \\frac{\\partial \\pmb u}{\\partial \\pmb x}$$|"
   ]
  },
  {
   "cell_type": "code",
   "execution_count": null,
   "id": "f014f1a1-e657-4107-ac91-163621d09c97",
   "metadata": {},
   "outputs": [],
   "source": []
  },
  {
   "cell_type": "code",
   "execution_count": null,
   "id": "504fc054-6ae5-4fc2-895e-c1d79eb55137",
   "metadata": {},
   "outputs": [],
   "source": []
  },
  {
   "cell_type": "code",
   "execution_count": null,
   "id": "1aa00678-d703-4814-a0d1-9405a7934b83",
   "metadata": {},
   "outputs": [],
   "source": []
  },
  {
   "cell_type": "code",
   "execution_count": null,
   "id": "3cccdfdb-c5cf-448a-b189-115121250595",
   "metadata": {},
   "outputs": [],
   "source": []
  },
  {
   "cell_type": "code",
   "execution_count": null,
   "id": "82fad951-eeca-40c1-8d93-c0353520165c",
   "metadata": {},
   "outputs": [],
   "source": []
  },
  {
   "cell_type": "code",
   "execution_count": null,
   "id": "cec1cc1e-34c7-4c94-9093-4fc0e0f3c723",
   "metadata": {},
   "outputs": [],
   "source": []
  },
  {
   "cell_type": "code",
   "execution_count": null,
   "id": "de7ae35b-d241-464c-9fa7-b96714d0a69b",
   "metadata": {},
   "outputs": [],
   "source": []
  },
  {
   "cell_type": "code",
   "execution_count": null,
   "id": "8f71f63f-7e9b-461d-b5cb-fa801af73483",
   "metadata": {},
   "outputs": [],
   "source": []
  },
  {
   "cell_type": "code",
   "execution_count": null,
   "id": "379e622a-f90c-4b9d-9a7f-32185c95e824",
   "metadata": {},
   "outputs": [],
   "source": []
  },
  {
   "cell_type": "code",
   "execution_count": null,
   "id": "ab2b63d8-4eba-4bb5-8ab8-92cd88f42280",
   "metadata": {},
   "outputs": [],
   "source": []
  },
  {
   "cell_type": "code",
   "execution_count": null,
   "id": "56dea3eb-91a6-4602-9227-1b42fb7a8d6e",
   "metadata": {},
   "outputs": [],
   "source": []
  },
  {
   "cell_type": "code",
   "execution_count": null,
   "id": "dfb3b9dd-7a6d-4c0f-a1e1-c91dc623e44a",
   "metadata": {},
   "outputs": [],
   "source": []
  },
  {
   "cell_type": "code",
   "execution_count": null,
   "id": "4c179fed-2d5a-4aae-b43a-59092e23affe",
   "metadata": {},
   "outputs": [],
   "source": []
  },
  {
   "cell_type": "code",
   "execution_count": null,
   "id": "d4957c92-3f16-4681-ade8-ec90897aac38",
   "metadata": {},
   "outputs": [],
   "source": []
  },
  {
   "cell_type": "code",
   "execution_count": null,
   "id": "872e0c31-49d4-4218-a8bd-b83057915d1c",
   "metadata": {},
   "outputs": [],
   "source": []
  },
  {
   "cell_type": "code",
   "execution_count": null,
   "id": "3eff7342-66c0-4316-b8c2-3f97aadc2c80",
   "metadata": {},
   "outputs": [],
   "source": []
  },
  {
   "cell_type": "code",
   "execution_count": null,
   "id": "04c82d3a-3c86-4f6f-8b9a-5bc9ac7628a4",
   "metadata": {},
   "outputs": [],
   "source": []
  },
  {
   "cell_type": "code",
   "execution_count": null,
   "id": "b14fd79a-9472-4bfa-b0e2-6ab2f14b1940",
   "metadata": {},
   "outputs": [],
   "source": []
  },
  {
   "cell_type": "code",
   "execution_count": null,
   "id": "1a4d4b40-8d32-429e-b2a9-03ba1c34fb12",
   "metadata": {},
   "outputs": [],
   "source": []
  },
  {
   "cell_type": "code",
   "execution_count": null,
   "id": "f11a0153-3d7d-4fcd-8f02-b80bf7242e1a",
   "metadata": {},
   "outputs": [],
   "source": []
  },
  {
   "cell_type": "code",
   "execution_count": null,
   "id": "e4ea4fa3-61d4-466e-9aa6-5c1256bc1400",
   "metadata": {},
   "outputs": [],
   "source": []
  },
  {
   "cell_type": "code",
   "execution_count": null,
   "id": "40453747-a1f4-404e-b369-cb6fb3b0e44c",
   "metadata": {},
   "outputs": [],
   "source": []
  },
  {
   "cell_type": "code",
   "execution_count": null,
   "id": "c338ea6d-f2a4-4fa8-9683-856e89e529e7",
   "metadata": {},
   "outputs": [],
   "source": []
  },
  {
   "cell_type": "code",
   "execution_count": null,
   "id": "0cf6275e-ac5a-4d94-9ebf-0dba330a2f81",
   "metadata": {},
   "outputs": [],
   "source": []
  },
  {
   "cell_type": "code",
   "execution_count": null,
   "id": "a65cd19b-fd2c-4f2b-bf96-55fbf3e9fafd",
   "metadata": {},
   "outputs": [],
   "source": []
  },
  {
   "cell_type": "code",
   "execution_count": null,
   "id": "449b56e8-dc75-440c-bc97-78d0d8a334ab",
   "metadata": {},
   "outputs": [],
   "source": []
  },
  {
   "cell_type": "code",
   "execution_count": null,
   "id": "632ada61-429d-411e-b1dc-46c6b93a2e47",
   "metadata": {},
   "outputs": [],
   "source": []
  },
  {
   "cell_type": "code",
   "execution_count": null,
   "id": "3464e658-1b02-4d8d-a411-2023cb826b85",
   "metadata": {},
   "outputs": [],
   "source": []
  },
  {
   "cell_type": "code",
   "execution_count": null,
   "id": "f6ce8978-8773-4f9b-a8c2-cf9417240de3",
   "metadata": {},
   "outputs": [],
   "source": []
  },
  {
   "cell_type": "code",
   "execution_count": null,
   "id": "f7439c66-b091-48b5-b8ca-b1b37e6f9ae2",
   "metadata": {},
   "outputs": [],
   "source": []
  },
  {
   "cell_type": "code",
   "execution_count": null,
   "id": "28a2a79b-d136-4e00-9bcc-7828b01f941c",
   "metadata": {},
   "outputs": [],
   "source": []
  },
  {
   "cell_type": "code",
   "execution_count": null,
   "id": "bea34a71-d417-4320-a426-c124eecdc11f",
   "metadata": {},
   "outputs": [],
   "source": []
  },
  {
   "cell_type": "code",
   "execution_count": null,
   "id": "d3b21852-4bfc-47ff-97b2-d6e98d0e808b",
   "metadata": {},
   "outputs": [],
   "source": []
  },
  {
   "cell_type": "code",
   "execution_count": null,
   "id": "4b553899-64d7-461a-8081-86a00d38c243",
   "metadata": {},
   "outputs": [],
   "source": []
  },
  {
   "cell_type": "code",
   "execution_count": null,
   "id": "44221a12-4467-4f50-8502-73a2c8fff67f",
   "metadata": {},
   "outputs": [],
   "source": []
  },
  {
   "cell_type": "code",
   "execution_count": null,
   "id": "ce1e8bc8-2df5-4fdd-a19c-b3ce9418638c",
   "metadata": {},
   "outputs": [],
   "source": [
    "}"
   ]
  }
 ],
 "metadata": {
  "kernelspec": {
   "display_name": "Python 3 (ipykernel)",
   "language": "python",
   "name": "python3"
  },
  "language_info": {
   "codemirror_mode": {
    "name": "ipython",
    "version": 3
   },
   "file_extension": ".py",
   "mimetype": "text/x-python",
   "name": "python",
   "nbconvert_exporter": "python",
   "pygments_lexer": "ipython3",
   "version": "3.8.13"
  }
 },
 "nbformat": 4,
 "nbformat_minor": 5
}
