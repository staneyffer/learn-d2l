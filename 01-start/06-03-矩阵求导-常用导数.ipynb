{
 "cells": [
  {
   "cell_type": "markdown",
   "metadata": {},
   "source": [
    "## 标量导数\n",
    "\n",
    "|  $y$ |$a$   |  $x^n$ |   $exp(x)$  | $log(x)$ |   $sin(x)$   |\n",
    "|------|------|--------|-------------|----------|--------------|\n",
    "| $\\frac{\\partial y}{\\partial x}$ |$0$ |$nx^{n-1}$ | $exp(x)$| $\\frac{1}{x}$| $cos(x)$|\n",
    "\n",
    "其中 $a$不是$x$的函数\n",
    "\n",
    "|  $$y$$ |$$u + v$$   |  $$uv$$ |   $$y=f(u), u=g(x)$$  | \n",
    "|------|----------|--------|--------------------|\n",
    "| $$\\frac{\\partial y}{\\partial x}$$ | $$\\frac{\\partial u}{\\partial x} + \\frac{\\partial v}{\\partial x}$$|$$\\frac{\\partial u}{\\partial x}v \n",
    "\\frac{\\partial v}{\\partial x}u$$ | $$\\frac{\\partial y}{\\partial u} \\frac{\\partial u}{\\partial x}$$|"
   ]
  },
  {
   "cell_type": "markdown",
   "metadata": {},
   "source": [
    "## 标量对向量求导\n",
    "$$\n",
    "\\pmb x = \\left[ \\begin{matrix} x_1 \\\\ x_2 \\\\ ... \\\\x_n \\end{matrix} \\right]  \n",
    "\\qquad \\frac{\\partial y} {\\partial \\pmb x} = \\left[ \\frac{\\partial y}{\\partial x_1},\\frac{\\partial y}{\\partial x_2},...,\\frac{\\partial y}{\\partial x_n}  \\right]\n",
    "$$"
   ]
  },
  {
   "cell_type": "markdown",
   "metadata": {},
   "source": [
    "## 样例\n",
    "\n",
    "|  $$y$$ |$$a$$   |  $$au$$ |   $$sum(x)$$  |  $$\\begin{Vmatrix} \\pmb x\\end{Vmatrix}^2$$|\n",
    "|------|----------|--------|--------------------|---------------------------------------|\n",
    "|$$\\frac{\\partial y}{\\partial x}$$| $$\\pmb 0^\\top$$| $$a\\frac{\\partial u}{\\partial \\pmb x}$$ | $$\\pmb 1^\\top$$| $$2 \\pmb x^\\top$$ |\n",
    "\n",
    "\n",
    "|  $$y$$ |$$u + v$$   |  $$uv$$ |   $$\\langle \\pmb u, \\pmb v \\rangle$$  | \n",
    "|------|----------|--------|--------------------|\n",
    "| $$\\frac{\\partial y}{\\partial \\pmb x}$$ | $$\\frac{\\partial u}{\\partial \\pmb x} + \\frac{\\partial v}{\\partial \\pmb x}$$|$$\\frac{\\partial u}{\\partial \\pmb x}v \n",
    "\\frac{\\partial v}{\\partial \\pmb x}u$$ | $$ \\pmb u ^\\top \\frac{\\partial \\pmb v}{\\partial x}  + \\pmb v^\\top \\frac{\\partial \\pmb u}{\\partial \\pmb x}$$|"
   ]
  },
  {
   "cell_type": "code",
   "execution_count": null,
   "metadata": {},
   "outputs": [],
   "source": []
  },
  {
   "cell_type": "code",
   "execution_count": null,
   "metadata": {},
   "outputs": [],
   "source": []
  },
  {
   "cell_type": "code",
   "execution_count": null,
   "metadata": {},
   "outputs": [],
   "source": []
  },
  {
   "cell_type": "code",
   "execution_count": null,
   "metadata": {},
   "outputs": [],
   "source": []
  },
  {
   "cell_type": "code",
   "execution_count": null,
   "metadata": {},
   "outputs": [],
   "source": []
  },
  {
   "cell_type": "code",
   "execution_count": null,
   "metadata": {},
   "outputs": [],
   "source": []
  },
  {
   "cell_type": "code",
   "execution_count": null,
   "metadata": {},
   "outputs": [],
   "source": []
  },
  {
   "cell_type": "code",
   "execution_count": null,
   "metadata": {},
   "outputs": [],
   "source": []
  },
  {
   "cell_type": "code",
   "execution_count": null,
   "metadata": {},
   "outputs": [],
   "source": []
  },
  {
   "cell_type": "code",
   "execution_count": null,
   "metadata": {},
   "outputs": [],
   "source": []
  },
  {
   "cell_type": "code",
   "execution_count": null,
   "metadata": {},
   "outputs": [],
   "source": []
  },
  {
   "cell_type": "code",
   "execution_count": null,
   "metadata": {},
   "outputs": [],
   "source": []
  },
  {
   "cell_type": "code",
   "execution_count": null,
   "metadata": {},
   "outputs": [],
   "source": []
  },
  {
   "cell_type": "code",
   "execution_count": null,
   "metadata": {},
   "outputs": [],
   "source": []
  },
  {
   "cell_type": "code",
   "execution_count": null,
   "metadata": {},
   "outputs": [],
   "source": []
  },
  {
   "cell_type": "code",
   "execution_count": null,
   "metadata": {},
   "outputs": [],
   "source": []
  },
  {
   "cell_type": "code",
   "execution_count": null,
   "metadata": {},
   "outputs": [],
   "source": []
  },
  {
   "cell_type": "code",
   "execution_count": null,
   "metadata": {},
   "outputs": [],
   "source": []
  },
  {
   "cell_type": "code",
   "execution_count": null,
   "metadata": {},
   "outputs": [],
   "source": []
  },
  {
   "cell_type": "code",
   "execution_count": null,
   "metadata": {},
   "outputs": [],
   "source": []
  },
  {
   "cell_type": "code",
   "execution_count": null,
   "metadata": {},
   "outputs": [],
   "source": []
  },
  {
   "cell_type": "code",
   "execution_count": null,
   "metadata": {},
   "outputs": [],
   "source": []
  },
  {
   "cell_type": "code",
   "execution_count": null,
   "metadata": {},
   "outputs": [],
   "source": []
  },
  {
   "cell_type": "code",
   "execution_count": null,
   "metadata": {},
   "outputs": [],
   "source": []
  },
  {
   "cell_type": "code",
   "execution_count": null,
   "metadata": {},
   "outputs": [],
   "source": []
  },
  {
   "cell_type": "code",
   "execution_count": null,
   "metadata": {},
   "outputs": [],
   "source": []
  },
  {
   "cell_type": "code",
   "execution_count": null,
   "metadata": {},
   "outputs": [],
   "source": []
  },
  {
   "cell_type": "code",
   "execution_count": null,
   "metadata": {},
   "outputs": [],
   "source": []
  },
  {
   "cell_type": "code",
   "execution_count": null,
   "metadata": {},
   "outputs": [],
   "source": []
  },
  {
   "cell_type": "code",
   "execution_count": null,
   "metadata": {},
   "outputs": [],
   "source": []
  },
  {
   "cell_type": "code",
   "execution_count": null,
   "metadata": {},
   "outputs": [],
   "source": []
  },
  {
   "cell_type": "code",
   "execution_count": null,
   "metadata": {},
   "outputs": [],
   "source": []
  },
  {
   "cell_type": "code",
   "execution_count": null,
   "metadata": {},
   "outputs": [],
   "source": []
  },
  {
   "cell_type": "code",
   "execution_count": null,
   "metadata": {},
   "outputs": [],
   "source": []
  },
  {
   "cell_type": "code",
   "execution_count": null,
   "metadata": {},
   "outputs": [],
   "source": []
  },
  {
   "cell_type": "code",
   "execution_count": null,
   "metadata": {},
   "outputs": [],
   "source": [
    "}"
   ]
  }
 ],
 "metadata": {
  "kernelspec": {
   "display_name": "Python 3",
   "language": "python",
   "name": "python3"
  },
  "language_info": {
   "codemirror_mode": {
    "name": "ipython",
    "version": 3
   },
   "file_extension": ".py",
   "mimetype": "text/x-python",
   "name": "python",
   "nbconvert_exporter": "python",
   "pygments_lexer": "ipython3",
   "version": "3.8.3"
  }
 },
 "nbformat": 4,
 "nbformat_minor": 5
}
