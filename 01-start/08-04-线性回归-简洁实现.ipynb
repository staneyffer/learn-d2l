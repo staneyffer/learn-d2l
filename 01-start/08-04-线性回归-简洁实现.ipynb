{
 "cells": [
  {
   "cell_type": "markdown",
   "id": "0916d898-0c20-42a2-bdc5-99b5a9531d75",
   "metadata": {},
   "source": [
    "## 线性回归的简洁实现\n",
    "\n",
    "### 通过使用深度学习框架来简洁地实现线性回归模型、生成数据集"
   ]
  },
  {
   "cell_type": "code",
   "execution_count": 56,
   "id": "d0cfc9a9-c53e-4530-bdd1-5b9e792fe243",
   "metadata": {},
   "outputs": [],
   "source": [
    "import numpy as np\n",
    "import torch\n",
    "from torch.utils import data\n",
    "from d2l import torch as d2l\n",
    "true_w = torch.tensor([2, -3.4])\n",
    "true_b = 4.2\n",
    "features, labels = d2l.synthetic_data(true_w, true_b, 1000)\n"
   ]
  },
  {
   "cell_type": "markdown",
   "id": "06e02e5d-c738-4507-a86f-1b83194dccb9",
   "metadata": {},
   "source": [
    "## 调用框架中现有的API来读取数据"
   ]
  },
  {
   "cell_type": "code",
   "execution_count": 57,
   "id": "b1548c8a-fb8a-407a-b7e8-feb664fe3e4a",
   "metadata": {},
   "outputs": [
    {
     "data": {
      "text/plain": [
       "[tensor([[ 0.1177,  0.1816],\n",
       "         [ 0.3283, -1.7649],\n",
       "         [-2.3040, -0.2416],\n",
       "         [-1.6857, -1.6319],\n",
       "         [-1.6701, -0.2968],\n",
       "         [-0.1680, -0.4173],\n",
       "         [ 0.2294,  2.6757],\n",
       "         [ 0.2440, -1.1210],\n",
       "         [-0.7817,  0.6410],\n",
       "         [ 0.8900,  1.4798]]),\n",
       " tensor([[ 3.8158],\n",
       "         [10.8573],\n",
       "         [ 0.4306],\n",
       "         [ 6.3501],\n",
       "         [ 1.8683],\n",
       "         [ 5.2815],\n",
       "         [-4.4254],\n",
       "         [ 8.5049],\n",
       "         [ 0.4630],\n",
       "         [ 0.9565]])]"
      ]
     },
     "execution_count": 57,
     "metadata": {},
     "output_type": "execute_result"
    }
   ],
   "source": [
    "def load_array(data_arrays, batch_size, is_train=True):\n",
    "    \"\"\"构造一个PyTorch数据迭代器\"\"\"\n",
    "    # 将数据集封装到Dataset中\n",
    "    dataset = data.TensorDataset(*data_arrays)\n",
    "    # 将数据集通过DataLoader加载（根据批量、是否打散数据来加载）\n",
    "    return data.DataLoader(dataset, batch_size, shuffle=is_train)\n",
    "\n",
    "batch_size = 10\n",
    "data_iter = load_array((features, labels), batch_size)\n",
    "next(iter(data_iter))"
   ]
  },
  {
   "cell_type": "markdown",
   "id": "2d404a04-4bf9-4acc-b759-9a257ebafd06",
   "metadata": {},
   "source": [
    "## 使用框架的预定义好的层"
   ]
  },
  {
   "cell_type": "code",
   "execution_count": 45,
   "id": "e593ffa4-aa5c-4262-9d6a-7c0834d32c00",
   "metadata": {},
   "outputs": [],
   "source": [
    "# `nn`是神经网络（Neural Network）的缩写\n",
    "from torch import nn\n",
    "## nn.Linear 使用线性层，或者全连接层\n",
    "## Sequential: list of layers\n",
    "net = nn.Sequential(nn.Linear(2,1))"
   ]
  },
  {
   "cell_type": "markdown",
   "id": "7c42cb7f-4e46-49c2-b315-ded6b6ee59c7",
   "metadata": {},
   "source": [
    "## 初始化模型参数"
   ]
  },
  {
   "cell_type": "code",
   "execution_count": 46,
   "id": "3f48b155-deab-4545-98d4-b523c6aa2834",
   "metadata": {},
   "outputs": [
    {
     "data": {
      "text/plain": [
       "tensor([0.])"
      ]
     },
     "execution_count": 46,
     "metadata": {},
     "output_type": "execute_result"
    }
   ],
   "source": [
    "# 线性模型只有一个leayer，所以net[0]就能拿到该层， net[0].weight是参数（w),\n",
    "# 使用正态分布替换data的值(均值为0，方差为0.01）\n",
    "net[0].weight.data.normal_(0, 0.01)\n",
    "# bias是偏差，设置为0\n",
    "net[0].bias.data.fill_(0)"
   ]
  },
  {
   "cell_type": "markdown",
   "id": "d3c504f3-dcbc-4400-b87c-0347bb005a9c",
   "metadata": {},
   "source": [
    "## 计算均方误差使用的是```MSELoss```类，也称平方$L_2$范数"
   ]
  },
  {
   "cell_type": "code",
   "execution_count": 47,
   "id": "dc774797-afd8-4295-863e-61553a84c3ec",
   "metadata": {},
   "outputs": [],
   "source": [
    "loss = nn.MSELoss()"
   ]
  },
  {
   "cell_type": "markdown",
   "id": "bbc7ec52-78bc-431f-afe0-5425b31c495b",
   "metadata": {},
   "source": [
    "## 实例化```SGD```实例"
   ]
  },
  {
   "cell_type": "code",
   "execution_count": 60,
   "id": "d029f96d-6ded-4348-8458-8a3fde185629",
   "metadata": {},
   "outputs": [],
   "source": [
    "trainer = torch.optim.SGD(net.parameters(), lr=0.03)"
   ]
  },
  {
   "cell_type": "markdown",
   "id": "35515bd5-12f7-4977-aec1-233d0f0ba1e7",
   "metadata": {},
   "source": [
    "## 训练过程与我们从零开始时所做的非常相似"
   ]
  },
  {
   "cell_type": "code",
   "execution_count": 61,
   "id": "7071b149-4fe0-44e3-bc2a-7282c3c5a461",
   "metadata": {},
   "outputs": [
    {
     "name": "stdout",
     "output_type": "stream",
     "text": [
      "epoch 1, loss 0.000099\n",
      "epoch 2, loss 0.000100\n",
      "epoch 3, loss 0.000100\n"
     ]
    }
   ],
   "source": [
    "# data_iter = load_array((features, labels), batch_size)\n",
    "num_epochs = 3\n",
    "\n",
    "for epoch in range(num_epochs):\n",
    "    for X, y in data_iter:\n",
    "        l = loss(net(X), y)\n",
    "        # 清零梯度\n",
    "        trainer.zero_grad()\n",
    "        # 计算backward\n",
    "        l.backward()\n",
    "        # 更新模型\n",
    "        trainer.step()\n",
    "    l = loss(net(features), labels)\n",
    "    print(f'epoch {epoch + 1}, loss {l:f}')"
   ]
  }
 ],
 "metadata": {
  "kernelspec": {
   "display_name": "Python 3 (ipykernel)",
   "language": "python",
   "name": "python3"
  },
  "language_info": {
   "codemirror_mode": {
    "name": "ipython",
    "version": 3
   },
   "file_extension": ".py",
   "mimetype": "text/x-python",
   "name": "python",
   "nbconvert_exporter": "python",
   "pygments_lexer": "ipython3",
   "version": "3.8.13"
  }
 },
 "nbformat": 4,
 "nbformat_minor": 5
}
