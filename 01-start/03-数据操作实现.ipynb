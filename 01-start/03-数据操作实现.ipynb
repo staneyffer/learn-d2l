{
 "cells": [
  {
   "cell_type": "markdown",
   "id": "b160c14f",
   "metadata": {},
   "source": [
    "## 张量表示一个数值组成的数组，这个数组可能有多个维度"
   ]
  },
  {
   "cell_type": "code",
   "execution_count": 36,
   "id": "3ca6df9c",
   "metadata": {},
   "outputs": [
    {
     "data": {
      "text/plain": [
       "tensor([ 0,  1,  2,  3,  4,  5,  6,  7,  8,  9, 10, 11])"
      ]
     },
     "execution_count": 36,
     "metadata": {},
     "output_type": "execute_result"
    }
   ],
   "source": [
    "import torch\n",
    "x = torch.arange(12)\n",
    "x"
   ]
  },
  {
   "cell_type": "markdown",
   "id": "57546539",
   "metadata": {},
   "source": [
    "## 我们可以通过张量的```shape```属性来访问张量的形状和张量中元素的总数"
   ]
  },
  {
   "cell_type": "code",
   "execution_count": 7,
   "id": "f957433f",
   "metadata": {},
   "outputs": [
    {
     "data": {
      "text/plain": [
       "torch.Size([12])"
      ]
     },
     "execution_count": 7,
     "metadata": {},
     "output_type": "execute_result"
    }
   ],
   "source": [
    "x.shape"
   ]
  },
  {
   "cell_type": "code",
   "execution_count": 10,
   "id": "6af011a4",
   "metadata": {},
   "outputs": [
    {
     "data": {
      "text/plain": [
       "12"
      ]
     },
     "execution_count": 10,
     "metadata": {},
     "output_type": "execute_result"
    }
   ],
   "source": [
    "# 元素的种数量(number of elements)\n",
    "x.numel()"
   ]
  },
  {
   "cell_type": "markdown",
   "id": "e5f17291",
   "metadata": {},
   "source": [
    "## 改变张量的形状而不改变数量和元素值，可以通过调用```reshape```函数(```reshape```后张量中元素的改变会影响原来被```reshape```的张量的元素的值)"
   ]
  },
  {
   "cell_type": "code",
   "execution_count": 12,
   "id": "78f28e45",
   "metadata": {},
   "outputs": [
    {
     "data": {
      "text/plain": [
       "tensor([[ 0,  1,  2,  3],\n",
       "        [ 4,  5,  6,  7],\n",
       "        [ 8,  9, 10, 11]])"
      ]
     },
     "execution_count": 12,
     "metadata": {},
     "output_type": "execute_result"
    }
   ],
   "source": [
    "x.reshape(3, 4)\n",
    "# 改为3行4列"
   ]
  },
  {
   "cell_type": "markdown",
   "id": "f62b3249",
   "metadata": {},
   "source": [
    "## 使用全0、全1、其它常量或者从特定分布中随机采样的数字"
   ]
  },
  {
   "cell_type": "code",
   "execution_count": 13,
   "id": "6270fb07",
   "metadata": {},
   "outputs": [
    {
     "data": {
      "text/plain": [
       "tensor([[[0., 0., 0., 0.],\n",
       "         [0., 0., 0., 0.],\n",
       "         [0., 0., 0., 0.]],\n",
       "\n",
       "        [[0., 0., 0., 0.],\n",
       "         [0., 0., 0., 0.],\n",
       "         [0., 0., 0., 0.]]])"
      ]
     },
     "execution_count": 13,
     "metadata": {},
     "output_type": "execute_result"
    }
   ],
   "source": [
    "torch.zeros((2, 3, 4))"
   ]
  },
  {
   "cell_type": "code",
   "execution_count": 14,
   "id": "4227501f",
   "metadata": {},
   "outputs": [
    {
     "data": {
      "text/plain": [
       "tensor([[[1., 1., 1., 1.],\n",
       "         [1., 1., 1., 1.],\n",
       "         [1., 1., 1., 1.]],\n",
       "\n",
       "        [[1., 1., 1., 1.],\n",
       "         [1., 1., 1., 1.],\n",
       "         [1., 1., 1., 1.]]])"
      ]
     },
     "execution_count": 14,
     "metadata": {},
     "output_type": "execute_result"
    }
   ],
   "source": [
    "torch.ones((2, 3,4))"
   ]
  },
  {
   "cell_type": "markdown",
   "id": "2e3cd63c",
   "metadata": {},
   "source": [
    "## 从python列表创建张量"
   ]
  },
  {
   "cell_type": "code",
   "execution_count": 15,
   "id": "e0781ee6",
   "metadata": {},
   "outputs": [
    {
     "data": {
      "text/plain": [
       "tensor([[2, 1, 4, 3],\n",
       "        [1, 2, 3, 4],\n",
       "        [4, 3, 2, 1]])"
      ]
     },
     "execution_count": 15,
     "metadata": {},
     "output_type": "execute_result"
    }
   ],
   "source": [
    "torch.tensor([[2, 1, 4, 3], [1, 2,3, 4],[4, 3, 2,1]])"
   ]
  },
  {
   "cell_type": "markdown",
   "id": "57f095b8",
   "metadata": {},
   "source": [
    "## 常见的标准运算（+、-、\\*、/和指数(**)）都可以被升级为按元素运算"
   ]
  },
  {
   "cell_type": "code",
   "execution_count": 17,
   "id": "70f08427",
   "metadata": {},
   "outputs": [
    {
     "data": {
      "text/plain": [
       "(tensor([ 3.,  4.,  6., 10.]),\n",
       " tensor([-1.,  0.,  2.,  6.]),\n",
       " tensor([ 2.,  4.,  8., 16.]),\n",
       " tensor([0.5000, 1.0000, 2.0000, 4.0000]),\n",
       " tensor([ 1.,  4., 16., 64.]))"
      ]
     },
     "execution_count": 17,
     "metadata": {},
     "output_type": "execute_result"
    }
   ],
   "source": [
    "x = torch.tensor([1.0, 2, 4, 8])\n",
    "y = torch.tensor([2,   2, 2, 2])\n",
    "x + y, x - y, x * y, x / y, x ** y"
   ]
  },
  {
   "cell_type": "markdown",
   "id": "67aa9088",
   "metadata": {},
   "source": [
    "## 指数运算($e^n$) \n"
   ]
  },
  {
   "cell_type": "code",
   "execution_count": 19,
   "id": "3928c774",
   "metadata": {},
   "outputs": [
    {
     "data": {
      "text/plain": [
       "tensor([2.7183e+00, 7.3891e+00, 5.4598e+01, 2.9810e+03])"
      ]
     },
     "execution_count": 19,
     "metadata": {},
     "output_type": "execute_result"
    }
   ],
   "source": [
    "torch.exp(x)"
   ]
  },
  {
   "cell_type": "markdown",
   "id": "e77bdbc5",
   "metadata": {},
   "source": [
    "## 连接多个张量"
   ]
  },
  {
   "cell_type": "code",
   "execution_count": 22,
   "id": "a65f8072",
   "metadata": {},
   "outputs": [
    {
     "data": {
      "text/plain": [
       "tensor([[ 0.,  1.,  2.,  3.],\n",
       "        [ 4.,  5.,  6.,  7.],\n",
       "        [ 8.,  9., 10., 11.]])"
      ]
     },
     "execution_count": 22,
     "metadata": {},
     "output_type": "execute_result"
    }
   ],
   "source": [
    "X = torch.arange(12, dtype=torch.float32).reshape(3, 4)\n",
    "X"
   ]
  },
  {
   "cell_type": "code",
   "execution_count": 24,
   "id": "9e6d2150",
   "metadata": {},
   "outputs": [
    {
     "data": {
      "text/plain": [
       "tensor([[2., 1., 4., 3.],\n",
       "        [1., 2., 3., 4.],\n",
       "        [4., 3., 2., 1.]])"
      ]
     },
     "execution_count": 24,
     "metadata": {},
     "output_type": "execute_result"
    }
   ],
   "source": [
    "Y = torch.tensor([[2.0, 1, 4,3], [1, 2,3, 4], [4, 3, 2,1]])\n",
    "Y"
   ]
  },
  {
   "cell_type": "code",
   "execution_count": 26,
   "id": "c8e7ef82",
   "metadata": {},
   "outputs": [
    {
     "data": {
      "text/plain": [
       "tensor([[ 0.,  1.,  2.,  3.],\n",
       "        [ 4.,  5.,  6.,  7.],\n",
       "        [ 8.,  9., 10., 11.],\n",
       "        [ 2.,  1.,  4.,  3.],\n",
       "        [ 1.,  2.,  3.,  4.],\n",
       "        [ 4.,  3.,  2.,  1.]])"
      ]
     },
     "execution_count": 26,
     "metadata": {},
     "output_type": "execute_result"
    }
   ],
   "source": [
    "# 在第0维合并(也就是在行合并)\n",
    "torch.cat((X, Y), dim=0)"
   ]
  },
  {
   "cell_type": "code",
   "execution_count": 29,
   "id": "8c53e3e3",
   "metadata": {},
   "outputs": [
    {
     "data": {
      "text/plain": [
       "tensor([[ 0.,  1.,  2.,  3.,  2.,  1.,  4.,  3.],\n",
       "        [ 4.,  5.,  6.,  7.,  1.,  2.,  3.,  4.],\n",
       "        [ 8.,  9., 10., 11.,  4.,  3.,  2.,  1.]])"
      ]
     },
     "execution_count": 29,
     "metadata": {},
     "output_type": "execute_result"
    }
   ],
   "source": [
    "# 在第1维合并（在列方向合并)\n",
    "torch.cat((X, Y), dim=1)"
   ]
  },
  {
   "cell_type": "markdown",
   "id": "10be2566",
   "metadata": {},
   "source": [
    "## 通过逻辑运算符构建二维张量"
   ]
  },
  {
   "cell_type": "code",
   "execution_count": 30,
   "id": "13fb5ae3",
   "metadata": {},
   "outputs": [
    {
     "data": {
      "text/plain": [
       "tensor([[False,  True, False,  True],\n",
       "        [False, False, False, False],\n",
       "        [False, False, False, False]])"
      ]
     },
     "execution_count": 30,
     "metadata": {},
     "output_type": "execute_result"
    }
   ],
   "source": [
    "X == Y"
   ]
  },
  {
   "cell_type": "markdown",
   "id": "caa2e968",
   "metadata": {},
   "source": [
    "## 对张量中的所有元素进行求和会产生一个只有一个元素的张量"
   ]
  },
  {
   "cell_type": "code",
   "execution_count": 31,
   "id": "7e809f2a",
   "metadata": {},
   "outputs": [
    {
     "data": {
      "text/plain": [
       "tensor(66.)"
      ]
     },
     "execution_count": 31,
     "metadata": {},
     "output_type": "execute_result"
    }
   ],
   "source": [
    "X.sum()"
   ]
  },
  {
   "cell_type": "markdown",
   "id": "39f7e860",
   "metadata": {},
   "source": [
    "## 相同维度的两个张量，即使形状不同，也可以通过调用广播机制（broading mechanism）来执行按元素操作"
   ]
  },
  {
   "cell_type": "code",
   "execution_count": 34,
   "id": "185852f4",
   "metadata": {},
   "outputs": [
    {
     "data": {
      "text/plain": [
       "(tensor([[0],\n",
       "         [1],\n",
       "         [2]]),\n",
       " tensor([[0, 1]]))"
      ]
     },
     "execution_count": 34,
     "metadata": {},
     "output_type": "execute_result"
    }
   ],
   "source": [
    "a = torch.arange(3).reshape(3, 1)\n",
    "b = torch.arange(2).reshape(1, 2)\n",
    "a, b"
   ]
  },
  {
   "cell_type": "code",
   "execution_count": 35,
   "id": "eb5754c5",
   "metadata": {},
   "outputs": [
    {
     "data": {
      "text/plain": [
       "tensor([[0, 1],\n",
       "        [1, 2],\n",
       "        [2, 3]])"
      ]
     },
     "execution_count": 35,
     "metadata": {},
     "output_type": "execute_result"
    }
   ],
   "source": [
    "# 本质是通过补全缺失的数据\n",
    "# 对张量a复制第一列，使其具有两列，对张量b，复制第一行，使其具有两行\n",
    "a + b"
   ]
  },
  {
   "cell_type": "markdown",
   "id": "a7f36583",
   "metadata": {},
   "source": [
    "## 使用```[-1]```选择最后一个元素，用```[1:3]```选择第二个和第三个元素"
   ]
  },
  {
   "cell_type": "code",
   "execution_count": 38,
   "id": "4eb1fd78",
   "metadata": {},
   "outputs": [
    {
     "data": {
      "text/plain": [
       "(tensor([ 8.,  9., 10., 11.]),\n",
       " tensor([[ 4.,  5.,  6.,  7.],\n",
       "         [ 8.,  9., 10., 11.]]))"
      ]
     },
     "execution_count": 38,
     "metadata": {},
     "output_type": "execute_result"
    }
   ],
   "source": [
    "X[-1], X[1:3]"
   ]
  },
  {
   "cell_type": "markdown",
   "id": "176faef5",
   "metadata": {},
   "source": [
    "## 通过指定索引来将元素写入张量"
   ]
  },
  {
   "cell_type": "code",
   "execution_count": 40,
   "id": "a780950c",
   "metadata": {},
   "outputs": [
    {
     "data": {
      "text/plain": [
       "tensor([[ 0.,  1.,  2.,  3.],\n",
       "        [ 4.,  5.,  6.,  7.],\n",
       "        [ 8.,  9., 10., 11.]])"
      ]
     },
     "execution_count": 40,
     "metadata": {},
     "output_type": "execute_result"
    }
   ],
   "source": [
    "X"
   ]
  },
  {
   "cell_type": "code",
   "execution_count": 42,
   "id": "e67e99e1",
   "metadata": {},
   "outputs": [
    {
     "data": {
      "text/plain": [
       "tensor([[ 0.,  1.,  2.,  3.],\n",
       "        [ 4.,  5.,  9.,  7.],\n",
       "        [ 8.,  9., 10., 11.]])"
      ]
     },
     "execution_count": 42,
     "metadata": {},
     "output_type": "execute_result"
    }
   ],
   "source": [
    "X[1, 2] = 9\n",
    "X"
   ]
  },
  {
   "cell_type": "markdown",
   "id": "b8b89ab1",
   "metadata": {},
   "source": [
    "## 为多个元素赋予相同的值"
   ]
  },
  {
   "cell_type": "code",
   "execution_count": 43,
   "id": "dbde82cb",
   "metadata": {},
   "outputs": [
    {
     "data": {
      "text/plain": [
       "tensor([[12., 12., 12., 12.],\n",
       "        [12., 12., 12., 12.],\n",
       "        [ 8.,  9., 10., 11.]])"
      ]
     },
     "execution_count": 43,
     "metadata": {},
     "output_type": "execute_result"
    }
   ],
   "source": [
    "# 选中第0、1行中的所有列, 赋值为12\n",
    "X[0:2, :] = 12\n",
    "X"
   ]
  },
  {
   "cell_type": "markdown",
   "id": "03acfee6",
   "metadata": {},
   "source": [
    "## 运行一些操作可能导致为新结果分配内存"
   ]
  },
  {
   "cell_type": "code",
   "execution_count": 48,
   "id": "9db301a4",
   "metadata": {},
   "outputs": [
    {
     "data": {
      "text/plain": [
       "False"
      ]
     },
     "execution_count": 48,
     "metadata": {},
     "output_type": "execute_result"
    }
   ],
   "source": [
    "# id函数类似于获取对象的地址\n",
    "before = id(Y)\n",
    "Y = Y + X\n",
    "# 地址不同了\n",
    "id(Y) == before"
   ]
  },
  {
   "cell_type": "markdown",
   "id": "068c916f",
   "metadata": {},
   "source": [
    "## 执行原地操作"
   ]
  },
  {
   "cell_type": "code",
   "execution_count": 51,
   "id": "15d0c292",
   "metadata": {},
   "outputs": [
    {
     "name": "stdout",
     "output_type": "stream",
     "text": [
      "id(Z):  140654555647328\n",
      "id(Z):  140654555647328\n"
     ]
    }
   ],
   "source": [
    "Z = torch.zeros_like(Y)\n",
    "print(\"id(Z): \", id(Z))\n",
    "Z[:] = X + Y\n",
    "print(\"id(Z): \", id(Z))"
   ]
  },
  {
   "cell_type": "markdown",
   "id": "eac562bb",
   "metadata": {},
   "source": [
    "## 如果在后续操作中不在使用的某个张量，可以直接改写，减少内存的分配"
   ]
  },
  {
   "cell_type": "code",
   "execution_count": 55,
   "id": "eaf61037",
   "metadata": {},
   "outputs": [
    {
     "data": {
      "text/plain": [
       "tensor([[64., 62., 68., 66.],\n",
       "        [62., 64., 66., 68.],\n",
       "        [48., 51., 54., 57.]])"
      ]
     },
     "execution_count": 55,
     "metadata": {},
     "output_type": "execute_result"
    }
   ],
   "source": [
    "before = id(X)\n",
    "X += Y\n",
    "id(X) == before\n",
    "X"
   ]
  },
  {
   "cell_type": "markdown",
   "id": "1c19c664",
   "metadata": {},
   "source": [
    "## 转换为Numpy张量"
   ]
  },
  {
   "cell_type": "code",
   "execution_count": 56,
   "id": "59d6fc44",
   "metadata": {},
   "outputs": [
    {
     "data": {
      "text/plain": [
       "(numpy.ndarray, torch.Tensor)"
      ]
     },
     "execution_count": 56,
     "metadata": {},
     "output_type": "execute_result"
    }
   ],
   "source": [
    "A = X.numpy()\n",
    "B = torch.tensor(A)\n",
    "type(A), type(B)"
   ]
  },
  {
   "cell_type": "markdown",
   "id": "4f73a246",
   "metadata": {},
   "source": [
    "## 将大小为1的张量转换为Python的标量"
   ]
  },
  {
   "cell_type": "code",
   "execution_count": 57,
   "id": "504867ad",
   "metadata": {},
   "outputs": [
    {
     "data": {
      "text/plain": [
       "(tensor([3.5000]), 3.5, 3.5, 3)"
      ]
     },
     "execution_count": 57,
     "metadata": {},
     "output_type": "execute_result"
    }
   ],
   "source": [
    "a = torch.tensor([3.5])\n",
    "a, a.item(), float(a), int(a)"
   ]
  }
 ],
 "metadata": {
  "kernelspec": {
   "display_name": "Python 3 (ipykernel)",
   "language": "python",
   "name": "python3"
  },
  "language_info": {
   "codemirror_mode": {
    "name": "ipython",
    "version": 3
   },
   "file_extension": ".py",
   "mimetype": "text/x-python",
   "name": "python",
   "nbconvert_exporter": "python",
   "pygments_lexer": "ipython3",
   "version": "3.8.13"
  },
  "vscode": {
   "interpreter": {
    "hash": "aee8b7b246df8f9039afb4144a1f6fd8d2ca17a180786b69acc140d282b71a49"
   }
  }
 },
 "nbformat": 4,
 "nbformat_minor": 5
}
