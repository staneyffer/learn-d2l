{
 "cells": [
  {
   "cell_type": "markdown",
   "id": "eb828209",
   "metadata": {},
   "source": [
    "## 向量链式法则\n",
    "\n",
    "- **标量链式法则**\n",
    "$$\n",
    "y = f(u), u=g(x) \\qquad \\frac{\\partial y}{\\partial x} = \\frac{\\partial y}{\\partial u} \\frac{\\partial u}{\\partial x}\n",
    "$$\n",
    "\n",
    "- **扩展到向量**\n",
    "$$\n",
    "\\frac{\\partial y}{\\partial \\pmb x} = \\frac{\\partial y}{\\partial u} \\frac{\\partial u}{\\partial \\pmb x}\n",
    "\\\\ (1,n)\\quad (1,) (1,n)\n",
    "$$\n",
    "\n",
    "$$\n",
    "\\frac{\\partial y}{\\partial \\pmb x} = \\frac{\\partial y}{\\partial \\pmb u} \\frac{\\partial \\pmb u}{\\partial \\pmb x}\n",
    "\\\\ (1,n)\\quad (1,k) (k,n)\n",
    "$$\n",
    "\n",
    "$$\n",
    "\\frac{\\partial \\pmb y}{\\partial \\pmb x} = \\frac{\\partial \\pmb y}{\\partial \\pmb u} \\frac{\\partial \\pmb u}{\\partial \\pmb x}\n",
    "\\\\ (m,n)\\quad (m,k) (k,n)\n",
    "$$\n"
   ]
  },
  {
   "cell_type": "markdown",
   "id": "110f9c48",
   "metadata": {},
   "source": [
    "## 例子1（向量求导）\n",
    "\n",
    "### 假设：\n",
    "$$\n",
    "\\pmb x, \\pmb w \\in \\mathbb R^n, \\quad y \\in \\mathbb R\n",
    "\\\\\n",
    "z = (\\langle \\pmb x, \\pmb w\\rangle - y) ^2 \n",
    "$$\n",
    "\n",
    "(其中$\\langle \\pmb x, \\pmb w\\rangle $表示向量$\\pmb x$和向量$\\pmb w$做内积)\n",
    "\n",
    "### 计算 $\\frac{\\partial z}{\\partial \\pmb w}$\n",
    "\n",
    "### 分解\n",
    "$$\n",
    "a = \\langle \\pmb x, \\pmb w \\rangle \\\\\n",
    "b = a - y \\\\\n",
    "z = b^2\n",
    "$$\n",
    "\n",
    "\n",
    "### 求解:\n",
    "$$\n",
    "\\frac{\\partial z}{\\partial \\pmb w} = \\frac{\\partial z}{\\partial b} \\frac{\\partial b}{\\partial a} \n",
    "\\frac{\\partial a}{\\partial \\pmb w} \\\\\n",
    "= \\frac{\\partial b^2}{\\partial b} \\frac{\\partial a - y}{\\partial a}\n",
    "\\frac{\\partial \\langle \\pmb x, \\pmb w \\rangle}{\\partial \\pmb w} \\\\\n",
    "= 2b \\cdot 1 \\cdot \\pmb x ^\\top \\\\\n",
    "= 2(\\langle \\pmb x, \\pmb w \\rangle) \\pmb x^\\top\n",
    "$$"
   ]
  },
  {
   "cell_type": "markdown",
   "id": "02460086",
   "metadata": {},
   "source": [
    "## 例子2（矩阵求导）\n",
    "\n",
    "### 假设\n",
    "$$\n",
    "\\pmb X \\in \\mathbb R^{m \\times n}, \\quad \\pmb w \\in \\mathbb R^n, \\quad \\pmb y \\in \\mathbb R^m \\\\\n",
    "z = \n",
    "\\begin{Vmatrix}\n",
    "\\pmb X \\pmb w - \\pmb y\n",
    "\\end{Vmatrix} ^ 2\n",
    "$$\n",
    "\n",
    "其中$z$是$L_2$范数(元素平方和的平方根)\n",
    "\n",
    "### 计算  $\\frac{\\partial z}{\\partial \\pmb w}$\n",
    "\n",
    "### 分解\n",
    "$$\n",
    "\\pmb a = \\pmb X \\pmb w \\\\\n",
    "\\pmb b = \\pmb a - \\pmb y \\\\\n",
    "z = \\begin{Vmatrix} \\pmb b \\end{Vmatrix} ^2\n",
    "$$\n",
    "\n",
    "### 求解\n",
    "$$\n",
    "\\frac{\\partial z}{\\partial \\pmb w} = \\frac{\\partial z}{\\partial \\pmb b}\n",
    "\\frac{\\partial \\pmb b}{\\partial \\pmb a} \\frac{\\partial \\pmb a}{\\partial \\pmb w} \\\\\n",
    "= \\frac{\\partial \\begin{Vmatrix} \\pmb b \\end{Vmatrix}^2}{\\partial \\pmb b}\n",
    "\\frac{\\partial \\pmb a - \\pmb y}{\\partial \\pmb a} \\frac{\\partial \\pmb X \\pmb w}{\\partial \\pmb w} \\\\\n",
    "= 2 \\pmb b^\\top \\times \\pmb I \\times \\pmb X \\\\\n",
    "= 2(\\pmb X \\pmb w - \\pmb y)^\\top \\pmb X\n",
    "$$\n",
    "\n",
    "其中：$\\pmb I$是**单位矩阵（Identity matrix）**"
   ]
  },
  {
   "cell_type": "markdown",
   "id": "71ab31e0",
   "metadata": {},
   "source": [
    "## 自动求导\n",
    "- ### 自动求导是计算一个函数在指定值上的导数\n",
    "- ### 它有别于\n",
    "    - ### 符号求导\n",
    "    - ### 数值求导\n",
    "    $$\\frac{\\partial f(x)}{\\partial x} = \\lim_{h \\to 0} \\frac{f(x+h) - f(x)}{h}$$"
   ]
  },
  {
   "cell_type": "markdown",
   "id": "8df80af3",
   "metadata": {},
   "source": [
    "## 计算图（类似于链式法则）\n",
    "- ### 将代码分解成操作子\n",
    "- ### 将计算表示成无环图\n",
    "- ### 显示构造\n",
    "    - ### Tensorflow/Theano/MXNet\n",
    "- ### 隐式构造\n",
    "    - ### PyTorch/MXNet"
   ]
  },
  {
   "cell_type": "markdown",
   "id": "f37b860b",
   "metadata": {},
   "source": [
    "## 自动求导的两种模式\n",
    "- ### 链式法则: \n",
    "$$\n",
    "\\frac{\\partial y}{\\partial x} = \\frac{\\partial y}{\\partial u_n}\\frac{\\partial u_n}{\\partial u_{n-1}} ...\n",
    "\\frac{\\partial u_2}{\\partial u_{1}} \\frac{\\partial u_1}{\\partial x}\n",
    "$$\n",
    "\n",
    "- ### 正向累积\n",
    "$$\n",
    "\\frac{\\partial y}{\\partial x} = \\frac{\\partial y}{\\partial u_n}(\\frac{\\partial u_n}{\\partial u_{n-1}}(...\n",
    "(\\frac{\\partial u_2}{\\partial u_{1}} \\frac{\\partial u_1}{\\partial x})))\n",
    "$$\n",
    "\n",
    "- ### 反向累积、又称反向传递\n",
    "$$\n",
    "\\frac{\\partial y}{\\partial x} = (((\\frac{\\partial y}{\\partial u_n}\\frac{\\partial u_n}{\\partial u_{n-1}})...)\n",
    "\\frac{\\partial u_2}{\\partial u_{1}}) \\frac{\\partial u_1}{\\partial x}\n",
    "$$\n"
   ]
  },
  {
   "cell_type": "markdown",
   "id": "1db518ef",
   "metadata": {},
   "source": [
    "## 反向累积总结\n",
    "- ### 构造计算图\n",
    "- ### 前向：执行图，存储中间结果\n",
    "- ### 反向：从相反方向执行图\n",
    "    - 去除不需要的枝\n",
    "    \n",
    "## 复杂度\n",
    "- ### 计算复杂度： $O(n)$, $n$是操作子个数\n",
    "    - ### 通常正向和反向的代价类似\n",
    "- ### 内存复杂度: $O(n)$，因为需要存储正向的所有的中间结果\n",
    "- ### 跟正向累积对比：\n",
    "    - ### 计算一个变量梯度的复杂度为: $O(n)$, 比较慢\n",
    "    - ### $O(1)$内存复杂度"
   ]
  },
  {
   "cell_type": "code",
   "execution_count": null,
   "id": "1c94f918",
   "metadata": {},
   "outputs": [],
   "source": []
  }
 ],
 "metadata": {
  "kernelspec": {
   "display_name": "Python 3 (ipykernel)",
   "language": "python",
   "name": "python3"
  },
  "language_info": {
   "codemirror_mode": {
    "name": "ipython",
    "version": 3
   },
   "file_extension": ".py",
   "mimetype": "text/x-python",
   "name": "python",
   "nbconvert_exporter": "python",
   "pygments_lexer": "ipython3",
   "version": "3.8.13"
  }
 },
 "nbformat": 4,
 "nbformat_minor": 5
}
