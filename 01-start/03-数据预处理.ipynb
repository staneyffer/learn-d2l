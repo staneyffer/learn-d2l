{
 "cells": [
  {
   "cell_type": "code",
   "execution_count": null,
   "id": "5ec44617",
   "metadata": {},
   "outputs": [],
   "source": [
    "# 课程连接\n",
    "# https://www.bilibili.com/video/BV1CV411Y7i4?p=3&spm_id_from=pageDriver&vd_source=1e24bea13e6d1cebde02158c5f3dfd61"
   ]
  }
 ],
 "metadata": {
  "kernelspec": {
   "display_name": "Python 3 (ipykernel)",
   "language": "python",
   "name": "python3"
  },
  "language_info": {
   "codemirror_mode": {
    "name": "ipython",
    "version": 3
   },
   "file_extension": ".py",
   "mimetype": "text/x-python",
   "name": "python",
   "nbconvert_exporter": "python",
   "pygments_lexer": "ipython3",
   "version": "3.8.13"
  }
 },
 "nbformat": 4,
 "nbformat_minor": 5
}
