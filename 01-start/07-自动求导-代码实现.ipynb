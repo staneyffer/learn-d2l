{
 "cells": [
  {
   "cell_type": "markdown",
   "id": "c71b03f4",
   "metadata": {},
   "source": [
    "## 自动求导\n",
    "\n",
    "假设我们想对函数$y = 2 \\pmb x^\\top \\pmb x$ 关于列向量$\\pmb x$求导"
   ]
  },
  {
   "cell_type": "code",
   "execution_count": 2,
   "id": "5fdf0b33",
   "metadata": {},
   "outputs": [
    {
     "data": {
      "text/plain": [
       "tensor([0., 1., 2., 3.])"
      ]
     },
     "execution_count": 2,
     "metadata": {},
     "output_type": "execute_result"
    }
   ],
   "source": [
    "import torch\n",
    "x = torch.arange(4.0)\n",
    "x"
   ]
  },
  {
   "cell_type": "markdown",
   "id": "a10e0d1e",
   "metadata": {},
   "source": [
    "### 在我们计算$y$关于$\\pmb x$的梯度之前，我们需要一个地方存储梯度。"
   ]
  },
  {
   "cell_type": "code",
   "execution_count": 5,
   "id": "5ab0ab72",
   "metadata": {},
   "outputs": [],
   "source": [
    "# 等价与x = torch.arange(4.0, requires_grad=True)\n",
    "x.requires_grad_(True)\n",
    "x.grad # 默认值是None"
   ]
  },
  {
   "cell_type": "markdown",
   "id": "bbe08e29",
   "metadata": {},
   "source": [
    "### 计算$y$"
   ]
  },
  {
   "cell_type": "code",
   "execution_count": 6,
   "id": "fd5ba1b0",
   "metadata": {},
   "outputs": [
    {
     "data": {
      "text/plain": [
       "tensor(28., grad_fn=<MulBackward0>)"
      ]
     },
     "execution_count": 6,
     "metadata": {},
     "output_type": "execute_result"
    }
   ],
   "source": [
    "# 内积\n",
    "y = 2 * torch.dot(x, x)\n",
    "y"
   ]
  },
  {
   "cell_type": "markdown",
   "id": "7c1a07c4",
   "metadata": {},
   "source": [
    "### 通过调用反向传播函数来自动计算$y$关于$x$每个分量的梯度"
   ]
  },
  {
   "cell_type": "code",
   "execution_count": 7,
   "id": "556b9618",
   "metadata": {},
   "outputs": [
    {
     "data": {
      "text/plain": [
       "tensor([ 0.,  4.,  8., 12.])"
      ]
     },
     "execution_count": 7,
     "metadata": {},
     "output_type": "execute_result"
    }
   ],
   "source": [
    "y.backward()\n",
    "x.grad"
   ]
  },
  {
   "cell_type": "code",
   "execution_count": 8,
   "id": "c67cead9",
   "metadata": {},
   "outputs": [
    {
     "data": {
      "text/plain": [
       "tensor([True, True, True, True])"
      ]
     },
     "execution_count": 8,
     "metadata": {},
     "output_type": "execute_result"
    }
   ],
   "source": [
    "x.grad == 4 * x"
   ]
  },
  {
   "cell_type": "markdown",
   "id": "f473bd9b",
   "metadata": {},
   "source": [
    "### 计算$x$的另一个函数"
   ]
  },
  {
   "cell_type": "code",
   "execution_count": 9,
   "id": "9b5d80cb",
   "metadata": {},
   "outputs": [
    {
     "data": {
      "text/plain": [
       "tensor([1., 1., 1., 1.])"
      ]
     },
     "execution_count": 9,
     "metadata": {},
     "output_type": "execute_result"
    }
   ],
   "source": [
    "# 默认情况下，PyTorch会累积梯度，我们需要清除之前的值\n",
    "x.grad.zero_()\n",
    "y = x.sum()\n",
    "y.backward()\n",
    "x.grad"
   ]
  },
  {
   "cell_type": "markdown",
   "id": "828a0485",
   "metadata": {},
   "source": [
    "其中，向量$\\pmb x$求和相当于向量$\\pmb x$乘一个单位向量$\\pmb e$，那么，$y$对$x$求导后，$y^{'} = \\pmb e$ "
   ]
  },
  {
   "cell_type": "markdown",
   "id": "7986ed6a",
   "metadata": {},
   "source": [
    "### 在深度学习中，我们的目的不是计算微分矩阵，而是批量中每个样本单独计算的偏导数之和。 "
   ]
  },
  {
   "cell_type": "code",
   "execution_count": 10,
   "id": "6c91edd1",
   "metadata": {},
   "outputs": [
    {
     "data": {
      "text/plain": [
       "tensor([0., 2., 4., 6.])"
      ]
     },
     "execution_count": 10,
     "metadata": {},
     "output_type": "execute_result"
    }
   ],
   "source": [
    "# 对非标量调用`backward`需要传入一个`gradient`参数\n",
    "x.grad.zero_()\n",
    "y = x * x\n",
    "# 等\n",
    "y.sum().backward()\n",
    "x.grad"
   ]
  },
  {
   "cell_type": "markdown",
   "id": "45748b9b",
   "metadata": {},
   "source": [
    "### 将某些计算移动到记录的计算图之外"
   ]
  },
  {
   "cell_type": "code",
   "execution_count": 18,
   "id": "6e8fe366",
   "metadata": {},
   "outputs": [
    {
     "data": {
      "text/plain": [
       "(tensor([True, True, True, True]), tensor(36., grad_fn=<SumBackward0>))"
      ]
     },
     "execution_count": 18,
     "metadata": {},
     "output_type": "execute_result"
    }
   ],
   "source": [
    "x.grad.zero_()\n",
    "y = x * x\n",
    "# 当前y是一个函数，通过detach将y变为一个常数赋值给u， 是一个常数\n",
    "u = y.detach()\n",
    "# z关于x的导数便是一个 `常数 * x`\n",
    "z = u * x\n",
    "# z.sum()\n",
    "z.sum().backward()\n",
    "x.grad == u, z.sum()"
   ]
  },
  {
   "cell_type": "code",
   "execution_count": 19,
   "id": "ce2e0e9a",
   "metadata": {},
   "outputs": [
    {
     "data": {
      "text/plain": [
       "tensor([True, True, True, True])"
      ]
     },
     "execution_count": 19,
     "metadata": {},
     "output_type": "execute_result"
    }
   ],
   "source": [
    "x.grad.zero_()\n",
    "y.sum().backward()\n",
    "x.grad == 2 * x"
   ]
  },
  {
   "cell_type": "markdown",
   "id": "ece9b1f7",
   "metadata": {},
   "source": [
    "### 即使构建函数的计算图需要通过Python控制流（例如，条件、循环或任意函数调用），我们仍可以计算得到变量的梯度"
   ]
  },
  {
   "cell_type": "code",
   "execution_count": 22,
   "id": "725365bf",
   "metadata": {},
   "outputs": [
    {
     "data": {
      "text/plain": [
       "tensor(True)"
      ]
     },
     "execution_count": 22,
     "metadata": {},
     "output_type": "execute_result"
    }
   ],
   "source": [
    "def f(a):\n",
    "    b = a * 2\n",
    "    while b.norm() < 1000:\n",
    "        b = b * 2\n",
    "    if b.sum() > 0:\n",
    "        c = b\n",
    "    else:\n",
    "        c = 100 * b\n",
    "    return c\n",
    "\n",
    "a = torch.randn(size=(), requires_grad=True)\n",
    "d = f(a)\n",
    "d.backward()\n",
    "a.grad == d/a"
   ]
  }
 ],
 "metadata": {
  "kernelspec": {
   "display_name": "Python 3 (ipykernel)",
   "language": "python",
   "name": "python3"
  },
  "language_info": {
   "codemirror_mode": {
    "name": "ipython",
    "version": 3
   },
   "file_extension": ".py",
   "mimetype": "text/x-python",
   "name": "python",
   "nbconvert_exporter": "python",
   "pygments_lexer": "ipython3",
   "version": "3.8.13"
  }
 },
 "nbformat": 4,
 "nbformat_minor": 5
}
