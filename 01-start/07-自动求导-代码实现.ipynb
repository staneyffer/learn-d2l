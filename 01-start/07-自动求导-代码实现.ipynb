{
 "cells": [
  {
   "cell_type": "markdown",
   "id": "046ee8fb",
   "metadata": {},
   "source": [
    "## 自动求导\n",
    "\n",
    "假设我们想对函数$y = 2 \\pmb x^\\top \\pmb x$ 关于列向量$\\pmb x$求导"
   ]
  },
  {
   "cell_type": "code",
   "execution_count": 2,
   "id": "a01b5623",
   "metadata": {},
   "outputs": [
    {
     "data": {
      "text/plain": [
       "tensor([0., 1., 2., 3.])"
      ]
     },
     "execution_count": 2,
     "metadata": {},
     "output_type": "execute_result"
    }
   ],
   "source": [
    "import torch\n",
    "x = torch.arange(4.0)\n",
    "x"
   ]
  },
  {
   "cell_type": "markdown",
   "id": "b6db51b1",
   "metadata": {},
   "source": [
    "### 在我们计算$y$关于$\\pmb x$的梯度之前，我们需要一个地方存储梯度。"
   ]
  },
  {
   "cell_type": "code",
   "execution_count": 5,
   "id": "0099cfac",
   "metadata": {},
   "outputs": [],
   "source": [
    "# 等价与x = torch.arange(4.0, requires_grad=True)\n",
    "x.requires_grad_(True)\n",
    "x.grad # 默认值是None"
   ]
  },
  {
   "cell_type": "markdown",
   "id": "cb7ed7fb",
   "metadata": {},
   "source": [
    "### 计算$y$"
   ]
  },
  {
   "cell_type": "code",
   "execution_count": 6,
   "id": "b7806387",
   "metadata": {},
   "outputs": [
    {
     "data": {
      "text/plain": [
       "tensor(28., grad_fn=<MulBackward0>)"
      ]
     },
     "execution_count": 6,
     "metadata": {},
     "output_type": "execute_result"
    }
   ],
   "source": [
    "# 内积\n",
    "y = 2 * torch.dot(x, x)\n",
    "y"
   ]
  },
  {
   "cell_type": "markdown",
   "id": "51dd034b",
   "metadata": {},
   "source": [
    "### 通过调用反向传播函数来自动计算$y$关于$x$每个分量的梯度"
   ]
  },
  {
   "cell_type": "code",
   "execution_count": 7,
   "id": "f14e63ba",
   "metadata": {},
   "outputs": [
    {
     "data": {
      "text/plain": [
       "tensor([ 0.,  4.,  8., 12.])"
      ]
     },
     "execution_count": 7,
     "metadata": {},
     "output_type": "execute_result"
    }
   ],
   "source": [
    "y.backward()\n",
    "x.grad"
   ]
  },
  {
   "cell_type": "code",
   "execution_count": 8,
   "id": "3dd0a243",
   "metadata": {},
   "outputs": [
    {
     "data": {
      "text/plain": [
       "tensor([True, True, True, True])"
      ]
     },
     "execution_count": 8,
     "metadata": {},
     "output_type": "execute_result"
    }
   ],
   "source": [
    "x.grad == 4 * x"
   ]
  },
  {
   "cell_type": "markdown",
   "id": "9c2912ca",
   "metadata": {},
   "source": [
    "### 计算$x$的另一个函数"
   ]
  },
  {
   "cell_type": "code",
   "execution_count": 9,
   "id": "43dba938",
   "metadata": {},
   "outputs": [
    {
     "data": {
      "text/plain": [
       "tensor([1., 1., 1., 1.])"
      ]
     },
     "execution_count": 9,
     "metadata": {},
     "output_type": "execute_result"
    }
   ],
   "source": [
    "# 默认情况下，PyTorch会累积梯度，我们需要清除之前的值\n",
    "x.grad.zero_()\n",
    "y = x.sum()\n",
    "y.backward()\n",
    "x.grad"
   ]
  },
  {
   "cell_type": "markdown",
   "id": "696b66b0",
   "metadata": {},
   "source": [
    "其中，向量$\\pmb x$求和相当于向量$\\pmb x$乘一个单位向量$\\pmb e$，那么，$y$对$x$求导后，$y^{'} = \\pmb e$ "
   ]
  },
  {
   "cell_type": "code",
   "execution_count": null,
   "id": "e36628e4",
   "metadata": {},
   "outputs": [],
   "source": []
  },
  {
   "cell_type": "code",
   "execution_count": null,
   "id": "6c59534e",
   "metadata": {},
   "outputs": [],
   "source": []
  },
  {
   "cell_type": "code",
   "execution_count": null,
   "id": "d4de9db7",
   "metadata": {},
   "outputs": [],
   "source": []
  },
  {
   "cell_type": "code",
   "execution_count": null,
   "id": "8387a85c",
   "metadata": {},
   "outputs": [],
   "source": []
  }
 ],
 "metadata": {
  "kernelspec": {
   "display_name": "Python 3 (ipykernel)",
   "language": "python",
   "name": "python3"
  },
  "language_info": {
   "codemirror_mode": {
    "name": "ipython",
    "version": 3
   },
   "file_extension": ".py",
   "mimetype": "text/x-python",
   "name": "python",
   "nbconvert_exporter": "python",
   "pygments_lexer": "ipython3",
   "version": "3.8.13"
  }
 },
 "nbformat": 4,
 "nbformat_minor": 5
}
