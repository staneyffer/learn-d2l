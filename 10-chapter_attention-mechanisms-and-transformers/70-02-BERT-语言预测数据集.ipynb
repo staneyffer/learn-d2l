{
 "cells": [
  {
   "cell_type": "markdown",
   "id": "888feac3-7b91-4b2d-b650-da864a23fe39",
   "metadata": {},
   "source": [
    "## Natural Language Inference and the Dataset"
   ]
  },
  {
   "cell_type": "code",
   "execution_count": 9,
   "id": "53525e94-287e-43cf-893b-114fb1d95cc7",
   "metadata": {},
   "outputs": [],
   "source": [
    "import os\n",
    "import re\n",
    "import torch\n",
    "from torch import nn\n",
    "from d2l import torch as d2l\n",
    "\n",
    "d2l.DATA_HUB['SNLI'] = (\n",
    "    'https://nlp.stanford.edu/projects/snli/snli_1.0.zip',\n",
    "    '9fcde07509c7e87ec61c640c1b2753d9041758e4')\n",
    "\n",
    "data_dir = d2l.download_extract('SNLI')"
   ]
  },
  {
   "cell_type": "markdown",
   "id": "fa4733e5-aa95-46d7-bf35-b1ae30042325",
   "metadata": {},
   "source": [
    "## Reading the Dataset"
   ]
  },
  {
   "cell_type": "code",
   "execution_count": 5,
   "id": "e6e4b8b9-1990-49b4-9f4e-0484f70df8cc",
   "metadata": {},
   "outputs": [],
   "source": [
    "def read_snli(data_dir, is_train):\n",
    "    \"\"\"将SNLI数据集解析为前提、假设和标签\"\"\"\n",
    "    def extract_text(s):\n",
    "        # 删除我们不会使用的信息\n",
    "        s = re.sub('\\\\(', '', s)\n",
    "        s = re.sub('\\\\)', '', s)\n",
    "        # 用一个空格替换两个或多个连续的空格\n",
    "        s = re.sub('\\\\s{2,}', ' ', s)\n",
    "        return s.strip()\n",
    "    label_set = {'entailment': 0, 'contradiction': 1, 'neutral': 2}\n",
    "    file_name = os.path.join(data_dir, 'snli_1.0_train.txt'\n",
    "                             if is_train else 'snli_1.0_test.txt')\n",
    "    with open(file_name, 'r') as f:\n",
    "        rows = [row.split('\\t') for row in f.readlines()[1:]]\n",
    "    premises = [extract_text(row[1]) for row in rows if row[0] in label_set]\n",
    "    hypotheses = [extract_text(row[2]) for row in rows if row[0] \\\n",
    "                in label_set]\n",
    "    labels = [label_set[row[0]] for row in rows if row[0] in label_set]\n",
    "    return premises, hypotheses, labels"
   ]
  },
  {
   "cell_type": "markdown",
   "id": "9a7855eb-306f-4f0f-85ba-721fe2241431",
   "metadata": {},
   "source": [
    "## Print the first 3 pairs"
   ]
  },
  {
   "cell_type": "code",
   "execution_count": 11,
   "id": "8354f657-cc46-4ea5-8788-426a4b355a0e",
   "metadata": {},
   "outputs": [
    {
     "name": "stdout",
     "output_type": "stream",
     "text": [
      "premise:  A person on a horse jumps over a broken down airplane .\n",
      "hypothesis:  A person is training his horse for a competition .\n",
      "label:  2\n",
      "premise:  A person on a horse jumps over a broken down airplane .\n",
      "hypothesis:  A person is at a diner , ordering an omelette .\n",
      "label:  1\n",
      "premise:  A person on a horse jumps over a broken down airplane .\n",
      "hypothesis:  A person is outdoors , on a horse .\n",
      "label:  0\n"
     ]
    }
   ],
   "source": [
    "train_data = read_snli(data_dir, is_train=True)\n",
    "\n",
    "for x0, x1, y in zip(train_data[0][:3], train_data[1][:3], train_data[2][:3]):\n",
    "    print('premise: ', x0)\n",
    "    print('hypothesis: ', x1)\n",
    "    print('label: ', y)\n",
    "    \n",
    "premises_tokens = d2l.tokenize(train_data[0][:3])"
   ]
  },
  {
   "cell_type": "code",
   "execution_count": 12,
   "id": "973090a4-2010-4485-b43f-d5feffa51525",
   "metadata": {},
   "outputs": [
    {
     "data": {
      "text/plain": [
       "[['A',\n",
       "  'person',\n",
       "  'on',\n",
       "  'a',\n",
       "  'horse',\n",
       "  'jumps',\n",
       "  'over',\n",
       "  'a',\n",
       "  'broken',\n",
       "  'down',\n",
       "  'airplane',\n",
       "  '.'],\n",
       " ['A',\n",
       "  'person',\n",
       "  'on',\n",
       "  'a',\n",
       "  'horse',\n",
       "  'jumps',\n",
       "  'over',\n",
       "  'a',\n",
       "  'broken',\n",
       "  'down',\n",
       "  'airplane',\n",
       "  '.'],\n",
       " ['A',\n",
       "  'person',\n",
       "  'on',\n",
       "  'a',\n",
       "  'horse',\n",
       "  'jumps',\n",
       "  'over',\n",
       "  'a',\n",
       "  'broken',\n",
       "  'down',\n",
       "  'airplane',\n",
       "  '.']]"
      ]
     },
     "execution_count": 12,
     "metadata": {},
     "output_type": "execute_result"
    }
   ],
   "source": [
    "premises_tokens"
   ]
  },
  {
   "cell_type": "markdown",
   "id": "ccb00b98-fa16-45b7-853b-fd7986494af8",
   "metadata": {},
   "source": [
    "## Labels \"entailment\", \"contradiction\", and \"neutral\" aar blanced"
   ]
  },
  {
   "cell_type": "code",
   "execution_count": 8,
   "id": "cfe4ff42-8381-4caf-932e-8fdd88b26844",
   "metadata": {},
   "outputs": [
    {
     "name": "stdout",
     "output_type": "stream",
     "text": [
      "[183416, 183187, 182764]\n",
      "[3368, 3237, 3219]\n"
     ]
    }
   ],
   "source": [
    "test_data = read_snli(data_dir, is_train=False)\n",
    "\n",
    "for data in [train_data, test_data]:\n",
    "    print([[row for row in data[2]].count(i) for i in range(3)])\n",
    "    \n",
    "tokens = "
   ]
  },
  {
   "cell_type": "markdown",
   "id": "99207d67-0c6d-4c69-a690-f59bc5b2c80d",
   "metadata": {},
   "source": [
    "## Build Dataset"
   ]
  },
  {
   "cell_type": "code",
   "execution_count": 16,
   "id": "be01c6b3-6c52-446b-8589-c685585b4e7e",
   "metadata": {},
   "outputs": [],
   "source": [
    "class SNLIDataset(torch.utils.data.Dataset):\n",
    "    def __init__(self, dataset, num_steps, vocab=None):\n",
    "        self.num_steps = num_steps\n",
    "        all_premise_tokens = d2l.tokenize(dataset[0])\n",
    "        all_hypothesis_tokens = d2l.tokenize(dataset[1])\n",
    "        if vocab is None:\n",
    "            self.vocab = d2l.Vocab(all_premise_tokens + all_hypothesis_tokens, min_freq=5, reserved_tokens=['<pad>'])\n",
    "        else:\n",
    "            self.vocab = vocab\n",
    "        self.premises = self._pad(all_premise_tokens)\n",
    "        self.hypotheses = self._pad(all_hypothesis_tokens)\n",
    "        self.labels = torch.tensor(dataset[2])\n",
    "        print('Read ' + str(len(self.premises)) + ' examples')\n",
    "        \n",
    "    def _pad(self, lines):\n",
    "        return torch.tensor([d2l.truncate_pad(\n",
    "            self.vocab[line], self.num_steps, self.vocab['<pad>'])\n",
    "                         for line in lines])\n",
    "\n",
    "    def __getitem__(self, idx):\n",
    "        return (self.premises[idx], self.hypotheses[idx]), self.labels[idx]\n",
    "\n",
    "    def __len__(self):\n",
    "        return len(self.premises)"
   ]
  },
  {
   "cell_type": "markdown",
   "id": "c83665d0-2faf-4d64-8a85-6b424c8e8d6a",
   "metadata": {},
   "source": [
    "## Putting All things Together"
   ]
  },
  {
   "cell_type": "code",
   "execution_count": 18,
   "id": "2bb29038-c0f4-48bc-ab7f-545bbe7dd534",
   "metadata": {},
   "outputs": [
    {
     "name": "stdout",
     "output_type": "stream",
     "text": [
      "Read 549367 examples\n",
      "Read 9824 examples\n"
     ]
    }
   ],
   "source": [
    "def load_data_snli(batch_size, num_steps=50):\n",
    "    num_workers = d2l.get_dataloader_workers()\n",
    "    data_dir = d2l.download_extract('SNLI')\n",
    "    train_data = read_snli(data_dir, is_train=True)\n",
    "    test_data = read_snli(data_dir, is_train=False)\n",
    "    \n",
    "    train_set = SNLIDataset(train_data, num_steps)\n",
    "    test_set = SNLIDataset(test_data, num_steps)\n",
    "    \n",
    "    train_iter = torch.utils.data.DataLoader(train_set, batch_size, shuffle=True, num_workers=num_workers)\n",
    "    test_iter = torch.utils.data.DataLoader(test_set, batch_size, shuffle=False, num_workers=num_workers)\n",
    "    return train_iter, test_iter, train_set.vocab\n",
    "\n",
    "\n",
    "train_iter, test_iter, vocab = load_data_snli(128, 50)"
   ]
  },
  {
   "cell_type": "code",
   "execution_count": 22,
   "id": "c5c9bc6f-fa2b-463e-adfe-129cdb4f634d",
   "metadata": {},
   "outputs": [
    {
     "name": "stdout",
     "output_type": "stream",
     "text": [
      "torch.Size([128, 50])\n",
      "torch.Size([128, 50])\n",
      "torch.Size([128])\n",
      "tensor([1, 0, 1, 2, 2])\n"
     ]
    }
   ],
   "source": [
    "for X, Y in train_iter:\n",
    "    print(X[0].shape)\n",
    "    print(X[1].shape)\n",
    "    print(Y.shape)\n",
    "    print(Y[0:5])\n",
    "    break"
   ]
  },
  {
   "cell_type": "markdown",
   "id": "a462ef38-5314-45b1-ae21-a745200eac1f",
   "metadata": {},
   "source": []
  }
 ],
 "metadata": {
  "kernelspec": {
   "display_name": "Python 3 (ipykernel)",
   "language": "python",
   "name": "python3"
  },
  "language_info": {
   "codemirror_mode": {
    "name": "ipython",
    "version": 3
   },
   "file_extension": ".py",
   "mimetype": "text/x-python",
   "name": "python",
   "nbconvert_exporter": "python",
   "pygments_lexer": "ipython3",
   "version": "3.8.13"
  }
 },
 "nbformat": 4,
 "nbformat_minor": 5
}
