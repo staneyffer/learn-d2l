{
 "cells": [
  {
   "cell_type": "markdown",
   "id": "f2b2fe87-a527-4cb0-8a13-38bc83b21410",
   "metadata": {},
   "source": [
    "## BERT代码实现\n",
    "\n",
    "## Bidirectional Encoder Representations from Transformers(BERT)"
   ]
  },
  {
   "cell_type": "code",
   "execution_count": 18,
   "id": "0e9d11d7-edcb-4ecc-8f46-1b716fe49e08",
   "metadata": {},
   "outputs": [],
   "source": [
    "import torch\n",
    "from torch import nn\n",
    "from d2l import torch as d2l"
   ]
  },
  {
   "cell_type": "markdown",
   "id": "df2fe49a-223c-4a3e-b996-424a79feff81",
   "metadata": {},
   "source": [
    "## Input Represention"
   ]
  },
  {
   "cell_type": "code",
   "execution_count": 19,
   "id": "9f58f5fb-ed69-4d0c-8aa6-671bae582235",
   "metadata": {},
   "outputs": [],
   "source": [
    "def get_tokens_and_segments(tokens_a, tokens_b = None):\n",
    "    tokens = ['<cls>'] + tokens_a + ['<sep>']\n",
    "    segments = [0] * (len(tokens_a) + 2)\n",
    "    if tokens_b is not None:\n",
    "        tokens += tokens_b + ['<sep>']\n",
    "        segments += [1] * (len(tokens_b) + 1)\n",
    "    return tokens, segments"
   ]
  },
  {
   "cell_type": "code",
   "execution_count": 63,
   "id": "eff46ab3-44c6-46f5-aa05-897a5de231a9",
   "metadata": {},
   "outputs": [
    {
     "data": {
      "text/plain": [
       "(['<cls>', 'hello', 'world', '<sep>', 'good', '<sep>'], [0, 0, 0, 0, 1, 1])"
      ]
     },
     "execution_count": 63,
     "metadata": {},
     "output_type": "execute_result"
    }
   ],
   "source": [
    "get_tokens_and_segments([\"hello\", \"world\"])\n",
    "get_tokens_and_segments([\"hello\", \"world\"], [\"good\"])"
   ]
  },
  {
   "cell_type": "markdown",
   "id": "53007c84-8f57-4d22-b369-9554681d8c61",
   "metadata": {},
   "source": [
    "## ```BERTEncoder``` class"
   ]
  },
  {
   "cell_type": "code",
   "execution_count": 20,
   "id": "693f71ac-ecab-4b06-a028-e4bb92e245ac",
   "metadata": {},
   "outputs": [],
   "source": [
    "class BERTEncoder(nn.Module):\n",
    "    def __init__(self, vocab_size, num_hiddens, norm_shape, ffn_num_input,\n",
    "                 ffn_num_hiddens, num_heads, num_layers, dropout, \n",
    "                 max_len=1000, key_size=768, query_size=768, value_size=768, **kwargs):\n",
    "        super(BERTEncoder, self).__init__(**kwargs)\n",
    "        self.token_embedding = nn.Embedding(vocab_size, num_hiddens)\n",
    "        # 给句子标号的片段,给句子对标号\n",
    "        self.segment_embedding = nn.Embedding(2, num_hiddens)\n",
    "        self.blks = nn.Sequential()\n",
    "        for i in range(num_layers):\n",
    "            self.blks.add_module(f\"{i}\", d2l.EncoderBlock(\n",
    "                key_size, query_size, value_size, num_hiddens, norm_shape,\n",
    "                ffn_num_input, ffn_num_hiddens, num_heads, dropout, True))\n",
    "        # 在BERT中，位置嵌入是可学习的，因此我们创建一个足够长的位置嵌入参数\n",
    "        # size(batch_size, 最大序列长度，隐藏层大小）\n",
    "        self.pos_embedding = nn.Parameter(torch.randn(1, max_len,\n",
    "                                                      num_hiddens))\n",
    "\n",
    "    def forward(self, tokens, segments, valid_lens):\n",
    "        # 在以下代码段中，X的形状保持不变：（批量大小，最大序列长度，num_hiddens）\n",
    "        X = self.token_embedding(tokens) + self.segment_embedding(segments)\n",
    "        X = X + self.pos_embedding.data[:, :X.shape[1], :]\n",
    "        for blk in self.blks:\n",
    "            X = blk(X, valid_lens)\n",
    "        return X\n",
    "        "
   ]
  },
  {
   "cell_type": "markdown",
   "id": "5ac3c458-6ce6-403b-b743-d7470f361172",
   "metadata": {},
   "source": [
    "## Inference of ```BERTEncoder```\n",
    "将句子中的每一个词抽取出一个```num_hiddens```的向量特征"
   ]
  },
  {
   "cell_type": "code",
   "execution_count": 24,
   "id": "9547253c-d4ce-4b61-81bb-ae09827fe9cc",
   "metadata": {},
   "outputs": [
    {
     "data": {
      "text/plain": [
       "torch.Size([2, 8, 768])"
      ]
     },
     "execution_count": 24,
     "metadata": {},
     "output_type": "execute_result"
    }
   ],
   "source": [
    "vocab_size, num_hiddens, ffn_num_hiddens, num_heads = 10000, 768, 1024, 4\n",
    "norm_shape, ffn_num_input, num_layers, dropout = [768], 768, 2, 0.2\n",
    "encoder = BERTEncoder(vocab_size, num_hiddens, norm_shape, ffn_num_input,\n",
    "                      ffn_num_hiddens, num_heads, num_layers, dropout)\n",
    "\n",
    "tokens = torch.randint(0, vocab_size, (2, 8))\n",
    "segments = torch.tensor([[0, 0, 0, 0, 1, 1, 1, 1], [0, 0, 0, 1, 1, 1, 1, 1]])\n",
    "encoded_X = encoder(tokens, segments, None)\n",
    "# (batch_size, 句子长度, num_hiddens)\n",
    "encoded_X.shape"
   ]
  },
  {
   "cell_type": "markdown",
   "id": "a0979432-852e-49cb-a5dc-3e4721c0d03b",
   "metadata": {},
   "source": [
    "## Masked Language Modeling"
   ]
  },
  {
   "cell_type": "code",
   "execution_count": 27,
   "id": "000da223-d05f-4a49-8047-84259ac40808",
   "metadata": {},
   "outputs": [],
   "source": [
    "class MaskLM(nn.Module):\n",
    "    \"\"\"\n",
    "    The masked language model task of BERT\n",
    "    这是BERT之上接的单隐藏层的MLP\n",
    "    \"\"\"\n",
    "    def __init__(self, vocab_size, num_hiddens, num_inputs=768, **kwargs):\n",
    "        super(MaskLM, self).__init__(**kwargs)\n",
    "        self.mlp = nn.Sequential(\n",
    "            # 先使用一个全连接层\n",
    "            nn.Linear(num_inputs, num_hiddens),\n",
    "            nn.ReLU(),\n",
    "            nn.LayerNorm(num_hiddens),\n",
    "            # 再用一个全连接层，输出长度为vocab_size： 这是因为需要对每个词进行预测，看它是哪个词\n",
    "            nn.Linear(num_hiddens, vocab_size))\n",
    "        \n",
    "    def forward(self, X, pred_positions):\n",
    "        # 它需要两个输入：BERTEncoder的编码结果和用于预测的词元位置。输出是这些位置的预测结果。\n",
    "        # X是给定的句子里面，BERTEncoder的输出，size：（批量大小，样本大小，num_hiddens）\n",
    "        # pred_positions: 哪些词是加了Mask的，即告诉我们，需要预测哪些词\n",
    "        # pred_positions size (样本数量，待预测的词的位置)\n",
    "        num_pred_positions = pred_positions.shape[1]\n",
    "        pred_positions = pred_positions.reshape(-1)\n",
    "        batch_size = X.shape[0]\n",
    "        batch_idx = torch.arange(0, batch_size)\n",
    "        # 复制每批的索引\n",
    "        # 假设batch_size=2，num_pred_positions=3\n",
    "        # 那么batch_idx是np.array（[0,0,0,1,1]）\n",
    "        batch_idx = torch.repeat_interleave(batch_idx, num_pred_positions)\n",
    "        masked_X = X[batch_idx, pred_positions]\n",
    "        masked_X = masked_X.reshape((batch_size, num_pred_positions, -1))\n",
    "        mlp_Y_hat = self.mlp(masked_X)\n",
    "        return mlp_Y_hat\n",
    "        \n",
    "        "
   ]
  },
  {
   "cell_type": "code",
   "execution_count": 26,
   "id": "089d478f-d3aa-4b89-9a12-1521d5c9ee9e",
   "metadata": {},
   "outputs": [
    {
     "data": {
      "text/plain": [
       "(tensor([0, 1]), tensor([0, 0, 0, 0, 1, 1, 1, 1]))"
      ]
     },
     "execution_count": 26,
     "metadata": {},
     "output_type": "execute_result"
    }
   ],
   "source": [
    "t = torch.arange(0, 2)\n",
    "t, torch.repeat_interleave(t, 4)"
   ]
  },
  {
   "cell_type": "markdown",
   "id": "ab5f6c7a-e291-4670-b134-4ba86ee9c880",
   "metadata": {},
   "source": [
    "## The forward inference of ```MaskLM```"
   ]
  },
  {
   "cell_type": "code",
   "execution_count": 32,
   "id": "da75c8b7-e337-4ad9-986d-1d6ec191f9bb",
   "metadata": {},
   "outputs": [
    {
     "data": {
      "text/plain": [
       "(torch.Size([2, 3]), torch.Size([2, 3, 10000]))"
      ]
     },
     "execution_count": 32,
     "metadata": {},
     "output_type": "execute_result"
    }
   ],
   "source": [
    "mlm = MaskLM(vocab_size, num_hiddens)\n",
    "# 第0个句子预测的词的位置[1, 5, 2]\n",
    "mlm_positions = torch.tensor([[1, 5, 2], [6, 1, 5]])\n",
    "mlm_Y_hat = mlm(encoded_X, mlp_positions)\n",
    "# mlm_Y_hat 输出(2, 3, 10000), 其中2是batch_size, 3是预测的词，10000是预测的输出(vocab_size为10000）\n",
    "mlm_positions.shape, mlm_Y_hat.shape"
   ]
  },
  {
   "cell_type": "code",
   "execution_count": 40,
   "id": "c7fdb51b-876d-45a3-aec3-2f920a7308f1",
   "metadata": {},
   "outputs": [
    {
     "data": {
      "text/plain": [
       "torch.Size([6])"
      ]
     },
     "execution_count": 40,
     "metadata": {},
     "output_type": "execute_result"
    }
   ],
   "source": [
    "mlm_Y = torch.tensor([[7, 8, 9], [10, 20, 30]])\n",
    "loss =nn.CrossEntropyLoss(reduction='none')\n",
    "mlm_l = loss(mlm_Y_hat.reshape((-1, vocab_size)), mlm_Y.reshape(-1))\n",
    "mlm_l.shape"
   ]
  },
  {
   "cell_type": "code",
   "execution_count": 44,
   "id": "9dc353ad-850f-418e-8553-7f5e07b15831",
   "metadata": {},
   "outputs": [
    {
     "data": {
      "text/plain": [
       "(torch.Size([6, 10000]), torch.Size([6]))"
      ]
     },
     "execution_count": 44,
     "metadata": {},
     "output_type": "execute_result"
    }
   ],
   "source": [
    "mlm_Y_hat.reshape((-1, vocab_size)).shape, mlm_Y.reshape(-1).shape"
   ]
  },
  {
   "cell_type": "markdown",
   "id": "24c40620-b4c5-4c63-bf8a-938daf62e9d5",
   "metadata": {},
   "source": [
    "## Next Sentence Prediction"
   ]
  },
  {
   "cell_type": "code",
   "execution_count": 45,
   "id": "fce28b04-91e2-4998-80ed-989cf15044b8",
   "metadata": {},
   "outputs": [],
   "source": [
    "class NextSentencePred(nn.Module):\n",
    "    \"\"\"\n",
    "    The next sentence prediction task of BERT\n",
    "    本质就是一个单分类问题\n",
    "    \"\"\"\n",
    "    def __init__(self, num_inputs, **kwargs):\n",
    "        super(NextSentencePred, self).__init__(**kwargs)\n",
    "        self.output = nn.Linear(num_inputs, 2)\n",
    "    \n",
    "    def forward(self, X):\n",
    "        return self.output(X)\n",
    "        "
   ]
  },
  {
   "cell_type": "markdown",
   "id": "7d49ea78-8711-425f-9a7e-b0b590f35fa0",
   "metadata": {},
   "source": [
    "## The forward inference of an ```NextSentencePred```"
   ]
  },
  {
   "cell_type": "code",
   "execution_count": 50,
   "id": "067467d9-61bb-448b-8553-e9b3dae7e26f",
   "metadata": {},
   "outputs": [
    {
     "name": "stdout",
     "output_type": "stream",
     "text": [
      "before torch.Size([2, 8, 768])\n",
      "After torch.Size([2, 6144])\n"
     ]
    },
    {
     "data": {
      "text/plain": [
       "torch.Size([2, 2])"
      ]
     },
     "execution_count": 50,
     "metadata": {},
     "output_type": "execute_result"
    }
   ],
   "source": [
    "print(\"before\", encoded_X.shape)\n",
    "ns_encoded_X = torch.flatten(encoded_X, start_dim=1)\n",
    "print(\"After\", ns_encoded_X.shape)\n",
    "nsp = NextSentencePred(ns_encoded_X.shape[-1])\n",
    "nsp_Y_hat = nsp(ns_encoded_X)\n",
    "nsp_Y_hat.shape"
   ]
  },
  {
   "cell_type": "code",
   "execution_count": 61,
   "id": "27a12659-73a8-4de1-a128-b63a92366f24",
   "metadata": {},
   "outputs": [
    {
     "data": {
      "text/plain": [
       "(torch.Size([2]), tensor([0.7634, 1.0668], grad_fn=<NllLossBackward0>))"
      ]
     },
     "execution_count": 61,
     "metadata": {},
     "output_type": "execute_result"
    }
   ],
   "source": [
    "nsp_y = torch.tensor([0, 1])\n",
    "nsp_l = loss(nsp_Y_hat, nsp_y)\n",
    "nsp_l.shape, nsp_l"
   ]
  },
  {
   "cell_type": "markdown",
   "id": "42f47fd2-6019-4a28-955f-95a24d6df1c3",
   "metadata": {},
   "source": [
    "## BERT模型"
   ]
  },
  {
   "cell_type": "code",
   "execution_count": 62,
   "id": "55021579-a472-4348-979a-f4044d4649a4",
   "metadata": {},
   "outputs": [],
   "source": [
    "class BERTModel(nn.Module):\n",
    "    \n",
    "    def __init__(self, vocab_size, num_hiddens, norm_shape, ffn_num_input,\n",
    "                 ffn_num_hiddens, num_heads, num_layers, dropout,\n",
    "                 max_len=1000, key_size=768, query_size=768, value_size=768,\n",
    "                 hid_in_features=768, mlm_in_features=768,\n",
    "                 nsp_in_features=768):\n",
    "        super(BERTModel, self).__init__()\n",
    "        self.encoder = BERTEncoder(vocab_size, num_hiddens, norm_shape,\n",
    "                                   ffn_num_input, ffn_num_hiddens, num_heads, num_layers,\n",
    "                                   dropout, max_len=max_len, key_size=key_size,\n",
    "                                   query_size=query_size, value_size=value_size)\n",
    "        self.hidden = nn.Sequential(nn.Linear(hid_in_features, num_hiddens), nn.Tanh())\n",
    "        self.mlm = MaskLM(vocab_size, num_hiddens, mlm_in_features)\n",
    "        self.nsp = NextSentencePred(nsp_in_features)\n",
    "        \n",
    "    def forward(self, tokens, segments, valid_lens=None,\n",
    "                pred_positions=None):\n",
    "        \"\"\"\n",
    "        pred_positions为None表示不做语言模型\n",
    "        \"\"\"\n",
    "        # 使用编码器抽取特征\n",
    "        # encoded_X: (批量大小，最大序列长度，num_hiddens）\n",
    "        encoded_X = self.encoder(tokens, segments, valid_lens)\n",
    "        if pred_positions is not None:\n",
    "            # 如果是预测位置\n",
    "            mlm_Y_hat = self.mlm(encoded_X, pred_positions)\n",
    "        else:\n",
    "            mlm_Y_hat = None\n",
    "        # 用于下一句预测的多层感知机分类器的隐藏层，0是“<cls>”标记的索引\n",
    "        nsp_Y_hat = self.nsp(\n",
    "            # 0是句子对中第一个句子的向量\n",
    "            self.hidden(encoded_X[:, 0, :]))\n",
    "        return encoded_X, mlm_Y_hat, nsp_Y_hat"
   ]
  },
  {
   "cell_type": "code",
   "execution_count": null,
   "id": "aa1b8383-eedd-4ec2-93a3-de5c5b611360",
   "metadata": {},
   "outputs": [],
   "source": []
  }
 ],
 "metadata": {
  "kernelspec": {
   "display_name": "Python 3 (ipykernel)",
   "language": "python",
   "name": "python3"
  },
  "language_info": {
   "codemirror_mode": {
    "name": "ipython",
    "version": 3
   },
   "file_extension": ".py",
   "mimetype": "text/x-python",
   "name": "python",
   "nbconvert_exporter": "python",
   "pygments_lexer": "ipython3",
   "version": "3.8.13"
  }
 },
 "nbformat": 4,
 "nbformat_minor": 5
}
