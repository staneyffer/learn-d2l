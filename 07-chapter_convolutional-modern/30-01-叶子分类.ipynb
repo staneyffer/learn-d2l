{
 "cells": [
  {
   "cell_type": "code",
   "execution_count": 1,
   "metadata": {},
   "outputs": [],
   "source": [
    "import torch\n",
    "from torch import nn \n",
    "from torch.nn import functional as F\n",
    "from d2l import torch as d2l\n",
    "import numpy as np\n",
    "import pandas as pd\n",
    "# 参考 https://www.kaggle.com/code/nattoli/simple-resnet-resnext-baseline/notebook"
   ]
  },
  {
   "cell_type": "code",
   "execution_count": 3,
   "metadata": {},
   "outputs": [],
   "source": [
    "# 使用命令行工具下载数据集：\n",
    "# https://github.com/Kaggle/kaggle-api\n",
    "# 还需要配置OpenAPI KEY\n",
    "# https://www.kaggle.com/{user}/account\n",
    "# !kaggle competitions download -c classify-leaves"
   ]
  },
  {
   "cell_type": "code",
   "execution_count": 2,
   "metadata": {},
   "outputs": [],
   "source": [
    "data_file = '../data/ch07-30-classify-leaves'\n",
    "train_file = f'{data_file}/train.csv'\n",
    "test_file = f'{data_file}/test.csv'"
   ]
  },
  {
   "cell_type": "markdown",
   "metadata": {},
   "source": [
    "### 查看训练集label"
   ]
  },
  {
   "cell_type": "code",
   "execution_count": 43,
   "metadata": {},
   "outputs": [
    {
     "data": {
      "text/html": [
       "<div>\n",
       "<style scoped>\n",
       "    .dataframe tbody tr th:only-of-type {\n",
       "        vertical-align: middle;\n",
       "    }\n",
       "\n",
       "    .dataframe tbody tr th {\n",
       "        vertical-align: top;\n",
       "    }\n",
       "\n",
       "    .dataframe thead th {\n",
       "        text-align: right;\n",
       "    }\n",
       "</style>\n",
       "<table border=\"1\" class=\"dataframe\">\n",
       "  <thead>\n",
       "    <tr style=\"text-align: right;\">\n",
       "      <th></th>\n",
       "      <th>image</th>\n",
       "      <th>label</th>\n",
       "    </tr>\n",
       "  </thead>\n",
       "  <tbody>\n",
       "    <tr>\n",
       "      <th>count</th>\n",
       "      <td>18353</td>\n",
       "      <td>18353</td>\n",
       "    </tr>\n",
       "    <tr>\n",
       "      <th>unique</th>\n",
       "      <td>18353</td>\n",
       "      <td>176</td>\n",
       "    </tr>\n",
       "    <tr>\n",
       "      <th>top</th>\n",
       "      <td>images/1081.jpg</td>\n",
       "      <td>maclura_pomifera</td>\n",
       "    </tr>\n",
       "    <tr>\n",
       "      <th>freq</th>\n",
       "      <td>1</td>\n",
       "      <td>353</td>\n",
       "    </tr>\n",
       "  </tbody>\n",
       "</table>\n",
       "</div>"
      ],
      "text/plain": [
       "                  image             label\n",
       "count             18353             18353\n",
       "unique            18353               176\n",
       "top     images/1081.jpg  maclura_pomifera\n",
       "freq                  1               353"
      ]
     },
     "execution_count": 43,
     "metadata": {},
     "output_type": "execute_result"
    }
   ],
   "source": [
    "train_label_file = pd.read_csv(train_file)\n",
    "train_label_file.describe()"
   ]
  },
  {
   "cell_type": "markdown",
   "metadata": {},
   "source": [
    "### 处理索引和标签"
   ]
  },
  {
   "cell_type": "code",
   "execution_count": 54,
   "metadata": {},
   "outputs": [
    {
     "name": "stdout",
     "output_type": "stream",
     "text": [
      "Class number:  176\n"
     ]
    },
    {
     "data": {
      "text/plain": [
       "['abies_concolor',\n",
       " 'abies_nordmanniana',\n",
       " 'acer_campestre',\n",
       " 'acer_ginnala',\n",
       " 'acer_griseum',\n",
       " 'acer_negundo',\n",
       " 'acer_palmatum',\n",
       " 'acer_pensylvanicum',\n",
       " 'acer_platanoides',\n",
       " 'acer_pseudoplatanus']"
      ]
     },
     "execution_count": 54,
     "metadata": {},
     "output_type": "execute_result"
    }
   ],
   "source": [
    "# 对Label去重排序\n",
    "leave_labels = sorted(list(set(train_label_file['label'])))\n",
    "label_count = len(leave_labels)\n",
    "print('Class number: ', label_count)\n",
    "leave_labels[:10]"
   ]
  },
  {
   "cell_type": "code",
   "execution_count": 58,
   "metadata": {},
   "outputs": [],
   "source": [
    "class_to_num = dict(zip(leave_labels, range(label_count)))\n",
    "# 数字映射到类\n",
    "num_to_class = {v: k for k, v in class_to_num.items()}\n"
   ]
  },
  {
   "cell_type": "code",
   "execution_count": null,
   "metadata": {},
   "outputs": [],
   "source": [
    "from torch.utils.data import Dataset\n",
    "\n",
    "class LeavesDataset(Dataset):\n",
    "    def __init__(self, parent, img_path, data_type='train') -> None:\n",
    "        super().__init__()"
   ]
  },
  {
   "cell_type": "code",
   "execution_count": 39,
   "metadata": {},
   "outputs": [
    {
     "name": "stdout",
     "output_type": "stream",
     "text": [
      "torch.Size([64, 3, 224, 224])\n",
      "tensor([170,  45,   7,  74, 168,  59,  25,  70,  79, 130,   6,  12, 168,  31,\n",
      "         62,  69, 170,  85, 126,  22, 173,  12, 120,  78,  24, 124,   5,  92,\n",
      "         77,  72,  42, 160,  74,  72,   6, 125, 137,  40,  72,  27, 132,  81,\n",
      "         95, 149, 111, 173,  99, 175,  12,  33, 133,  47, 162,  57,  78,  32,\n",
      "         40,  23,  15,  28, 156,  36,  10, 127])\n"
     ]
    }
   ],
   "source": [
    "from torchvision import transforms, datasets\n",
    "from torch.utils.data import DataLoader\n",
    "\n",
    "ts = transforms.Compose(\n",
    "    [\n",
    "        transforms.ToTensor()\n",
    "    ]\n",
    ")\n",
    "train_path = path.join(data_file, 'torch', 'train')\n",
    "data_train = datasets.ImageFolder(train_path, transform=ts)\n",
    "data_loader = DataLoader(data_train, batch_size=64, shuffle=True, num_workers=8)\n",
    "\n",
    "for i, data in enumerate(data_loader):\n",
    "    images, labels = data\n",
    "    # print('data.shape', data.shape)\n",
    "    print(images.shape)\n",
    "    print(labels)\n",
    "    break"
   ]
  },
  {
   "cell_type": "markdown",
   "metadata": {},
   "source": [
    "### 实现加载数据的DataSet"
   ]
  },
  {
   "cell_type": "code",
   "execution_count": 5,
   "metadata": {},
   "outputs": [],
   "source": [
    "from torch.utils.data import Dataset\n",
    "from PIL import Image\n",
    "\n",
    "class MyImageDataSet(Dataset):\n",
    "    def __init__(self, parent, img_paths, transform=None) -> None:\n",
    "        super().__init__()\n",
    "        self.parent = parent\n",
    "        self.img_paths = img_paths\n",
    "        self.transform = transform\n",
    "    \n",
    "    def __getitem__(self, index):\n",
    "        image = Image.open(self.img_paths[index])\n",
    "        image = np.array(image)\n",
    "        if self.transform:\n",
    "            self.transform(image)\n",
    "        return image"
   ]
  }
 ],
 "metadata": {
  "kernelspec": {
   "display_name": "Python 3.8.13 ('dl-gpu')",
   "language": "python",
   "name": "python3"
  },
  "language_info": {
   "codemirror_mode": {
    "name": "ipython",
    "version": 3
   },
   "file_extension": ".py",
   "mimetype": "text/x-python",
   "name": "python",
   "nbconvert_exporter": "python",
   "pygments_lexer": "ipython3",
   "version": "3.8.13"
  },
  "orig_nbformat": 4,
  "vscode": {
   "interpreter": {
    "hash": "de355dd609de8900155cc2bd852bd874e6adef6b17c281ccd681085ea1e83e10"
   }
  }
 },
 "nbformat": 4,
 "nbformat_minor": 2
}
