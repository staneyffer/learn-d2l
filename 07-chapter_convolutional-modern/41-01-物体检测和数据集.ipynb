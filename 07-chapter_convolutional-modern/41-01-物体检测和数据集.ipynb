{
 "cells": [
  {
   "cell_type": "markdown",
   "id": "7585a816-6858-4b22-b37d-bcf9437c56fb",
   "metadata": {},
   "source": [
    "## 目标检测\n",
    "\n",
    "### 边缘框\n",
    "\n",
    "- 一个边缘框可以通过4个数字定义\n",
    "    - （左上x, 左上y, 右下x，右下y）\n",
    "    - （左上x，左上y，宽、高）\n",
    "    \n",
    "### 目标检测数据集\n",
    "\n",
    "- 每行表示一个物体\n",
    "    - 图片文件名，物体类别，边缘框\n",
    "- COCO(cocodataset.org)\n",
    "    - 80物体，330k图片，1.5M物体\n",
    "   \n",
    "## 总结\n",
    "- 物体检测（目标检测）识别图片里的多个物体的类别和位置\n",
    "- 位置通常用边缘框表示"
   ]
  }
 ],
 "metadata": {
  "kernelspec": {
   "display_name": "Python 3 (ipykernel)",
   "language": "python",
   "name": "python3"
  },
  "language_info": {
   "codemirror_mode": {
    "name": "ipython",
    "version": 3
   },
   "file_extension": ".py",
   "mimetype": "text/x-python",
   "name": "python",
   "nbconvert_exporter": "python",
   "pygments_lexer": "ipython3",
   "version": "3.8.13"
  }
 },
 "nbformat": 4,
 "nbformat_minor": 5
}
