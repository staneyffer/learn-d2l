{
 "cells": [
  {
   "cell_type": "markdown",
   "id": "7bfdd593-69f0-4ddd-9031-c9633d3a0087",
   "metadata": {},
   "source": [
    "## 含并行连接的网络(GoogLeNet)\n",
    "\n",
    "## 最好的卷积层超参数"
   ]
  },
  {
   "cell_type": "code",
   "execution_count": null,
   "id": "c87e22ff-2d99-41d8-9161-d0fa012cd802",
   "metadata": {},
   "outputs": [],
   "source": []
  },
  {
   "cell_type": "code",
   "execution_count": null,
   "id": "ad671ec8-c5d0-4666-9311-fa866ccd0342",
   "metadata": {},
   "outputs": [],
   "source": []
  }
 ],
 "metadata": {
  "kernelspec": {
   "display_name": "Python 3 (ipykernel)",
   "language": "python",
   "name": "python3"
  },
  "language_info": {
   "codemirror_mode": {
    "name": "ipython",
    "version": 3
   },
   "file_extension": ".py",
   "mimetype": "text/x-python",
   "name": "python",
   "nbconvert_exporter": "python",
   "pygments_lexer": "ipython3",
   "version": "3.8.13"
  }
 },
 "nbformat": 4,
 "nbformat_minor": 5
}
