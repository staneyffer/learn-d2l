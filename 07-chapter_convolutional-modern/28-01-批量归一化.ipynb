{
 "cells": [
  {
   "cell_type": "markdown",
   "id": "c90630cd-f1a7-4a45-9772-01262abf7071",
   "metadata": {},
   "source": [
    "## 批量归一化\n",
    "\n",
    "- 数据出现在最后，后面层的训练较快\n",
    "- 数据在最底部\n",
    "    - 底部的层训练较慢\n",
    "    - 底部层一不变化，所有都的跟着变\n",
    "    - 最后的那些层需要重新学习很多次\n",
    "    - 导致收敛变慢\n",
    "- 我们可以在学习底部层的时候避免变化顶部层吗？"
   ]
  },
  {
   "cell_type": "markdown",
   "id": "d29847b9-f74c-48f4-9301-9538503a57e7",
   "metadata": {},
   "source": [
    "## 批量归一化\n",
    "- 固定小批量里面的均值和方差\n",
    "$$\n",
    "\\mu B = \\frac{1}{|B|} \\sum_{i \\in B}x_i  \\\\\n",
    "\\sigma_B^2 = \\frac{1}{|B|} \\sum_{i \\in B}(x_i - \\mu B)^2 + \\epsilon\n",
    "$$\n",
    "\n",
    "然后再过额外的调整（可学习的参数)\n",
    "$$\n",
    "x_{i+1} = \\gamma \\frac{x_i - \\mu B}{\\sigma B} + \\beta\n",
    "$$\n",
    "\n",
    "其中 $\\gamma$是方差，$\\beta$是均值，它们是可以学习的参数"
   ]
  },
  {
   "cell_type": "markdown",
   "id": "6c7de629-b606-42cc-9154-fbdef05ed49a",
   "metadata": {},
   "source": [
    "## 批量归一化层\n",
    "- 可学习的参数为$\\gamma$和$\\beta$\n",
    "- 作用在\n",
    "    - 全连接层和卷积层的输出上，激活函数前\n",
    "    - 全连接层和卷积层输入上\n",
    "- 对全连接层，作用在特征维\n",
    "- 对于卷积维，作用在通道维"
   ]
  },
  {
   "cell_type": "markdown",
   "id": "f7e998a7-1103-47c7-8f7e-d0f872b8fb54",
   "metadata": {},
   "source": [
    "## 批量归一化在做什么？\n",
    "\n",
    "- 最初论文是想用它来减少内部协变量转移\n",
    "- 后续有论文指出它可能就是通过在每个小批量里加入噪音来控制模型复杂度\n",
    "$$\n",
    "x_{i+1} = \\gamma \\frac{x_i - \\hat{\\mu}_B}{\\hat{\\sigma}_B} + \\beta\n",
    "$$\n",
    "\n",
    "其中$\\hat{\\mu}$可能是随机偏移，$\\hat{\\sigma}$可能是随机缩放\n",
    "\n",
    "- 因此没必要跟丢弃法混合使用"
   ]
  },
  {
   "cell_type": "markdown",
   "id": "80c48ca8-b178-47cc-8196-fe831533d1b7",
   "metadata": {},
   "source": [
    "## 总结\n",
    "- 批量归一化固定小批量中的均值和方差，然后学习出合适的偏移和缩放\n",
    "- 可以加速收敛速度，但是一般不改变模型精度"
   ]
  }
 ],
 "metadata": {
  "kernelspec": {
   "display_name": "Python 3 (ipykernel)",
   "language": "python",
   "name": "python3"
  },
  "language_info": {
   "codemirror_mode": {
    "name": "ipython",
    "version": 3
   },
   "file_extension": ".py",
   "mimetype": "text/x-python",
   "name": "python",
   "nbconvert_exporter": "python",
   "pygments_lexer": "ipython3",
   "version": "3.8.13"
  }
 },
 "nbformat": 4,
 "nbformat_minor": 5
}
